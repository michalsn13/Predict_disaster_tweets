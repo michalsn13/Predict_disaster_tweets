{
  "cells": [
    {
      "cell_type": "markdown",
      "metadata": {
        "id": "view-in-github",
        "colab_type": "text"
      },
      "source": [
        "<a href=\"https://colab.research.google.com/github/michalsn13/Predict_disaster_tweets/blob/main/main.ipynb\" target=\"_parent\"><img src=\"https://colab.research.google.com/assets/colab-badge.svg\" alt=\"Open In Colab\"/></a>"
      ]
    },
    {
      "cell_type": "markdown",
      "metadata": {
        "id": "XlLX27TwcLXN"
      },
      "source": [
        "# NN+NLP Project : Predict disaster tweets\n",
        "by Michał Dąbrowski, Pranav Kelkar & Adrian Rodriguez\n",
        "---"
      ]
    },
    {
      "cell_type": "markdown",
      "metadata": {
        "id": "gg9Gf5QbcLXQ"
      },
      "source": [
        "## Timeline\n",
        "\n",
        "- [x] (8 Jun) Preprocess data - Find class distributions, fix errors, etc\n",
        "    - [x] Fix duplicate entries (some entries have same text but different labels)\n",
        "    - [x] Add keywords for all possible tweets?\n",
        "    - [x] Add locations for all possible tweets?\n",
        "- [x] (5 Jun) Find classification models as baselines *(add here if you can think of any)*\n",
        "    - Simple if-else statements by looking at the data? (for eg, `if \"earthquake\" in sentence: return True`)\n",
        "    - Logistic Regression\n",
        "    - Naïve Bayes\n",
        "    - Random Forest(on \"keyword\" and \"location\")\n",
        "    - Clustering (on \"keyword\" and \"location\")\n",
        "    - Linear Support Vector Machine\n",
        "- [x] (12 Jun) Implement baseline classification models\n",
        "    - [x] Naïve Bayes classifier\n",
        "    - [x] Random Forest on `keyword` and `location` (requires data preprocessing)\n",
        "    - [x] XG Boost\n",
        "    - [x] Logistic Regression\n",
        "- [ ] (12 Jun) Implement baseline NLP models\n",
        "    - [x] Reused NLP task\n",
        "    - [x] (12 Jun) Choose a text classification model from [Huggingface](http://huggingface.co)\n",
        "- [x] (14 Jun) Prepare Milestone Presentation\n",
        "- [x] (24 Jun) Implement LSTM\n",
        "- [x] (24 Jun) Implement RNN\n",
        "- [x] (24 Jun) Implement Transfer Learning with BERT\n",
        "- [x] (27 Jun) Prepare Final Presentation and Code\n",
        "\n"
      ]
    },
    {
      "cell_type": "markdown",
      "source": [
        "## Imports"
      ],
      "metadata": {
        "id": "L-4tu-SZeh3B"
      }
    },
    {
      "cell_type": "code",
      "execution_count": null,
      "metadata": {
        "id": "rf7jod_ccLXR"
      },
      "outputs": [],
      "source": [
        "!pip install torchtext==0.10.0\n",
        "!python -m spacy download en_core_web_lg\n",
        "!pip install transformers"
      ]
    },
    {
      "cell_type": "code",
      "execution_count": null,
      "metadata": {
        "id": "8mUoizihcLXS"
      },
      "outputs": [],
      "source": [
        "import html\n",
        "import matplotlib.pyplot as plt\n",
        "import numpy as np\n",
        "import pandas as pd\n",
        "import re\n",
        "import seaborn as sb\n",
        "import sklearn\n",
        "import spacy\n",
        "import torch\n",
        "import torch.nn as nn\n",
        "import torch.nn.functional as F\n",
        "import torch.optim as optim\n",
        "from spacy.util import load_model_from_init_py\n",
        "from sklearn.feature_extraction.text import TfidfVectorizer\n",
        "from sklearn.model_selection import train_test_split\n",
        "from sklearn.naive_bayes import MultinomialNB\n",
        "from sklearn import metrics\n",
        "from xgboost import XGBClassifier\n",
        "from sklearn.linear_model import LogisticRegression\n",
        "from sklearn.feature_extraction.text import CountVectorizer\n",
        "from sklearn.ensemble import RandomForestClassifier\n",
        "from sklearn.preprocessing import OneHotEncoder\n",
        "#from transformers import BertTokenizer\n",
        "#from transformers import BertModel\n",
        "#from transformers import pipeline\n",
        "from torch.optim import Adam\n",
        "#from torchtext.legacy import data\n",
        "from tqdm import tqdm"
      ]
    },
    {
      "cell_type": "markdown",
      "metadata": {
        "id": "fsLUVlascLXT"
      },
      "source": [
        "## Loading data"
      ]
    },
    {
      "cell_type": "code",
      "execution_count": null,
      "metadata": {
        "id": "Mp5W2GZ1c-hs",
        "colab": {
          "base_uri": "https://localhost:8080/"
        },
        "outputId": "223c9cc8-10c0-46da-dcc4-e46697c7bcd7"
      },
      "outputs": [
        {
          "output_type": "stream",
          "name": "stdout",
          "text": [
            "/usr/local/lib/python3.7/dist-packages/gdown/cli.py:131: FutureWarning: Option `--id` was deprecated in version 4.3.1 and will be removed in 5.0. You don't need to pass it anymore to use a file ID.\n",
            "  category=FutureWarning,\n",
            "Downloading...\n",
            "From: https://drive.google.com/uc?id=1-Kxi2yBnu599g3q2vd-wy_OGzhglbShz\n",
            "To: /content/train.csv\n",
            "100% 988k/988k [00:00<00:00, 152MB/s]\n",
            "/usr/local/lib/python3.7/dist-packages/gdown/cli.py:131: FutureWarning: Option `--id` was deprecated in version 4.3.1 and will be removed in 5.0. You don't need to pass it anymore to use a file ID.\n",
            "  category=FutureWarning,\n",
            "Downloading...\n",
            "From: https://drive.google.com/uc?id=196C3_dGtnPPsx81Mh0o7ciurfIlfLkXX\n",
            "To: /content/test.csv\n",
            "100% 421k/421k [00:00<00:00, 131MB/s]\n",
            "/usr/local/lib/python3.7/dist-packages/gdown/cli.py:131: FutureWarning: Option `--id` was deprecated in version 4.3.1 and will be removed in 5.0. You don't need to pass it anymore to use a file ID.\n",
            "  category=FutureWarning,\n",
            "Downloading...\n",
            "From: https://drive.google.com/uc?id=1gNmxORKmFDdJjJpnMZvhytNtj_M-iEAe\n",
            "To: /content/bert_training.pt\n",
            "100% 433M/433M [00:01<00:00, 314MB/s]\n"
          ]
        }
      ],
      "source": [
        "!gdown --id 1-Kxi2yBnu599g3q2vd-wy_OGzhglbShz\n",
        "!gdown --id 196C3_dGtnPPsx81Mh0o7ciurfIlfLkXX\n",
        "!gdown --id 1gNmxORKmFDdJjJpnMZvhytNtj_M-iEAe"
      ]
    },
    {
      "cell_type": "code",
      "execution_count": null,
      "metadata": {
        "id": "VYxR9EotcLXT"
      },
      "outputs": [],
      "source": [
        "train_df = pd.read_csv('train.csv')\n",
        "test_df = pd.read_csv('test.csv')"
      ]
    },
    {
      "cell_type": "code",
      "execution_count": null,
      "metadata": {
        "colab": {
          "base_uri": "https://localhost:8080/"
        },
        "id": "BIg6Nd3ccLXU",
        "outputId": "244e31e3-9edb-44ce-c005-594834bba68e"
      },
      "outputs": [
        {
          "output_type": "execute_result",
          "data": {
            "text/plain": [
              "   id keyword location                                               text  \\\n",
              "0   1     NaN      NaN  Our Deeds are the Reason of this #earthquake M...   \n",
              "1   4     NaN      NaN             Forest fire near La Ronge Sask. Canada   \n",
              "2   5     NaN      NaN  All residents asked to 'shelter in place' are ...   \n",
              "3   6     NaN      NaN  13,000 people receive #wildfires evacuation or...   \n",
              "4   7     NaN      NaN  Just got sent this photo from Ruby #Alaska as ...   \n",
              "\n",
              "   target  \n",
              "0       1  \n",
              "1       1  \n",
              "2       1  \n",
              "3       1  \n",
              "4       1  "
            ],
            "text/html": [
              "\n",
              "  <div id=\"df-7731c7e9-35da-4f18-8882-bbcc18d12dc4\">\n",
              "    <div class=\"colab-df-container\">\n",
              "      <div>\n",
              "<style scoped>\n",
              "    .dataframe tbody tr th:only-of-type {\n",
              "        vertical-align: middle;\n",
              "    }\n",
              "\n",
              "    .dataframe tbody tr th {\n",
              "        vertical-align: top;\n",
              "    }\n",
              "\n",
              "    .dataframe thead th {\n",
              "        text-align: right;\n",
              "    }\n",
              "</style>\n",
              "<table border=\"1\" class=\"dataframe\">\n",
              "  <thead>\n",
              "    <tr style=\"text-align: right;\">\n",
              "      <th></th>\n",
              "      <th>id</th>\n",
              "      <th>keyword</th>\n",
              "      <th>location</th>\n",
              "      <th>text</th>\n",
              "      <th>target</th>\n",
              "    </tr>\n",
              "  </thead>\n",
              "  <tbody>\n",
              "    <tr>\n",
              "      <th>0</th>\n",
              "      <td>1</td>\n",
              "      <td>NaN</td>\n",
              "      <td>NaN</td>\n",
              "      <td>Our Deeds are the Reason of this #earthquake M...</td>\n",
              "      <td>1</td>\n",
              "    </tr>\n",
              "    <tr>\n",
              "      <th>1</th>\n",
              "      <td>4</td>\n",
              "      <td>NaN</td>\n",
              "      <td>NaN</td>\n",
              "      <td>Forest fire near La Ronge Sask. Canada</td>\n",
              "      <td>1</td>\n",
              "    </tr>\n",
              "    <tr>\n",
              "      <th>2</th>\n",
              "      <td>5</td>\n",
              "      <td>NaN</td>\n",
              "      <td>NaN</td>\n",
              "      <td>All residents asked to 'shelter in place' are ...</td>\n",
              "      <td>1</td>\n",
              "    </tr>\n",
              "    <tr>\n",
              "      <th>3</th>\n",
              "      <td>6</td>\n",
              "      <td>NaN</td>\n",
              "      <td>NaN</td>\n",
              "      <td>13,000 people receive #wildfires evacuation or...</td>\n",
              "      <td>1</td>\n",
              "    </tr>\n",
              "    <tr>\n",
              "      <th>4</th>\n",
              "      <td>7</td>\n",
              "      <td>NaN</td>\n",
              "      <td>NaN</td>\n",
              "      <td>Just got sent this photo from Ruby #Alaska as ...</td>\n",
              "      <td>1</td>\n",
              "    </tr>\n",
              "  </tbody>\n",
              "</table>\n",
              "</div>\n",
              "      <button class=\"colab-df-convert\" onclick=\"convertToInteractive('df-7731c7e9-35da-4f18-8882-bbcc18d12dc4')\"\n",
              "              title=\"Convert this dataframe to an interactive table.\"\n",
              "              style=\"display:none;\">\n",
              "        \n",
              "  <svg xmlns=\"http://www.w3.org/2000/svg\" height=\"24px\"viewBox=\"0 0 24 24\"\n",
              "       width=\"24px\">\n",
              "    <path d=\"M0 0h24v24H0V0z\" fill=\"none\"/>\n",
              "    <path d=\"M18.56 5.44l.94 2.06.94-2.06 2.06-.94-2.06-.94-.94-2.06-.94 2.06-2.06.94zm-11 1L8.5 8.5l.94-2.06 2.06-.94-2.06-.94L8.5 2.5l-.94 2.06-2.06.94zm10 10l.94 2.06.94-2.06 2.06-.94-2.06-.94-.94-2.06-.94 2.06-2.06.94z\"/><path d=\"M17.41 7.96l-1.37-1.37c-.4-.4-.92-.59-1.43-.59-.52 0-1.04.2-1.43.59L10.3 9.45l-7.72 7.72c-.78.78-.78 2.05 0 2.83L4 21.41c.39.39.9.59 1.41.59.51 0 1.02-.2 1.41-.59l7.78-7.78 2.81-2.81c.8-.78.8-2.07 0-2.86zM5.41 20L4 18.59l7.72-7.72 1.47 1.35L5.41 20z\"/>\n",
              "  </svg>\n",
              "      </button>\n",
              "      \n",
              "  <style>\n",
              "    .colab-df-container {\n",
              "      display:flex;\n",
              "      flex-wrap:wrap;\n",
              "      gap: 12px;\n",
              "    }\n",
              "\n",
              "    .colab-df-convert {\n",
              "      background-color: #E8F0FE;\n",
              "      border: none;\n",
              "      border-radius: 50%;\n",
              "      cursor: pointer;\n",
              "      display: none;\n",
              "      fill: #1967D2;\n",
              "      height: 32px;\n",
              "      padding: 0 0 0 0;\n",
              "      width: 32px;\n",
              "    }\n",
              "\n",
              "    .colab-df-convert:hover {\n",
              "      background-color: #E2EBFA;\n",
              "      box-shadow: 0px 1px 2px rgba(60, 64, 67, 0.3), 0px 1px 3px 1px rgba(60, 64, 67, 0.15);\n",
              "      fill: #174EA6;\n",
              "    }\n",
              "\n",
              "    [theme=dark] .colab-df-convert {\n",
              "      background-color: #3B4455;\n",
              "      fill: #D2E3FC;\n",
              "    }\n",
              "\n",
              "    [theme=dark] .colab-df-convert:hover {\n",
              "      background-color: #434B5C;\n",
              "      box-shadow: 0px 1px 3px 1px rgba(0, 0, 0, 0.15);\n",
              "      filter: drop-shadow(0px 1px 2px rgba(0, 0, 0, 0.3));\n",
              "      fill: #FFFFFF;\n",
              "    }\n",
              "  </style>\n",
              "\n",
              "      <script>\n",
              "        const buttonEl =\n",
              "          document.querySelector('#df-7731c7e9-35da-4f18-8882-bbcc18d12dc4 button.colab-df-convert');\n",
              "        buttonEl.style.display =\n",
              "          google.colab.kernel.accessAllowed ? 'block' : 'none';\n",
              "\n",
              "        async function convertToInteractive(key) {\n",
              "          const element = document.querySelector('#df-7731c7e9-35da-4f18-8882-bbcc18d12dc4');\n",
              "          const dataTable =\n",
              "            await google.colab.kernel.invokeFunction('convertToInteractive',\n",
              "                                                     [key], {});\n",
              "          if (!dataTable) return;\n",
              "\n",
              "          const docLinkHtml = 'Like what you see? Visit the ' +\n",
              "            '<a target=\"_blank\" href=https://colab.research.google.com/notebooks/data_table.ipynb>data table notebook</a>'\n",
              "            + ' to learn more about interactive tables.';\n",
              "          element.innerHTML = '';\n",
              "          dataTable['output_type'] = 'display_data';\n",
              "          await google.colab.output.renderOutput(dataTable, element);\n",
              "          const docLink = document.createElement('div');\n",
              "          docLink.innerHTML = docLinkHtml;\n",
              "          element.appendChild(docLink);\n",
              "        }\n",
              "      </script>\n",
              "    </div>\n",
              "  </div>\n",
              "  "
            ]
          },
          "metadata": {},
          "execution_count": 76
        }
      ],
      "source": [
        "train_df.head()"
      ]
    },
    {
      "cell_type": "code",
      "execution_count": null,
      "metadata": {
        "colab": {
          "base_uri": "https://localhost:8080/"
        },
        "id": "tlnmTEklcLXU",
        "outputId": "42c4b948-ad29-447a-f8a3-9e0c5e9c9808"
      },
      "outputs": [
        {
          "output_type": "execute_result",
          "data": {
            "text/plain": [
              "   id keyword location                                               text\n",
              "0   0     NaN      NaN                 Just happened a terrible car crash\n",
              "1   2     NaN      NaN  Heard about #earthquake is different cities, s...\n",
              "2   3     NaN      NaN  there is a forest fire at spot pond, geese are...\n",
              "3   9     NaN      NaN           Apocalypse lighting. #Spokane #wildfires\n",
              "4  11     NaN      NaN      Typhoon Soudelor kills 28 in China and Taiwan"
            ],
            "text/html": [
              "\n",
              "  <div id=\"df-835f8daf-d0e3-4bc0-af58-70805e6e72a0\">\n",
              "    <div class=\"colab-df-container\">\n",
              "      <div>\n",
              "<style scoped>\n",
              "    .dataframe tbody tr th:only-of-type {\n",
              "        vertical-align: middle;\n",
              "    }\n",
              "\n",
              "    .dataframe tbody tr th {\n",
              "        vertical-align: top;\n",
              "    }\n",
              "\n",
              "    .dataframe thead th {\n",
              "        text-align: right;\n",
              "    }\n",
              "</style>\n",
              "<table border=\"1\" class=\"dataframe\">\n",
              "  <thead>\n",
              "    <tr style=\"text-align: right;\">\n",
              "      <th></th>\n",
              "      <th>id</th>\n",
              "      <th>keyword</th>\n",
              "      <th>location</th>\n",
              "      <th>text</th>\n",
              "    </tr>\n",
              "  </thead>\n",
              "  <tbody>\n",
              "    <tr>\n",
              "      <th>0</th>\n",
              "      <td>0</td>\n",
              "      <td>NaN</td>\n",
              "      <td>NaN</td>\n",
              "      <td>Just happened a terrible car crash</td>\n",
              "    </tr>\n",
              "    <tr>\n",
              "      <th>1</th>\n",
              "      <td>2</td>\n",
              "      <td>NaN</td>\n",
              "      <td>NaN</td>\n",
              "      <td>Heard about #earthquake is different cities, s...</td>\n",
              "    </tr>\n",
              "    <tr>\n",
              "      <th>2</th>\n",
              "      <td>3</td>\n",
              "      <td>NaN</td>\n",
              "      <td>NaN</td>\n",
              "      <td>there is a forest fire at spot pond, geese are...</td>\n",
              "    </tr>\n",
              "    <tr>\n",
              "      <th>3</th>\n",
              "      <td>9</td>\n",
              "      <td>NaN</td>\n",
              "      <td>NaN</td>\n",
              "      <td>Apocalypse lighting. #Spokane #wildfires</td>\n",
              "    </tr>\n",
              "    <tr>\n",
              "      <th>4</th>\n",
              "      <td>11</td>\n",
              "      <td>NaN</td>\n",
              "      <td>NaN</td>\n",
              "      <td>Typhoon Soudelor kills 28 in China and Taiwan</td>\n",
              "    </tr>\n",
              "  </tbody>\n",
              "</table>\n",
              "</div>\n",
              "      <button class=\"colab-df-convert\" onclick=\"convertToInteractive('df-835f8daf-d0e3-4bc0-af58-70805e6e72a0')\"\n",
              "              title=\"Convert this dataframe to an interactive table.\"\n",
              "              style=\"display:none;\">\n",
              "        \n",
              "  <svg xmlns=\"http://www.w3.org/2000/svg\" height=\"24px\"viewBox=\"0 0 24 24\"\n",
              "       width=\"24px\">\n",
              "    <path d=\"M0 0h24v24H0V0z\" fill=\"none\"/>\n",
              "    <path d=\"M18.56 5.44l.94 2.06.94-2.06 2.06-.94-2.06-.94-.94-2.06-.94 2.06-2.06.94zm-11 1L8.5 8.5l.94-2.06 2.06-.94-2.06-.94L8.5 2.5l-.94 2.06-2.06.94zm10 10l.94 2.06.94-2.06 2.06-.94-2.06-.94-.94-2.06-.94 2.06-2.06.94z\"/><path d=\"M17.41 7.96l-1.37-1.37c-.4-.4-.92-.59-1.43-.59-.52 0-1.04.2-1.43.59L10.3 9.45l-7.72 7.72c-.78.78-.78 2.05 0 2.83L4 21.41c.39.39.9.59 1.41.59.51 0 1.02-.2 1.41-.59l7.78-7.78 2.81-2.81c.8-.78.8-2.07 0-2.86zM5.41 20L4 18.59l7.72-7.72 1.47 1.35L5.41 20z\"/>\n",
              "  </svg>\n",
              "      </button>\n",
              "      \n",
              "  <style>\n",
              "    .colab-df-container {\n",
              "      display:flex;\n",
              "      flex-wrap:wrap;\n",
              "      gap: 12px;\n",
              "    }\n",
              "\n",
              "    .colab-df-convert {\n",
              "      background-color: #E8F0FE;\n",
              "      border: none;\n",
              "      border-radius: 50%;\n",
              "      cursor: pointer;\n",
              "      display: none;\n",
              "      fill: #1967D2;\n",
              "      height: 32px;\n",
              "      padding: 0 0 0 0;\n",
              "      width: 32px;\n",
              "    }\n",
              "\n",
              "    .colab-df-convert:hover {\n",
              "      background-color: #E2EBFA;\n",
              "      box-shadow: 0px 1px 2px rgba(60, 64, 67, 0.3), 0px 1px 3px 1px rgba(60, 64, 67, 0.15);\n",
              "      fill: #174EA6;\n",
              "    }\n",
              "\n",
              "    [theme=dark] .colab-df-convert {\n",
              "      background-color: #3B4455;\n",
              "      fill: #D2E3FC;\n",
              "    }\n",
              "\n",
              "    [theme=dark] .colab-df-convert:hover {\n",
              "      background-color: #434B5C;\n",
              "      box-shadow: 0px 1px 3px 1px rgba(0, 0, 0, 0.15);\n",
              "      filter: drop-shadow(0px 1px 2px rgba(0, 0, 0, 0.3));\n",
              "      fill: #FFFFFF;\n",
              "    }\n",
              "  </style>\n",
              "\n",
              "      <script>\n",
              "        const buttonEl =\n",
              "          document.querySelector('#df-835f8daf-d0e3-4bc0-af58-70805e6e72a0 button.colab-df-convert');\n",
              "        buttonEl.style.display =\n",
              "          google.colab.kernel.accessAllowed ? 'block' : 'none';\n",
              "\n",
              "        async function convertToInteractive(key) {\n",
              "          const element = document.querySelector('#df-835f8daf-d0e3-4bc0-af58-70805e6e72a0');\n",
              "          const dataTable =\n",
              "            await google.colab.kernel.invokeFunction('convertToInteractive',\n",
              "                                                     [key], {});\n",
              "          if (!dataTable) return;\n",
              "\n",
              "          const docLinkHtml = 'Like what you see? Visit the ' +\n",
              "            '<a target=\"_blank\" href=https://colab.research.google.com/notebooks/data_table.ipynb>data table notebook</a>'\n",
              "            + ' to learn more about interactive tables.';\n",
              "          element.innerHTML = '';\n",
              "          dataTable['output_type'] = 'display_data';\n",
              "          await google.colab.output.renderOutput(dataTable, element);\n",
              "          const docLink = document.createElement('div');\n",
              "          docLink.innerHTML = docLinkHtml;\n",
              "          element.appendChild(docLink);\n",
              "        }\n",
              "      </script>\n",
              "    </div>\n",
              "  </div>\n",
              "  "
            ]
          },
          "metadata": {},
          "execution_count": 77
        }
      ],
      "source": [
        "test_df.head()"
      ]
    },
    {
      "cell_type": "markdown",
      "metadata": {
        "id": "tmIjIb68cLXU"
      },
      "source": [
        "## Data cleaning"
      ]
    },
    {
      "cell_type": "markdown",
      "metadata": {
        "id": "MSjaK8R9cLXV"
      },
      "source": [
        "Some texts occur multiple times, so we delete the duplicates and set the target of the remaining ones as the rounded mean target of all occurrences. If the mean was 0.5 (eg. if we have 2 occurrences, one with target==1 and another with target==0), we delete all occurrences of that text because we cannot decide what target should it have."
      ]
    },
    {
      "cell_type": "code",
      "execution_count": null,
      "metadata": {
        "colab": {
          "base_uri": "https://localhost:8080/"
        },
        "id": "oHnPn_bxcLXV",
        "outputId": "cebed88e-9b7e-4c1d-f60b-d00a17e2f2f4"
      },
      "outputs": [
        {
          "output_type": "stream",
          "name": "stdout",
          "text": [
            "Deleted 24 rows due to unclear target.\n"
          ]
        }
      ],
      "source": [
        "multiples = train_df.loc[:,['id','text','target']].groupby('text').agg({\"id\": lambda x: x.nunique(),\"target\": lambda x: sum(x)/len(x)})\n",
        "multiples = multiples[multiples['id']>1] #more than 1 occurance of given text\n",
        "to_delete = multiples[multiples['target']==0.5] #texts with exactly 50% of occurances having target==1 (hard to qualify)\n",
        "\n",
        "print(f\"Deleted {to_delete['id'].sum()} rows due to unclear target.\") \n",
        "train_df = train_df[~train_df['text'].isin(to_delete.index)]\n",
        "multiples = multiples[multiples['target']!=0.5]"
      ]
    },
    {
      "cell_type": "code",
      "execution_count": null,
      "metadata": {
        "colab": {
          "base_uri": "https://localhost:8080/"
        },
        "id": "BMqLHK9fcLXV",
        "outputId": "1df7ff07-4845-4ed1-b368-522b342c66e7"
      },
      "outputs": [
        {
          "output_type": "stream",
          "name": "stdout",
          "text": [
            "We deleted 96 rows of duplicate texts.\n"
          ]
        }
      ],
      "source": [
        "multiples['rounded_target'] = multiples['target'].round()\n",
        "print(f\"We deleted {multiples['id'].sum()-multiples['id'].count()} rows of duplicate texts.\")\n",
        "train_df = train_df.drop_duplicates(subset=['text'])\n",
        "for t in multiples.index:\n",
        "    train_df.loc[train_df['text']==t,'target']=float(multiples.loc[multiples.index==t,'rounded_target'])"
      ]
    },
    {
      "cell_type": "markdown",
      "metadata": {
        "id": "nusKSbRLcLXW"
      },
      "source": [
        "Fixing html escape symbols (fe '%20' instead of ' ')"
      ]
    },
    {
      "cell_type": "code",
      "execution_count": null,
      "metadata": {
        "colab": {
          "base_uri": "https://localhost:8080/"
        },
        "id": "AWrCqEvmcLXW",
        "outputId": "878836cc-b486-4840-896f-9969572126e6"
      },
      "outputs": [
        {
          "output_type": "execute_result",
          "data": {
            "text/plain": [
              "   id keyword location                                               text  \\\n",
              "0   1     NaN      NaN  Our Deeds are the Reason of this #earthquake M...   \n",
              "1   4     NaN      NaN             Forest fire near La Ronge Sask. Canada   \n",
              "2   5     NaN      NaN  All residents asked to 'shelter in place' are ...   \n",
              "3   6     NaN      NaN  13,000 people receive #wildfires evacuation or...   \n",
              "4   7     NaN      NaN  Just got sent this photo from Ruby #Alaska as ...   \n",
              "\n",
              "   target  \n",
              "0       1  \n",
              "1       1  \n",
              "2       1  \n",
              "3       1  \n",
              "4       1  "
            ],
            "text/html": [
              "\n",
              "  <div id=\"df-465ba818-e476-4416-b651-037608cf1fe4\">\n",
              "    <div class=\"colab-df-container\">\n",
              "      <div>\n",
              "<style scoped>\n",
              "    .dataframe tbody tr th:only-of-type {\n",
              "        vertical-align: middle;\n",
              "    }\n",
              "\n",
              "    .dataframe tbody tr th {\n",
              "        vertical-align: top;\n",
              "    }\n",
              "\n",
              "    .dataframe thead th {\n",
              "        text-align: right;\n",
              "    }\n",
              "</style>\n",
              "<table border=\"1\" class=\"dataframe\">\n",
              "  <thead>\n",
              "    <tr style=\"text-align: right;\">\n",
              "      <th></th>\n",
              "      <th>id</th>\n",
              "      <th>keyword</th>\n",
              "      <th>location</th>\n",
              "      <th>text</th>\n",
              "      <th>target</th>\n",
              "    </tr>\n",
              "  </thead>\n",
              "  <tbody>\n",
              "    <tr>\n",
              "      <th>0</th>\n",
              "      <td>1</td>\n",
              "      <td>NaN</td>\n",
              "      <td>NaN</td>\n",
              "      <td>Our Deeds are the Reason of this #earthquake M...</td>\n",
              "      <td>1</td>\n",
              "    </tr>\n",
              "    <tr>\n",
              "      <th>1</th>\n",
              "      <td>4</td>\n",
              "      <td>NaN</td>\n",
              "      <td>NaN</td>\n",
              "      <td>Forest fire near La Ronge Sask. Canada</td>\n",
              "      <td>1</td>\n",
              "    </tr>\n",
              "    <tr>\n",
              "      <th>2</th>\n",
              "      <td>5</td>\n",
              "      <td>NaN</td>\n",
              "      <td>NaN</td>\n",
              "      <td>All residents asked to 'shelter in place' are ...</td>\n",
              "      <td>1</td>\n",
              "    </tr>\n",
              "    <tr>\n",
              "      <th>3</th>\n",
              "      <td>6</td>\n",
              "      <td>NaN</td>\n",
              "      <td>NaN</td>\n",
              "      <td>13,000 people receive #wildfires evacuation or...</td>\n",
              "      <td>1</td>\n",
              "    </tr>\n",
              "    <tr>\n",
              "      <th>4</th>\n",
              "      <td>7</td>\n",
              "      <td>NaN</td>\n",
              "      <td>NaN</td>\n",
              "      <td>Just got sent this photo from Ruby #Alaska as ...</td>\n",
              "      <td>1</td>\n",
              "    </tr>\n",
              "  </tbody>\n",
              "</table>\n",
              "</div>\n",
              "      <button class=\"colab-df-convert\" onclick=\"convertToInteractive('df-465ba818-e476-4416-b651-037608cf1fe4')\"\n",
              "              title=\"Convert this dataframe to an interactive table.\"\n",
              "              style=\"display:none;\">\n",
              "        \n",
              "  <svg xmlns=\"http://www.w3.org/2000/svg\" height=\"24px\"viewBox=\"0 0 24 24\"\n",
              "       width=\"24px\">\n",
              "    <path d=\"M0 0h24v24H0V0z\" fill=\"none\"/>\n",
              "    <path d=\"M18.56 5.44l.94 2.06.94-2.06 2.06-.94-2.06-.94-.94-2.06-.94 2.06-2.06.94zm-11 1L8.5 8.5l.94-2.06 2.06-.94-2.06-.94L8.5 2.5l-.94 2.06-2.06.94zm10 10l.94 2.06.94-2.06 2.06-.94-2.06-.94-.94-2.06-.94 2.06-2.06.94z\"/><path d=\"M17.41 7.96l-1.37-1.37c-.4-.4-.92-.59-1.43-.59-.52 0-1.04.2-1.43.59L10.3 9.45l-7.72 7.72c-.78.78-.78 2.05 0 2.83L4 21.41c.39.39.9.59 1.41.59.51 0 1.02-.2 1.41-.59l7.78-7.78 2.81-2.81c.8-.78.8-2.07 0-2.86zM5.41 20L4 18.59l7.72-7.72 1.47 1.35L5.41 20z\"/>\n",
              "  </svg>\n",
              "      </button>\n",
              "      \n",
              "  <style>\n",
              "    .colab-df-container {\n",
              "      display:flex;\n",
              "      flex-wrap:wrap;\n",
              "      gap: 12px;\n",
              "    }\n",
              "\n",
              "    .colab-df-convert {\n",
              "      background-color: #E8F0FE;\n",
              "      border: none;\n",
              "      border-radius: 50%;\n",
              "      cursor: pointer;\n",
              "      display: none;\n",
              "      fill: #1967D2;\n",
              "      height: 32px;\n",
              "      padding: 0 0 0 0;\n",
              "      width: 32px;\n",
              "    }\n",
              "\n",
              "    .colab-df-convert:hover {\n",
              "      background-color: #E2EBFA;\n",
              "      box-shadow: 0px 1px 2px rgba(60, 64, 67, 0.3), 0px 1px 3px 1px rgba(60, 64, 67, 0.15);\n",
              "      fill: #174EA6;\n",
              "    }\n",
              "\n",
              "    [theme=dark] .colab-df-convert {\n",
              "      background-color: #3B4455;\n",
              "      fill: #D2E3FC;\n",
              "    }\n",
              "\n",
              "    [theme=dark] .colab-df-convert:hover {\n",
              "      background-color: #434B5C;\n",
              "      box-shadow: 0px 1px 3px 1px rgba(0, 0, 0, 0.15);\n",
              "      filter: drop-shadow(0px 1px 2px rgba(0, 0, 0, 0.3));\n",
              "      fill: #FFFFFF;\n",
              "    }\n",
              "  </style>\n",
              "\n",
              "      <script>\n",
              "        const buttonEl =\n",
              "          document.querySelector('#df-465ba818-e476-4416-b651-037608cf1fe4 button.colab-df-convert');\n",
              "        buttonEl.style.display =\n",
              "          google.colab.kernel.accessAllowed ? 'block' : 'none';\n",
              "\n",
              "        async function convertToInteractive(key) {\n",
              "          const element = document.querySelector('#df-465ba818-e476-4416-b651-037608cf1fe4');\n",
              "          const dataTable =\n",
              "            await google.colab.kernel.invokeFunction('convertToInteractive',\n",
              "                                                     [key], {});\n",
              "          if (!dataTable) return;\n",
              "\n",
              "          const docLinkHtml = 'Like what you see? Visit the ' +\n",
              "            '<a target=\"_blank\" href=https://colab.research.google.com/notebooks/data_table.ipynb>data table notebook</a>'\n",
              "            + ' to learn more about interactive tables.';\n",
              "          element.innerHTML = '';\n",
              "          dataTable['output_type'] = 'display_data';\n",
              "          await google.colab.output.renderOutput(dataTable, element);\n",
              "          const docLink = document.createElement('div');\n",
              "          docLink.innerHTML = docLinkHtml;\n",
              "          element.appendChild(docLink);\n",
              "        }\n",
              "      </script>\n",
              "    </div>\n",
              "  </div>\n",
              "  "
            ]
          },
          "metadata": {},
          "execution_count": 169
        }
      ],
      "source": [
        "train_df = train_df.apply(lambda x: html.unescape(x))\n",
        "train_df.head()"
      ]
    },
    {
      "cell_type": "markdown",
      "metadata": {
        "id": "WTyUTwgwcLXW"
      },
      "source": [
        "Deleting tags and special characters from data"
      ]
    },
    {
      "cell_type": "code",
      "execution_count": null,
      "metadata": {
        "id": "05LPCnt3cLXW"
      },
      "outputs": [],
      "source": [
        "#delete tags\n",
        "train_df['text_clean'] = train_df['text'].replace('@[a-zA-Z0-9-_]+','', regex=True)\n",
        "train_df['location_clean'] = train_df['location'].replace('@[a-zA-Z0-9-_]+','', regex=True)\n",
        "train_df['keyword'] = train_df['keyword'].replace('@[a-zA-Z0-9-_]+','', regex=True)\n",
        "#delete links\n",
        "train_df['text_clean'] = train_df['text_clean'].replace(r\"\\S*https?:\\S*\",'',regex=True)\n",
        "def special_char_delete(line,non_special=r\"[^a-zA-Z0-9 \\_\\-\\']\"):\n",
        "    if not pd.isnull(line):\n",
        "        r = re.compile(non_special)\n",
        "        return r.sub('', line)\n",
        "    return line\n",
        "#delete special characters, lower all characters and strip extra spaces\n",
        "train_df['text_clean'] = train_df['text_clean'].apply(special_char_delete).str.lower().str.strip()\n",
        "train_df['location_clean'] = train_df['location'].apply(special_char_delete).str.lower().str.strip()\n",
        "train_df['keyword'] = train_df['keyword'].apply(special_char_delete).str.lower().str.strip()"
      ]
    },
    {
      "cell_type": "markdown",
      "metadata": {
        "id": "VVYUph4CcLXW"
      },
      "source": [
        "### Adding extra columns\n",
        "In this section, we create more columns just based on the given text, in hopes of creating useful features."
      ]
    },
    {
      "cell_type": "markdown",
      "source": [
        "####Hashtags column"
      ],
      "metadata": {
        "id": "ncRhFGuNe5DF"
      }
    },
    {
      "cell_type": "code",
      "execution_count": null,
      "metadata": {
        "id": "YDFOAfJ-cLXX"
      },
      "outputs": [],
      "source": [
        "def hash_finder(x):\n",
        "    result=re.findall(r'#([a-zA-Z0-9]+)',x)\n",
        "    if result:\n",
        "        return \"_\".join(result)\n",
        "    else:\n",
        "        return np.NaN\n",
        "train_df['hashtags']=train_df['text'].str.lower().apply(hash_finder)"
      ]
    },
    {
      "cell_type": "markdown",
      "metadata": {
        "id": "oDFuZZ1TcLXX"
      },
      "source": [
        "####New keywords columns"
      ]
    },
    {
      "cell_type": "markdown",
      "metadata": {
        "id": "mv4JpEHzcLXX"
      },
      "source": [
        "Keywords (using pre-filled)\n",
        "\n",
        "Here we add keywords to the NaN column by finding already existing keywords in the current text."
      ]
    },
    {
      "cell_type": "code",
      "execution_count": null,
      "metadata": {
        "id": "kRqlbKUqcLXX"
      },
      "outputs": [],
      "source": [
        "no_keyword = train_df['keyword'].isna()"
      ]
    },
    {
      "cell_type": "code",
      "execution_count": null,
      "metadata": {
        "id": "RMWFE3VjcLXX"
      },
      "outputs": [],
      "source": [
        "def finder(text,words_from):\n",
        "    result=\"-\".join(list(set(text).intersection(words_from)))\n",
        "    if result:\n",
        "        return result\n",
        "    else:\n",
        "        return np.NaN"
      ]
    },
    {
      "cell_type": "code",
      "execution_count": null,
      "metadata": {
        "id": "zeNDB-ThcLXX"
      },
      "outputs": [],
      "source": [
        "all_keywords = set(train_df['keyword'].dropna()).intersection(set([''])) #Unique keywords"
      ]
    },
    {
      "cell_type": "code",
      "execution_count": null,
      "metadata": {
        "id": "oEGhzsv4cLXX"
      },
      "outputs": [],
      "source": [
        "train_df['keyword_text'] = train_df['keyword']\n",
        "train_df.loc[no_keyword,'keyword_text'] = train_df['text_clean'].apply(finder,words_from=all_keywords)[no_keyword]"
      ]
    },
    {
      "cell_type": "markdown",
      "metadata": {
        "id": "sW7aAG3ycLXY"
      },
      "source": [
        "Keywords (pre-filled + hashtags)\n",
        "Here we also use the hashtags in each Tweet as a keyword, only for those that don't have a keyword still"
      ]
    },
    {
      "cell_type": "code",
      "execution_count": null,
      "metadata": {
        "id": "0FHXSatkcLXY"
      },
      "outputs": [],
      "source": [
        "no_keyword_text = train_df['keyword_text'].isna()"
      ]
    },
    {
      "cell_type": "code",
      "execution_count": null,
      "metadata": {
        "id": "ONI5w0GscLXY"
      },
      "outputs": [],
      "source": [
        "train_df['keyword_text_with_hash'] = train_df['keyword_text']\n",
        "train_df.loc[no_keyword,'keyword_text_with_hash'] = train_df.loc[no_keyword_text,'hashtags']"
      ]
    },
    {
      "cell_type": "markdown",
      "metadata": {
        "id": "lpbCXR5GcLXY"
      },
      "source": [
        "#### New location columns"
      ]
    },
    {
      "cell_type": "markdown",
      "metadata": {
        "id": "FqTS5ccZcLXY"
      },
      "source": [
        "Location filled with spaCy\n",
        "\n",
        "`spaCy` has a Named Entity Recognition feature that recognises locations (among other entities) in a given text. We use this to fill in missing values of the location column in a text."
      ]
    },
    {
      "cell_type": "code",
      "execution_count": null,
      "metadata": {
        "id": "UmKDZhprcLXY"
      },
      "outputs": [],
      "source": [
        "no_location = train_df['location_clean'].isna()"
      ]
    },
    {
      "cell_type": "code",
      "execution_count": null,
      "metadata": {
        "id": "KNnp8Bt8cLXY"
      },
      "outputs": [],
      "source": [
        "nlp = load_model_from_init_py('/usr/local/lib/python3.7/dist-packages/en_core_web_lg/__init__.py')\n",
        "nlp = spacy.load('en_core_web_lg')\n",
        "def spacy_finder(text):\n",
        "    doc = nlp(text)\n",
        "    result=[]\n",
        "    for ent in doc.ents:\n",
        "        if (ent.label_ == 'GPE' or ent.label_ == 'LOC') and not re.findall(r'[0-9]+',ent.text): #no numbers\n",
        "            result.append(ent.text.lower().strip())\n",
        "    if result:\n",
        "        for loc in result: #first one to satisfy condition\n",
        "            if len(loc)>=3 or loc=='us': #not too short to be actual location, unless its the US\n",
        "                return loc\n",
        "    return np.NaN"
      ]
    },
    {
      "cell_type": "code",
      "execution_count": null,
      "metadata": {
        "id": "OkhilFCzcLXY"
      },
      "outputs": [],
      "source": [
        "train_df['location_with_spacy'] = train_df['location_clean']\n",
        "spacy_results=train_df['text_clean'].apply(spacy_finder)\n",
        "train_df.loc[no_location,'location_with_spacy'] = spacy_results[no_location]"
      ]
    },
    {
      "cell_type": "markdown",
      "metadata": {
        "id": "Z03Rn98LcLXY"
      },
      "source": [
        "Location (using pre-filled)\n",
        "\n",
        "Here we only use the pre-filled location columns, and see if the text has one of those locations"
      ]
    },
    {
      "cell_type": "code",
      "execution_count": null,
      "metadata": {
        "id": "bF4FAQUKcLXY"
      },
      "outputs": [],
      "source": [
        "all_locations = set(train_df['location_clean'].dropna()).difference(set([''])) #Unique locations"
      ]
    },
    {
      "cell_type": "code",
      "execution_count": null,
      "metadata": {
        "id": "KiYNLQiqcLXY"
      },
      "outputs": [],
      "source": [
        "train_df['location_text'] = train_df['location_clean']\n",
        "train_df.loc[no_location,'location_text'] = train_df['text_clean'].apply(finder,words_from=all_locations)[no_location]"
      ]
    },
    {
      "cell_type": "markdown",
      "metadata": {
        "id": "dokDVcbecLXY"
      },
      "source": [
        "Location (pre-filled + spaCy)"
      ]
    },
    {
      "cell_type": "code",
      "execution_count": null,
      "metadata": {
        "id": "pjM5_5ZwcLXZ"
      },
      "outputs": [],
      "source": [
        "no_location_text = train_df['location_text'].isna()"
      ]
    },
    {
      "cell_type": "code",
      "execution_count": null,
      "metadata": {
        "id": "uqf_LXmLcLXZ"
      },
      "outputs": [],
      "source": [
        "train_df['location_text_with_spacy'] = train_df['location_text']\n",
        "train_df.loc[no_location_text,'location_text_with_spacy'] = spacy_results[no_location_text]"
      ]
    },
    {
      "cell_type": "markdown",
      "metadata": {
        "id": "ceI2Sx3JcLXZ"
      },
      "source": [
        "#### Data PreProcessing Results"
      ]
    },
    {
      "cell_type": "code",
      "execution_count": null,
      "metadata": {
        "id": "GJameUsycLXZ",
        "colab": {
          "base_uri": "https://localhost:8080/"
        },
        "outputId": "5a6e502c-6784-45cd-ffb3-90eee680e645"
      },
      "outputs": [
        {
          "output_type": "execute_result",
          "data": {
            "text/plain": [
              "   id keyword location                                               text  \\\n",
              "0   1     NaN      NaN  Our Deeds are the Reason of this #earthquake M...   \n",
              "1   4     NaN      NaN             Forest fire near La Ronge Sask. Canada   \n",
              "2   5     NaN      NaN  All residents asked to 'shelter in place' are ...   \n",
              "3   6     NaN      NaN  13,000 people receive #wildfires evacuation or...   \n",
              "4   7     NaN      NaN  Just got sent this photo from Ruby #Alaska as ...   \n",
              "\n",
              "   target                                         text_clean location_clean  \\\n",
              "0       1  our deeds are the reason of this earthquake ma...            NaN   \n",
              "1       1              forest fire near la ronge sask canada            NaN   \n",
              "2       1  all residents asked to 'shelter in place' are ...            NaN   \n",
              "3       1  13000 people receive wildfires evacuation orde...            NaN   \n",
              "4       1  just got sent this photo from ruby alaska as s...            NaN   \n",
              "\n",
              "           hashtags keyword_text keyword_text_with_hash location_with_spacy  \\\n",
              "0        earthquake          NaN             earthquake                 NaN   \n",
              "1               NaN          NaN                    NaN                 NaN   \n",
              "2               NaN          NaN                    NaN                 NaN   \n",
              "3         wildfires          NaN              wildfires          california   \n",
              "4  alaska_wildfires          NaN       alaska_wildfires                 NaN   \n",
              "\n",
              "  location_text location_text_with_spacy  \n",
              "0           NaN                      NaN  \n",
              "1           NaN                      NaN  \n",
              "2             '                        '  \n",
              "3           NaN               california  \n",
              "4           NaN                      NaN  "
            ],
            "text/html": [
              "\n",
              "  <div id=\"df-0e18b375-10a6-4faf-822b-9e7da671257e\">\n",
              "    <div class=\"colab-df-container\">\n",
              "      <div>\n",
              "<style scoped>\n",
              "    .dataframe tbody tr th:only-of-type {\n",
              "        vertical-align: middle;\n",
              "    }\n",
              "\n",
              "    .dataframe tbody tr th {\n",
              "        vertical-align: top;\n",
              "    }\n",
              "\n",
              "    .dataframe thead th {\n",
              "        text-align: right;\n",
              "    }\n",
              "</style>\n",
              "<table border=\"1\" class=\"dataframe\">\n",
              "  <thead>\n",
              "    <tr style=\"text-align: right;\">\n",
              "      <th></th>\n",
              "      <th>id</th>\n",
              "      <th>keyword</th>\n",
              "      <th>location</th>\n",
              "      <th>text</th>\n",
              "      <th>target</th>\n",
              "      <th>text_clean</th>\n",
              "      <th>location_clean</th>\n",
              "      <th>hashtags</th>\n",
              "      <th>keyword_text</th>\n",
              "      <th>keyword_text_with_hash</th>\n",
              "      <th>location_with_spacy</th>\n",
              "      <th>location_text</th>\n",
              "      <th>location_text_with_spacy</th>\n",
              "    </tr>\n",
              "  </thead>\n",
              "  <tbody>\n",
              "    <tr>\n",
              "      <th>0</th>\n",
              "      <td>1</td>\n",
              "      <td>NaN</td>\n",
              "      <td>NaN</td>\n",
              "      <td>Our Deeds are the Reason of this #earthquake M...</td>\n",
              "      <td>1</td>\n",
              "      <td>our deeds are the reason of this earthquake ma...</td>\n",
              "      <td>NaN</td>\n",
              "      <td>earthquake</td>\n",
              "      <td>NaN</td>\n",
              "      <td>earthquake</td>\n",
              "      <td>NaN</td>\n",
              "      <td>NaN</td>\n",
              "      <td>NaN</td>\n",
              "    </tr>\n",
              "    <tr>\n",
              "      <th>1</th>\n",
              "      <td>4</td>\n",
              "      <td>NaN</td>\n",
              "      <td>NaN</td>\n",
              "      <td>Forest fire near La Ronge Sask. Canada</td>\n",
              "      <td>1</td>\n",
              "      <td>forest fire near la ronge sask canada</td>\n",
              "      <td>NaN</td>\n",
              "      <td>NaN</td>\n",
              "      <td>NaN</td>\n",
              "      <td>NaN</td>\n",
              "      <td>NaN</td>\n",
              "      <td>NaN</td>\n",
              "      <td>NaN</td>\n",
              "    </tr>\n",
              "    <tr>\n",
              "      <th>2</th>\n",
              "      <td>5</td>\n",
              "      <td>NaN</td>\n",
              "      <td>NaN</td>\n",
              "      <td>All residents asked to 'shelter in place' are ...</td>\n",
              "      <td>1</td>\n",
              "      <td>all residents asked to 'shelter in place' are ...</td>\n",
              "      <td>NaN</td>\n",
              "      <td>NaN</td>\n",
              "      <td>NaN</td>\n",
              "      <td>NaN</td>\n",
              "      <td>NaN</td>\n",
              "      <td>'</td>\n",
              "      <td>'</td>\n",
              "    </tr>\n",
              "    <tr>\n",
              "      <th>3</th>\n",
              "      <td>6</td>\n",
              "      <td>NaN</td>\n",
              "      <td>NaN</td>\n",
              "      <td>13,000 people receive #wildfires evacuation or...</td>\n",
              "      <td>1</td>\n",
              "      <td>13000 people receive wildfires evacuation orde...</td>\n",
              "      <td>NaN</td>\n",
              "      <td>wildfires</td>\n",
              "      <td>NaN</td>\n",
              "      <td>wildfires</td>\n",
              "      <td>california</td>\n",
              "      <td>NaN</td>\n",
              "      <td>california</td>\n",
              "    </tr>\n",
              "    <tr>\n",
              "      <th>4</th>\n",
              "      <td>7</td>\n",
              "      <td>NaN</td>\n",
              "      <td>NaN</td>\n",
              "      <td>Just got sent this photo from Ruby #Alaska as ...</td>\n",
              "      <td>1</td>\n",
              "      <td>just got sent this photo from ruby alaska as s...</td>\n",
              "      <td>NaN</td>\n",
              "      <td>alaska_wildfires</td>\n",
              "      <td>NaN</td>\n",
              "      <td>alaska_wildfires</td>\n",
              "      <td>NaN</td>\n",
              "      <td>NaN</td>\n",
              "      <td>NaN</td>\n",
              "    </tr>\n",
              "  </tbody>\n",
              "</table>\n",
              "</div>\n",
              "      <button class=\"colab-df-convert\" onclick=\"convertToInteractive('df-0e18b375-10a6-4faf-822b-9e7da671257e')\"\n",
              "              title=\"Convert this dataframe to an interactive table.\"\n",
              "              style=\"display:none;\">\n",
              "        \n",
              "  <svg xmlns=\"http://www.w3.org/2000/svg\" height=\"24px\"viewBox=\"0 0 24 24\"\n",
              "       width=\"24px\">\n",
              "    <path d=\"M0 0h24v24H0V0z\" fill=\"none\"/>\n",
              "    <path d=\"M18.56 5.44l.94 2.06.94-2.06 2.06-.94-2.06-.94-.94-2.06-.94 2.06-2.06.94zm-11 1L8.5 8.5l.94-2.06 2.06-.94-2.06-.94L8.5 2.5l-.94 2.06-2.06.94zm10 10l.94 2.06.94-2.06 2.06-.94-2.06-.94-.94-2.06-.94 2.06-2.06.94z\"/><path d=\"M17.41 7.96l-1.37-1.37c-.4-.4-.92-.59-1.43-.59-.52 0-1.04.2-1.43.59L10.3 9.45l-7.72 7.72c-.78.78-.78 2.05 0 2.83L4 21.41c.39.39.9.59 1.41.59.51 0 1.02-.2 1.41-.59l7.78-7.78 2.81-2.81c.8-.78.8-2.07 0-2.86zM5.41 20L4 18.59l7.72-7.72 1.47 1.35L5.41 20z\"/>\n",
              "  </svg>\n",
              "      </button>\n",
              "      \n",
              "  <style>\n",
              "    .colab-df-container {\n",
              "      display:flex;\n",
              "      flex-wrap:wrap;\n",
              "      gap: 12px;\n",
              "    }\n",
              "\n",
              "    .colab-df-convert {\n",
              "      background-color: #E8F0FE;\n",
              "      border: none;\n",
              "      border-radius: 50%;\n",
              "      cursor: pointer;\n",
              "      display: none;\n",
              "      fill: #1967D2;\n",
              "      height: 32px;\n",
              "      padding: 0 0 0 0;\n",
              "      width: 32px;\n",
              "    }\n",
              "\n",
              "    .colab-df-convert:hover {\n",
              "      background-color: #E2EBFA;\n",
              "      box-shadow: 0px 1px 2px rgba(60, 64, 67, 0.3), 0px 1px 3px 1px rgba(60, 64, 67, 0.15);\n",
              "      fill: #174EA6;\n",
              "    }\n",
              "\n",
              "    [theme=dark] .colab-df-convert {\n",
              "      background-color: #3B4455;\n",
              "      fill: #D2E3FC;\n",
              "    }\n",
              "\n",
              "    [theme=dark] .colab-df-convert:hover {\n",
              "      background-color: #434B5C;\n",
              "      box-shadow: 0px 1px 3px 1px rgba(0, 0, 0, 0.15);\n",
              "      filter: drop-shadow(0px 1px 2px rgba(0, 0, 0, 0.3));\n",
              "      fill: #FFFFFF;\n",
              "    }\n",
              "  </style>\n",
              "\n",
              "      <script>\n",
              "        const buttonEl =\n",
              "          document.querySelector('#df-0e18b375-10a6-4faf-822b-9e7da671257e button.colab-df-convert');\n",
              "        buttonEl.style.display =\n",
              "          google.colab.kernel.accessAllowed ? 'block' : 'none';\n",
              "\n",
              "        async function convertToInteractive(key) {\n",
              "          const element = document.querySelector('#df-0e18b375-10a6-4faf-822b-9e7da671257e');\n",
              "          const dataTable =\n",
              "            await google.colab.kernel.invokeFunction('convertToInteractive',\n",
              "                                                     [key], {});\n",
              "          if (!dataTable) return;\n",
              "\n",
              "          const docLinkHtml = 'Like what you see? Visit the ' +\n",
              "            '<a target=\"_blank\" href=https://colab.research.google.com/notebooks/data_table.ipynb>data table notebook</a>'\n",
              "            + ' to learn more about interactive tables.';\n",
              "          element.innerHTML = '';\n",
              "          dataTable['output_type'] = 'display_data';\n",
              "          await google.colab.output.renderOutput(dataTable, element);\n",
              "          const docLink = document.createElement('div');\n",
              "          docLink.innerHTML = docLinkHtml;\n",
              "          element.appendChild(docLink);\n",
              "        }\n",
              "      </script>\n",
              "    </div>\n",
              "  </div>\n",
              "  "
            ]
          },
          "metadata": {},
          "execution_count": 185
        }
      ],
      "source": [
        "train_df.head()"
      ]
    },
    {
      "cell_type": "markdown",
      "metadata": {
        "id": "YcCAdYKTcLXZ"
      },
      "source": [
        "## Data Analysis on Cleaned Training Data Set"
      ]
    },
    {
      "cell_type": "markdown",
      "metadata": {
        "id": "WEa5D7UycLXZ"
      },
      "source": [
        "Number of NaNs"
      ]
    },
    {
      "cell_type": "code",
      "execution_count": null,
      "metadata": {
        "id": "4wZfZ-UVcLXZ",
        "colab": {
          "base_uri": "https://localhost:8080/"
        },
        "outputId": "9b6d2adc-d633-4b43-a192-e98c3a461a47"
      },
      "outputs": [
        {
          "output_type": "execute_result",
          "data": {
            "text/plain": [
              "id                          1.000000\n",
              "keyword                     0.992526\n",
              "location                    0.669291\n",
              "text                        1.000000\n",
              "target                      1.000000\n",
              "text_clean                  1.000000\n",
              "location_clean              0.669291\n",
              "hashtags                    0.226745\n",
              "keyword_text                0.992526\n",
              "keyword_text_with_hash      0.995062\n",
              "location_with_spacy         0.725477\n",
              "location_text               0.813292\n",
              "location_text_with_spacy    0.845189\n",
              "dtype: float64"
            ]
          },
          "metadata": {},
          "execution_count": 186
        }
      ],
      "source": [
        "1-train_df.isna().sum()/train_df.shape[0]"
      ]
    },
    {
      "cell_type": "markdown",
      "metadata": {
        "id": "QkJeDhY_cLXZ"
      },
      "source": [
        "Number of real catastrophies:"
      ]
    },
    {
      "cell_type": "code",
      "execution_count": null,
      "metadata": {
        "id": "K_W2mFxvcLXZ",
        "colab": {
          "base_uri": "https://localhost:8080/"
        },
        "outputId": "5e6265db-2262-4d0f-cb9c-b89d05231b28"
      },
      "outputs": [
        {
          "output_type": "execute_result",
          "data": {
            "text/plain": [
              "target\n",
              "0    4302\n",
              "1    3191\n",
              "dtype: int64"
            ]
          },
          "metadata": {},
          "execution_count": 187
        }
      ],
      "source": [
        "train_df.value_counts('target',dropna=False)"
      ]
    },
    {
      "cell_type": "markdown",
      "metadata": {
        "id": "2Y8U7c_-cLXZ"
      },
      "source": [
        "Extra data sets for real catastrophies and fake ones:"
      ]
    },
    {
      "cell_type": "code",
      "execution_count": null,
      "metadata": {
        "id": "EW7LAS_McLXZ"
      },
      "outputs": [],
      "source": [
        "train_df0 = train_df[train_df['target']==0]\n",
        "train_df1 = train_df[train_df['target']==1]"
      ]
    },
    {
      "cell_type": "markdown",
      "metadata": {
        "id": "9d7QbC4CcLXZ"
      },
      "source": [
        "Top 15 locations based on number of occurances in real/fake catastrophies tweets:"
      ]
    },
    {
      "cell_type": "code",
      "execution_count": null,
      "metadata": {
        "id": "qw63GYercLXZ",
        "colab": {
          "base_uri": "https://localhost:8080/"
        },
        "outputId": "cfc6d278-ae1d-4209-bc98-56c57f18ab03"
      },
      "outputs": [
        {
          "output_type": "stream",
          "name": "stdout",
          "text": [
            "Unique phrases with target==0: 2134\n",
            "location\n",
            "NaN                1438\n",
            "New York             55\n",
            "USA                  37\n",
            "London               29\n",
            "United States        23\n",
            "Los Angeles, CA      18\n",
            "Canada               16\n",
            "Kenya                15\n",
            "Everywhere           12\n",
            "Florida              11\n",
            "UK                   11\n",
            "United Kingdom       10\n",
            "California           10\n",
            "NYC                  10\n",
            "London, England       9\n",
            "dtype: int64\n",
            "\n",
            "Unique phrases with target==1: 1497\n",
            "location\n",
            "NaN                 1040\n",
            "USA                   67\n",
            "United States         27\n",
            "Mumbai                18\n",
            "India                 17\n",
            "Nigeria               17\n",
            "London                16\n",
            "New York              16\n",
            "Washington, DC        15\n",
            "UK                    15\n",
            "Canada                13\n",
            "Worldwide             12\n",
            "Australia              9\n",
            "Chicago, IL            9\n",
            "Washington, D.C.       9\n",
            "dtype: int64\n"
          ]
        }
      ],
      "source": [
        "counter0 = train_df0.value_counts('location',dropna=False)\n",
        "print(f'Unique phrases with target==0: {len(counter0)}')\n",
        "print(counter0.head(15))\n",
        "counter1 = train_df1.value_counts('location',dropna=False)\n",
        "print(f'\\nUnique phrases with target==1: {len(counter1)}')\n",
        "print(counter1.head(15))"
      ]
    },
    {
      "cell_type": "markdown",
      "metadata": {
        "id": "hyXXZld3cLXZ"
      },
      "source": [
        "Probs of tweet with given location being true:"
      ]
    },
    {
      "cell_type": "code",
      "execution_count": null,
      "metadata": {
        "id": "wqIoj95hcLXa",
        "colab": {
          "base_uri": "https://localhost:8080/"
        },
        "outputId": "bbedadc9-864f-487a-dc5e-3375ddc41076"
      },
      "outputs": [
        {
          "output_type": "execute_result",
          "data": {
            "text/plain": [
              "                             target          \n",
              "                              count      mean\n",
              "location                                     \n",
              "NaN                            2478  0.419693\n",
              "USA                             104  0.644231\n",
              "New York                         71  0.225352\n",
              "United States                    50  0.540000\n",
              "London                           45  0.355556\n",
              "...                             ...       ...\n",
              "Huntley, IL                       1  0.000000\n",
              "Huntsville AL                     1  1.000000\n",
              "Huntsville, Alabama               1  1.000000\n",
              "Hustletown                        1  1.000000\n",
              "Middle Earth / Asgard / Berk      1  1.000000\n",
              "\n",
              "[3323 rows x 2 columns]"
            ],
            "text/html": [
              "\n",
              "  <div id=\"df-e0839771-2dcb-4d94-95cf-758b71f4f00f\">\n",
              "    <div class=\"colab-df-container\">\n",
              "      <div>\n",
              "<style scoped>\n",
              "    .dataframe tbody tr th:only-of-type {\n",
              "        vertical-align: middle;\n",
              "    }\n",
              "\n",
              "    .dataframe tbody tr th {\n",
              "        vertical-align: top;\n",
              "    }\n",
              "\n",
              "    .dataframe thead tr th {\n",
              "        text-align: left;\n",
              "    }\n",
              "\n",
              "    .dataframe thead tr:last-of-type th {\n",
              "        text-align: right;\n",
              "    }\n",
              "</style>\n",
              "<table border=\"1\" class=\"dataframe\">\n",
              "  <thead>\n",
              "    <tr>\n",
              "      <th></th>\n",
              "      <th colspan=\"2\" halign=\"left\">target</th>\n",
              "    </tr>\n",
              "    <tr>\n",
              "      <th></th>\n",
              "      <th>count</th>\n",
              "      <th>mean</th>\n",
              "    </tr>\n",
              "    <tr>\n",
              "      <th>location</th>\n",
              "      <th></th>\n",
              "      <th></th>\n",
              "    </tr>\n",
              "  </thead>\n",
              "  <tbody>\n",
              "    <tr>\n",
              "      <th>NaN</th>\n",
              "      <td>2478</td>\n",
              "      <td>0.419693</td>\n",
              "    </tr>\n",
              "    <tr>\n",
              "      <th>USA</th>\n",
              "      <td>104</td>\n",
              "      <td>0.644231</td>\n",
              "    </tr>\n",
              "    <tr>\n",
              "      <th>New York</th>\n",
              "      <td>71</td>\n",
              "      <td>0.225352</td>\n",
              "    </tr>\n",
              "    <tr>\n",
              "      <th>United States</th>\n",
              "      <td>50</td>\n",
              "      <td>0.540000</td>\n",
              "    </tr>\n",
              "    <tr>\n",
              "      <th>London</th>\n",
              "      <td>45</td>\n",
              "      <td>0.355556</td>\n",
              "    </tr>\n",
              "    <tr>\n",
              "      <th>...</th>\n",
              "      <td>...</td>\n",
              "      <td>...</td>\n",
              "    </tr>\n",
              "    <tr>\n",
              "      <th>Huntley, IL</th>\n",
              "      <td>1</td>\n",
              "      <td>0.000000</td>\n",
              "    </tr>\n",
              "    <tr>\n",
              "      <th>Huntsville AL</th>\n",
              "      <td>1</td>\n",
              "      <td>1.000000</td>\n",
              "    </tr>\n",
              "    <tr>\n",
              "      <th>Huntsville, Alabama</th>\n",
              "      <td>1</td>\n",
              "      <td>1.000000</td>\n",
              "    </tr>\n",
              "    <tr>\n",
              "      <th>Hustletown</th>\n",
              "      <td>1</td>\n",
              "      <td>1.000000</td>\n",
              "    </tr>\n",
              "    <tr>\n",
              "      <th>Middle Earth / Asgard / Berk</th>\n",
              "      <td>1</td>\n",
              "      <td>1.000000</td>\n",
              "    </tr>\n",
              "  </tbody>\n",
              "</table>\n",
              "<p>3323 rows × 2 columns</p>\n",
              "</div>\n",
              "      <button class=\"colab-df-convert\" onclick=\"convertToInteractive('df-e0839771-2dcb-4d94-95cf-758b71f4f00f')\"\n",
              "              title=\"Convert this dataframe to an interactive table.\"\n",
              "              style=\"display:none;\">\n",
              "        \n",
              "  <svg xmlns=\"http://www.w3.org/2000/svg\" height=\"24px\"viewBox=\"0 0 24 24\"\n",
              "       width=\"24px\">\n",
              "    <path d=\"M0 0h24v24H0V0z\" fill=\"none\"/>\n",
              "    <path d=\"M18.56 5.44l.94 2.06.94-2.06 2.06-.94-2.06-.94-.94-2.06-.94 2.06-2.06.94zm-11 1L8.5 8.5l.94-2.06 2.06-.94-2.06-.94L8.5 2.5l-.94 2.06-2.06.94zm10 10l.94 2.06.94-2.06 2.06-.94-2.06-.94-.94-2.06-.94 2.06-2.06.94z\"/><path d=\"M17.41 7.96l-1.37-1.37c-.4-.4-.92-.59-1.43-.59-.52 0-1.04.2-1.43.59L10.3 9.45l-7.72 7.72c-.78.78-.78 2.05 0 2.83L4 21.41c.39.39.9.59 1.41.59.51 0 1.02-.2 1.41-.59l7.78-7.78 2.81-2.81c.8-.78.8-2.07 0-2.86zM5.41 20L4 18.59l7.72-7.72 1.47 1.35L5.41 20z\"/>\n",
              "  </svg>\n",
              "      </button>\n",
              "      \n",
              "  <style>\n",
              "    .colab-df-container {\n",
              "      display:flex;\n",
              "      flex-wrap:wrap;\n",
              "      gap: 12px;\n",
              "    }\n",
              "\n",
              "    .colab-df-convert {\n",
              "      background-color: #E8F0FE;\n",
              "      border: none;\n",
              "      border-radius: 50%;\n",
              "      cursor: pointer;\n",
              "      display: none;\n",
              "      fill: #1967D2;\n",
              "      height: 32px;\n",
              "      padding: 0 0 0 0;\n",
              "      width: 32px;\n",
              "    }\n",
              "\n",
              "    .colab-df-convert:hover {\n",
              "      background-color: #E2EBFA;\n",
              "      box-shadow: 0px 1px 2px rgba(60, 64, 67, 0.3), 0px 1px 3px 1px rgba(60, 64, 67, 0.15);\n",
              "      fill: #174EA6;\n",
              "    }\n",
              "\n",
              "    [theme=dark] .colab-df-convert {\n",
              "      background-color: #3B4455;\n",
              "      fill: #D2E3FC;\n",
              "    }\n",
              "\n",
              "    [theme=dark] .colab-df-convert:hover {\n",
              "      background-color: #434B5C;\n",
              "      box-shadow: 0px 1px 3px 1px rgba(0, 0, 0, 0.15);\n",
              "      filter: drop-shadow(0px 1px 2px rgba(0, 0, 0, 0.3));\n",
              "      fill: #FFFFFF;\n",
              "    }\n",
              "  </style>\n",
              "\n",
              "      <script>\n",
              "        const buttonEl =\n",
              "          document.querySelector('#df-e0839771-2dcb-4d94-95cf-758b71f4f00f button.colab-df-convert');\n",
              "        buttonEl.style.display =\n",
              "          google.colab.kernel.accessAllowed ? 'block' : 'none';\n",
              "\n",
              "        async function convertToInteractive(key) {\n",
              "          const element = document.querySelector('#df-e0839771-2dcb-4d94-95cf-758b71f4f00f');\n",
              "          const dataTable =\n",
              "            await google.colab.kernel.invokeFunction('convertToInteractive',\n",
              "                                                     [key], {});\n",
              "          if (!dataTable) return;\n",
              "\n",
              "          const docLinkHtml = 'Like what you see? Visit the ' +\n",
              "            '<a target=\"_blank\" href=https://colab.research.google.com/notebooks/data_table.ipynb>data table notebook</a>'\n",
              "            + ' to learn more about interactive tables.';\n",
              "          element.innerHTML = '';\n",
              "          dataTable['output_type'] = 'display_data';\n",
              "          await google.colab.output.renderOutput(dataTable, element);\n",
              "          const docLink = document.createElement('div');\n",
              "          docLink.innerHTML = docLinkHtml;\n",
              "          element.appendChild(docLink);\n",
              "        }\n",
              "      </script>\n",
              "    </div>\n",
              "  </div>\n",
              "  "
            ]
          },
          "metadata": {},
          "execution_count": 190
        }
      ],
      "source": [
        "train_df.loc[:,['location','target']].groupby('location',dropna=False).agg({'target':['count','mean']}).sort_values(('target','count'),ascending=False)"
      ]
    },
    {
      "cell_type": "markdown",
      "metadata": {
        "id": "u_NPvRjZcLXa"
      },
      "source": [
        "Top 15 keywords based on number of occurances in real/fake catastrophies tweets:"
      ]
    },
    {
      "cell_type": "code",
      "execution_count": null,
      "metadata": {
        "id": "Bw-bzDqpcLXa",
        "colab": {
          "base_uri": "https://localhost:8080/"
        },
        "outputId": "419ebbac-0a96-4d23-ed0b-0f01233f4b89"
      },
      "outputs": [
        {
          "output_type": "stream",
          "name": "stdout",
          "text": [
            "Unique phrases with target==0: 219\n",
            "keyword\n",
            "body20bags     40\n",
            "harm           37\n",
            "armageddon     37\n",
            "wrecked        36\n",
            "deluge         36\n",
            "ruin           36\n",
            "siren          35\n",
            "explode        35\n",
            "fear           35\n",
            "twister        35\n",
            "screaming      34\n",
            "panic          34\n",
            "traumatised    33\n",
            "crush          33\n",
            "blaze          33\n",
            "dtype: int64\n",
            "\n",
            "Unique phrases with target==1: 221\n",
            "keyword\n",
            "outbreak             38\n",
            "NaN                  37\n",
            "wreckage             37\n",
            "debris               37\n",
            "oil20spill           37\n",
            "typhoon              35\n",
            "derailment           33\n",
            "evacuated            32\n",
            "razed                31\n",
            "nuclear20disaster    31\n",
            "suicide20bombing     31\n",
            "suicide20bomber      30\n",
            "earthquake           30\n",
            "rescuers             29\n",
            "bridge20collapse     29\n",
            "dtype: int64\n"
          ]
        }
      ],
      "source": [
        "counter0 = train_df0.value_counts('keyword',dropna=False)\n",
        "print(f'Unique phrases with target==0: {len(counter0)}')\n",
        "print(counter0.head(15))\n",
        "counter1 = train_df1.value_counts('keyword',dropna=False)\n",
        "print(f'\\nUnique phrases with target==1: {len(counter1)}')\n",
        "print(counter1.head(15))"
      ]
    },
    {
      "cell_type": "markdown",
      "metadata": {
        "id": "PQQB0u6gcLXa"
      },
      "source": [
        "Probs of tweets with given keyword being true:"
      ]
    },
    {
      "cell_type": "code",
      "execution_count": null,
      "metadata": {
        "id": "1iROo-jhcLXa",
        "colab": {
          "base_uri": "https://localhost:8080/"
        },
        "outputId": "66925844-518f-4717-f1e1-c984159553bf"
      },
      "outputs": [
        {
          "output_type": "execute_result",
          "data": {
            "text/plain": [
              "           target          \n",
              "            count      mean\n",
              "keyword                    \n",
              "derailment     33  1.000000\n",
              "wreckage       37  1.000000\n",
              "debris         37  1.000000\n",
              "outbreak       39  0.974359\n",
              "oil20spill     38  0.973684\n",
              "...           ...       ...\n",
              "body20bag      33  0.030303\n",
              "blazing        34  0.029412\n",
              "ruin           37  0.027027\n",
              "body20bags     41  0.024390\n",
              "aftershock     32  0.000000\n",
              "\n",
              "[221 rows x 2 columns]"
            ],
            "text/html": [
              "\n",
              "  <div id=\"df-0dfb653a-d493-4971-961f-9a5612251259\">\n",
              "    <div class=\"colab-df-container\">\n",
              "      <div>\n",
              "<style scoped>\n",
              "    .dataframe tbody tr th:only-of-type {\n",
              "        vertical-align: middle;\n",
              "    }\n",
              "\n",
              "    .dataframe tbody tr th {\n",
              "        vertical-align: top;\n",
              "    }\n",
              "\n",
              "    .dataframe thead tr th {\n",
              "        text-align: left;\n",
              "    }\n",
              "\n",
              "    .dataframe thead tr:last-of-type th {\n",
              "        text-align: right;\n",
              "    }\n",
              "</style>\n",
              "<table border=\"1\" class=\"dataframe\">\n",
              "  <thead>\n",
              "    <tr>\n",
              "      <th></th>\n",
              "      <th colspan=\"2\" halign=\"left\">target</th>\n",
              "    </tr>\n",
              "    <tr>\n",
              "      <th></th>\n",
              "      <th>count</th>\n",
              "      <th>mean</th>\n",
              "    </tr>\n",
              "    <tr>\n",
              "      <th>keyword</th>\n",
              "      <th></th>\n",
              "      <th></th>\n",
              "    </tr>\n",
              "  </thead>\n",
              "  <tbody>\n",
              "    <tr>\n",
              "      <th>derailment</th>\n",
              "      <td>33</td>\n",
              "      <td>1.000000</td>\n",
              "    </tr>\n",
              "    <tr>\n",
              "      <th>wreckage</th>\n",
              "      <td>37</td>\n",
              "      <td>1.000000</td>\n",
              "    </tr>\n",
              "    <tr>\n",
              "      <th>debris</th>\n",
              "      <td>37</td>\n",
              "      <td>1.000000</td>\n",
              "    </tr>\n",
              "    <tr>\n",
              "      <th>outbreak</th>\n",
              "      <td>39</td>\n",
              "      <td>0.974359</td>\n",
              "    </tr>\n",
              "    <tr>\n",
              "      <th>oil20spill</th>\n",
              "      <td>38</td>\n",
              "      <td>0.973684</td>\n",
              "    </tr>\n",
              "    <tr>\n",
              "      <th>...</th>\n",
              "      <td>...</td>\n",
              "      <td>...</td>\n",
              "    </tr>\n",
              "    <tr>\n",
              "      <th>body20bag</th>\n",
              "      <td>33</td>\n",
              "      <td>0.030303</td>\n",
              "    </tr>\n",
              "    <tr>\n",
              "      <th>blazing</th>\n",
              "      <td>34</td>\n",
              "      <td>0.029412</td>\n",
              "    </tr>\n",
              "    <tr>\n",
              "      <th>ruin</th>\n",
              "      <td>37</td>\n",
              "      <td>0.027027</td>\n",
              "    </tr>\n",
              "    <tr>\n",
              "      <th>body20bags</th>\n",
              "      <td>41</td>\n",
              "      <td>0.024390</td>\n",
              "    </tr>\n",
              "    <tr>\n",
              "      <th>aftershock</th>\n",
              "      <td>32</td>\n",
              "      <td>0.000000</td>\n",
              "    </tr>\n",
              "  </tbody>\n",
              "</table>\n",
              "<p>221 rows × 2 columns</p>\n",
              "</div>\n",
              "      <button class=\"colab-df-convert\" onclick=\"convertToInteractive('df-0dfb653a-d493-4971-961f-9a5612251259')\"\n",
              "              title=\"Convert this dataframe to an interactive table.\"\n",
              "              style=\"display:none;\">\n",
              "        \n",
              "  <svg xmlns=\"http://www.w3.org/2000/svg\" height=\"24px\"viewBox=\"0 0 24 24\"\n",
              "       width=\"24px\">\n",
              "    <path d=\"M0 0h24v24H0V0z\" fill=\"none\"/>\n",
              "    <path d=\"M18.56 5.44l.94 2.06.94-2.06 2.06-.94-2.06-.94-.94-2.06-.94 2.06-2.06.94zm-11 1L8.5 8.5l.94-2.06 2.06-.94-2.06-.94L8.5 2.5l-.94 2.06-2.06.94zm10 10l.94 2.06.94-2.06 2.06-.94-2.06-.94-.94-2.06-.94 2.06-2.06.94z\"/><path d=\"M17.41 7.96l-1.37-1.37c-.4-.4-.92-.59-1.43-.59-.52 0-1.04.2-1.43.59L10.3 9.45l-7.72 7.72c-.78.78-.78 2.05 0 2.83L4 21.41c.39.39.9.59 1.41.59.51 0 1.02-.2 1.41-.59l7.78-7.78 2.81-2.81c.8-.78.8-2.07 0-2.86zM5.41 20L4 18.59l7.72-7.72 1.47 1.35L5.41 20z\"/>\n",
              "  </svg>\n",
              "      </button>\n",
              "      \n",
              "  <style>\n",
              "    .colab-df-container {\n",
              "      display:flex;\n",
              "      flex-wrap:wrap;\n",
              "      gap: 12px;\n",
              "    }\n",
              "\n",
              "    .colab-df-convert {\n",
              "      background-color: #E8F0FE;\n",
              "      border: none;\n",
              "      border-radius: 50%;\n",
              "      cursor: pointer;\n",
              "      display: none;\n",
              "      fill: #1967D2;\n",
              "      height: 32px;\n",
              "      padding: 0 0 0 0;\n",
              "      width: 32px;\n",
              "    }\n",
              "\n",
              "    .colab-df-convert:hover {\n",
              "      background-color: #E2EBFA;\n",
              "      box-shadow: 0px 1px 2px rgba(60, 64, 67, 0.3), 0px 1px 3px 1px rgba(60, 64, 67, 0.15);\n",
              "      fill: #174EA6;\n",
              "    }\n",
              "\n",
              "    [theme=dark] .colab-df-convert {\n",
              "      background-color: #3B4455;\n",
              "      fill: #D2E3FC;\n",
              "    }\n",
              "\n",
              "    [theme=dark] .colab-df-convert:hover {\n",
              "      background-color: #434B5C;\n",
              "      box-shadow: 0px 1px 3px 1px rgba(0, 0, 0, 0.15);\n",
              "      filter: drop-shadow(0px 1px 2px rgba(0, 0, 0, 0.3));\n",
              "      fill: #FFFFFF;\n",
              "    }\n",
              "  </style>\n",
              "\n",
              "      <script>\n",
              "        const buttonEl =\n",
              "          document.querySelector('#df-0dfb653a-d493-4971-961f-9a5612251259 button.colab-df-convert');\n",
              "        buttonEl.style.display =\n",
              "          google.colab.kernel.accessAllowed ? 'block' : 'none';\n",
              "\n",
              "        async function convertToInteractive(key) {\n",
              "          const element = document.querySelector('#df-0dfb653a-d493-4971-961f-9a5612251259');\n",
              "          const dataTable =\n",
              "            await google.colab.kernel.invokeFunction('convertToInteractive',\n",
              "                                                     [key], {});\n",
              "          if (!dataTable) return;\n",
              "\n",
              "          const docLinkHtml = 'Like what you see? Visit the ' +\n",
              "            '<a target=\"_blank\" href=https://colab.research.google.com/notebooks/data_table.ipynb>data table notebook</a>'\n",
              "            + ' to learn more about interactive tables.';\n",
              "          element.innerHTML = '';\n",
              "          dataTable['output_type'] = 'display_data';\n",
              "          await google.colab.output.renderOutput(dataTable, element);\n",
              "          const docLink = document.createElement('div');\n",
              "          docLink.innerHTML = docLinkHtml;\n",
              "          element.appendChild(docLink);\n",
              "        }\n",
              "      </script>\n",
              "    </div>\n",
              "  </div>\n",
              "  "
            ]
          },
          "metadata": {},
          "execution_count": 192
        }
      ],
      "source": [
        "train_df.loc[:,['keyword','target']].groupby('keyword').agg({'target':['count','mean']}).sort_values(('target','mean'),ascending=False)"
      ]
    },
    {
      "cell_type": "markdown",
      "metadata": {
        "id": "8tTjN7kccLXa"
      },
      "source": [
        "Top 15 hashtags based on number of occurances in real/fake catastrophies tweets:"
      ]
    },
    {
      "cell_type": "code",
      "execution_count": null,
      "metadata": {
        "id": "w9wGDEA9cLXa",
        "colab": {
          "base_uri": "https://localhost:8080/"
        },
        "outputId": "effbc329-fafc-4cdf-f31b-d1da710080b2"
      },
      "outputs": [
        {
          "output_type": "stream",
          "name": "stdout",
          "text": [
            "Unique phrases with target==0: 709\n",
            "hashtags\n",
            "NaN                                     3433\n",
            "hot_prebreak_best                         17\n",
            "gbbo                                      11\n",
            "nowplaying                                10\n",
            "beyhive                                    8\n",
            "directioners                               7\n",
            "animalrescue                               7\n",
            "dubstep_trapmusic_dnb_edm_dance_ices       5\n",
            "handbag_womens                             5\n",
            "rt                                         5\n",
            "soundcloud                                 5\n",
            "irandeal                                   4\n",
            "np                                         4\n",
            "emmerdale                                  4\n",
            "lgbt                                       4\n",
            "dtype: int64\n",
            "\n",
            "Unique phrases with target==1: 661\n",
            "hashtags\n",
            "NaN                  2361\n",
            "hot_prebreak_best      13\n",
            "news                   12\n",
            "earthquake              8\n",
            "hiroshima               8\n",
            "worldnews               8\n",
            "wx                      7\n",
            "antioch                 6\n",
            "okwx                    6\n",
            "socialnews              5\n",
            "idfire                  4\n",
            "wildfire                4\n",
            "sismo_jap               4\n",
            "mh370                   4\n",
            "wmata                   4\n",
            "dtype: int64\n"
          ]
        }
      ],
      "source": [
        "counter0 = train_df0.value_counts('hashtags',dropna=False)\n",
        "print(f'Unique phrases with target==0: {len(counter0)}')\n",
        "print(counter0.head(15))\n",
        "counter1 = train_df1.value_counts('hashtags',dropna=False)\n",
        "print(f'\\nUnique phrases with target==1: {len(counter1)}')\n",
        "print(counter1.head(15))"
      ]
    },
    {
      "cell_type": "markdown",
      "metadata": {
        "id": "lda_QrubcLXa"
      },
      "source": [
        "Probs of tweets with given hashtags being true:"
      ]
    },
    {
      "cell_type": "code",
      "execution_count": null,
      "metadata": {
        "id": "cJQiaFy9cLXa",
        "colab": {
          "base_uri": "https://localhost:8080/"
        },
        "outputId": "f89185c5-5173-455c-f7b8-1929fd4292a9"
      },
      "outputs": [
        {
          "output_type": "execute_result",
          "data": {
            "text/plain": [
              "                                        target          \n",
              "                                         count      mean\n",
              "hashtags                                                \n",
              "hot_prebreak_best                           30  0.433333\n",
              "news                                        16  0.750000\n",
              "gbbo                                        12  0.083333\n",
              "nowplaying                                  11  0.090909\n",
              "hiroshima                                    8  1.000000\n",
              "...                                        ...       ...\n",
              "govt_ethical_usa                             1  0.000000\n",
              "gop_potus_irandeal_isis                      1  1.000000\n",
              "gop_disabledveterans_thepartyofmeanness      1  0.000000\n",
              "goodbye                                      1  0.000000\n",
              "zippoline_moveit                             1  0.000000\n",
              "\n",
              "[1315 rows x 2 columns]"
            ],
            "text/html": [
              "\n",
              "  <div id=\"df-282e8aa2-78f9-447a-bcb7-887f547eefdf\">\n",
              "    <div class=\"colab-df-container\">\n",
              "      <div>\n",
              "<style scoped>\n",
              "    .dataframe tbody tr th:only-of-type {\n",
              "        vertical-align: middle;\n",
              "    }\n",
              "\n",
              "    .dataframe tbody tr th {\n",
              "        vertical-align: top;\n",
              "    }\n",
              "\n",
              "    .dataframe thead tr th {\n",
              "        text-align: left;\n",
              "    }\n",
              "\n",
              "    .dataframe thead tr:last-of-type th {\n",
              "        text-align: right;\n",
              "    }\n",
              "</style>\n",
              "<table border=\"1\" class=\"dataframe\">\n",
              "  <thead>\n",
              "    <tr>\n",
              "      <th></th>\n",
              "      <th colspan=\"2\" halign=\"left\">target</th>\n",
              "    </tr>\n",
              "    <tr>\n",
              "      <th></th>\n",
              "      <th>count</th>\n",
              "      <th>mean</th>\n",
              "    </tr>\n",
              "    <tr>\n",
              "      <th>hashtags</th>\n",
              "      <th></th>\n",
              "      <th></th>\n",
              "    </tr>\n",
              "  </thead>\n",
              "  <tbody>\n",
              "    <tr>\n",
              "      <th>hot_prebreak_best</th>\n",
              "      <td>30</td>\n",
              "      <td>0.433333</td>\n",
              "    </tr>\n",
              "    <tr>\n",
              "      <th>news</th>\n",
              "      <td>16</td>\n",
              "      <td>0.750000</td>\n",
              "    </tr>\n",
              "    <tr>\n",
              "      <th>gbbo</th>\n",
              "      <td>12</td>\n",
              "      <td>0.083333</td>\n",
              "    </tr>\n",
              "    <tr>\n",
              "      <th>nowplaying</th>\n",
              "      <td>11</td>\n",
              "      <td>0.090909</td>\n",
              "    </tr>\n",
              "    <tr>\n",
              "      <th>hiroshima</th>\n",
              "      <td>8</td>\n",
              "      <td>1.000000</td>\n",
              "    </tr>\n",
              "    <tr>\n",
              "      <th>...</th>\n",
              "      <td>...</td>\n",
              "      <td>...</td>\n",
              "    </tr>\n",
              "    <tr>\n",
              "      <th>govt_ethical_usa</th>\n",
              "      <td>1</td>\n",
              "      <td>0.000000</td>\n",
              "    </tr>\n",
              "    <tr>\n",
              "      <th>gop_potus_irandeal_isis</th>\n",
              "      <td>1</td>\n",
              "      <td>1.000000</td>\n",
              "    </tr>\n",
              "    <tr>\n",
              "      <th>gop_disabledveterans_thepartyofmeanness</th>\n",
              "      <td>1</td>\n",
              "      <td>0.000000</td>\n",
              "    </tr>\n",
              "    <tr>\n",
              "      <th>goodbye</th>\n",
              "      <td>1</td>\n",
              "      <td>0.000000</td>\n",
              "    </tr>\n",
              "    <tr>\n",
              "      <th>zippoline_moveit</th>\n",
              "      <td>1</td>\n",
              "      <td>0.000000</td>\n",
              "    </tr>\n",
              "  </tbody>\n",
              "</table>\n",
              "<p>1315 rows × 2 columns</p>\n",
              "</div>\n",
              "      <button class=\"colab-df-convert\" onclick=\"convertToInteractive('df-282e8aa2-78f9-447a-bcb7-887f547eefdf')\"\n",
              "              title=\"Convert this dataframe to an interactive table.\"\n",
              "              style=\"display:none;\">\n",
              "        \n",
              "  <svg xmlns=\"http://www.w3.org/2000/svg\" height=\"24px\"viewBox=\"0 0 24 24\"\n",
              "       width=\"24px\">\n",
              "    <path d=\"M0 0h24v24H0V0z\" fill=\"none\"/>\n",
              "    <path d=\"M18.56 5.44l.94 2.06.94-2.06 2.06-.94-2.06-.94-.94-2.06-.94 2.06-2.06.94zm-11 1L8.5 8.5l.94-2.06 2.06-.94-2.06-.94L8.5 2.5l-.94 2.06-2.06.94zm10 10l.94 2.06.94-2.06 2.06-.94-2.06-.94-.94-2.06-.94 2.06-2.06.94z\"/><path d=\"M17.41 7.96l-1.37-1.37c-.4-.4-.92-.59-1.43-.59-.52 0-1.04.2-1.43.59L10.3 9.45l-7.72 7.72c-.78.78-.78 2.05 0 2.83L4 21.41c.39.39.9.59 1.41.59.51 0 1.02-.2 1.41-.59l7.78-7.78 2.81-2.81c.8-.78.8-2.07 0-2.86zM5.41 20L4 18.59l7.72-7.72 1.47 1.35L5.41 20z\"/>\n",
              "  </svg>\n",
              "      </button>\n",
              "      \n",
              "  <style>\n",
              "    .colab-df-container {\n",
              "      display:flex;\n",
              "      flex-wrap:wrap;\n",
              "      gap: 12px;\n",
              "    }\n",
              "\n",
              "    .colab-df-convert {\n",
              "      background-color: #E8F0FE;\n",
              "      border: none;\n",
              "      border-radius: 50%;\n",
              "      cursor: pointer;\n",
              "      display: none;\n",
              "      fill: #1967D2;\n",
              "      height: 32px;\n",
              "      padding: 0 0 0 0;\n",
              "      width: 32px;\n",
              "    }\n",
              "\n",
              "    .colab-df-convert:hover {\n",
              "      background-color: #E2EBFA;\n",
              "      box-shadow: 0px 1px 2px rgba(60, 64, 67, 0.3), 0px 1px 3px 1px rgba(60, 64, 67, 0.15);\n",
              "      fill: #174EA6;\n",
              "    }\n",
              "\n",
              "    [theme=dark] .colab-df-convert {\n",
              "      background-color: #3B4455;\n",
              "      fill: #D2E3FC;\n",
              "    }\n",
              "\n",
              "    [theme=dark] .colab-df-convert:hover {\n",
              "      background-color: #434B5C;\n",
              "      box-shadow: 0px 1px 3px 1px rgba(0, 0, 0, 0.15);\n",
              "      filter: drop-shadow(0px 1px 2px rgba(0, 0, 0, 0.3));\n",
              "      fill: #FFFFFF;\n",
              "    }\n",
              "  </style>\n",
              "\n",
              "      <script>\n",
              "        const buttonEl =\n",
              "          document.querySelector('#df-282e8aa2-78f9-447a-bcb7-887f547eefdf button.colab-df-convert');\n",
              "        buttonEl.style.display =\n",
              "          google.colab.kernel.accessAllowed ? 'block' : 'none';\n",
              "\n",
              "        async function convertToInteractive(key) {\n",
              "          const element = document.querySelector('#df-282e8aa2-78f9-447a-bcb7-887f547eefdf');\n",
              "          const dataTable =\n",
              "            await google.colab.kernel.invokeFunction('convertToInteractive',\n",
              "                                                     [key], {});\n",
              "          if (!dataTable) return;\n",
              "\n",
              "          const docLinkHtml = 'Like what you see? Visit the ' +\n",
              "            '<a target=\"_blank\" href=https://colab.research.google.com/notebooks/data_table.ipynb>data table notebook</a>'\n",
              "            + ' to learn more about interactive tables.';\n",
              "          element.innerHTML = '';\n",
              "          dataTable['output_type'] = 'display_data';\n",
              "          await google.colab.output.renderOutput(dataTable, element);\n",
              "          const docLink = document.createElement('div');\n",
              "          docLink.innerHTML = docLinkHtml;\n",
              "          element.appendChild(docLink);\n",
              "        }\n",
              "      </script>\n",
              "    </div>\n",
              "  </div>\n",
              "  "
            ]
          },
          "metadata": {},
          "execution_count": 194
        }
      ],
      "source": [
        "train_df.loc[:,['hashtags','target']].groupby('hashtags').agg({'target':['count','mean']}).sort_values(('target','count'),ascending=False)"
      ]
    },
    {
      "cell_type": "code",
      "execution_count": null,
      "metadata": {
        "id": "NNPRhzofcLXa"
      },
      "outputs": [],
      "source": [
        "train_df_add = train_df.copy() #Copy of train data set for adding analyses columns"
      ]
    },
    {
      "cell_type": "markdown",
      "metadata": {
        "id": "fKIQkKEqcLXa"
      },
      "source": [
        "Words counter for real/fake disaster tweets"
      ]
    },
    {
      "cell_type": "code",
      "execution_count": null,
      "metadata": {
        "id": "CZ_tNON_cLXa",
        "colab": {
          "base_uri": "https://localhost:8080/"
        },
        "outputId": "e31ec916-e4bd-47d9-a048-0ddf8f02edc6"
      },
      "outputs": [
        {
          "output_type": "execute_result",
          "data": {
            "text/plain": [
              "       word_count           \n",
              "             mean        var\n",
              "target                      \n",
              "0       14.681079  37.967552\n",
              "1       15.141962  25.884229"
            ],
            "text/html": [
              "\n",
              "  <div id=\"df-0c0e9164-7d52-479b-a235-b0ba038ebeb5\">\n",
              "    <div class=\"colab-df-container\">\n",
              "      <div>\n",
              "<style scoped>\n",
              "    .dataframe tbody tr th:only-of-type {\n",
              "        vertical-align: middle;\n",
              "    }\n",
              "\n",
              "    .dataframe tbody tr th {\n",
              "        vertical-align: top;\n",
              "    }\n",
              "\n",
              "    .dataframe thead tr th {\n",
              "        text-align: left;\n",
              "    }\n",
              "\n",
              "    .dataframe thead tr:last-of-type th {\n",
              "        text-align: right;\n",
              "    }\n",
              "</style>\n",
              "<table border=\"1\" class=\"dataframe\">\n",
              "  <thead>\n",
              "    <tr>\n",
              "      <th></th>\n",
              "      <th colspan=\"2\" halign=\"left\">word_count</th>\n",
              "    </tr>\n",
              "    <tr>\n",
              "      <th></th>\n",
              "      <th>mean</th>\n",
              "      <th>var</th>\n",
              "    </tr>\n",
              "    <tr>\n",
              "      <th>target</th>\n",
              "      <th></th>\n",
              "      <th></th>\n",
              "    </tr>\n",
              "  </thead>\n",
              "  <tbody>\n",
              "    <tr>\n",
              "      <th>0</th>\n",
              "      <td>14.681079</td>\n",
              "      <td>37.967552</td>\n",
              "    </tr>\n",
              "    <tr>\n",
              "      <th>1</th>\n",
              "      <td>15.141962</td>\n",
              "      <td>25.884229</td>\n",
              "    </tr>\n",
              "  </tbody>\n",
              "</table>\n",
              "</div>\n",
              "      <button class=\"colab-df-convert\" onclick=\"convertToInteractive('df-0c0e9164-7d52-479b-a235-b0ba038ebeb5')\"\n",
              "              title=\"Convert this dataframe to an interactive table.\"\n",
              "              style=\"display:none;\">\n",
              "        \n",
              "  <svg xmlns=\"http://www.w3.org/2000/svg\" height=\"24px\"viewBox=\"0 0 24 24\"\n",
              "       width=\"24px\">\n",
              "    <path d=\"M0 0h24v24H0V0z\" fill=\"none\"/>\n",
              "    <path d=\"M18.56 5.44l.94 2.06.94-2.06 2.06-.94-2.06-.94-.94-2.06-.94 2.06-2.06.94zm-11 1L8.5 8.5l.94-2.06 2.06-.94-2.06-.94L8.5 2.5l-.94 2.06-2.06.94zm10 10l.94 2.06.94-2.06 2.06-.94-2.06-.94-.94-2.06-.94 2.06-2.06.94z\"/><path d=\"M17.41 7.96l-1.37-1.37c-.4-.4-.92-.59-1.43-.59-.52 0-1.04.2-1.43.59L10.3 9.45l-7.72 7.72c-.78.78-.78 2.05 0 2.83L4 21.41c.39.39.9.59 1.41.59.51 0 1.02-.2 1.41-.59l7.78-7.78 2.81-2.81c.8-.78.8-2.07 0-2.86zM5.41 20L4 18.59l7.72-7.72 1.47 1.35L5.41 20z\"/>\n",
              "  </svg>\n",
              "      </button>\n",
              "      \n",
              "  <style>\n",
              "    .colab-df-container {\n",
              "      display:flex;\n",
              "      flex-wrap:wrap;\n",
              "      gap: 12px;\n",
              "    }\n",
              "\n",
              "    .colab-df-convert {\n",
              "      background-color: #E8F0FE;\n",
              "      border: none;\n",
              "      border-radius: 50%;\n",
              "      cursor: pointer;\n",
              "      display: none;\n",
              "      fill: #1967D2;\n",
              "      height: 32px;\n",
              "      padding: 0 0 0 0;\n",
              "      width: 32px;\n",
              "    }\n",
              "\n",
              "    .colab-df-convert:hover {\n",
              "      background-color: #E2EBFA;\n",
              "      box-shadow: 0px 1px 2px rgba(60, 64, 67, 0.3), 0px 1px 3px 1px rgba(60, 64, 67, 0.15);\n",
              "      fill: #174EA6;\n",
              "    }\n",
              "\n",
              "    [theme=dark] .colab-df-convert {\n",
              "      background-color: #3B4455;\n",
              "      fill: #D2E3FC;\n",
              "    }\n",
              "\n",
              "    [theme=dark] .colab-df-convert:hover {\n",
              "      background-color: #434B5C;\n",
              "      box-shadow: 0px 1px 3px 1px rgba(0, 0, 0, 0.15);\n",
              "      filter: drop-shadow(0px 1px 2px rgba(0, 0, 0, 0.3));\n",
              "      fill: #FFFFFF;\n",
              "    }\n",
              "  </style>\n",
              "\n",
              "      <script>\n",
              "        const buttonEl =\n",
              "          document.querySelector('#df-0c0e9164-7d52-479b-a235-b0ba038ebeb5 button.colab-df-convert');\n",
              "        buttonEl.style.display =\n",
              "          google.colab.kernel.accessAllowed ? 'block' : 'none';\n",
              "\n",
              "        async function convertToInteractive(key) {\n",
              "          const element = document.querySelector('#df-0c0e9164-7d52-479b-a235-b0ba038ebeb5');\n",
              "          const dataTable =\n",
              "            await google.colab.kernel.invokeFunction('convertToInteractive',\n",
              "                                                     [key], {});\n",
              "          if (!dataTable) return;\n",
              "\n",
              "          const docLinkHtml = 'Like what you see? Visit the ' +\n",
              "            '<a target=\"_blank\" href=https://colab.research.google.com/notebooks/data_table.ipynb>data table notebook</a>'\n",
              "            + ' to learn more about interactive tables.';\n",
              "          element.innerHTML = '';\n",
              "          dataTable['output_type'] = 'display_data';\n",
              "          await google.colab.output.renderOutput(dataTable, element);\n",
              "          const docLink = document.createElement('div');\n",
              "          docLink.innerHTML = docLinkHtml;\n",
              "          element.appendChild(docLink);\n",
              "        }\n",
              "      </script>\n",
              "    </div>\n",
              "  </div>\n",
              "  "
            ]
          },
          "metadata": {},
          "execution_count": 196
        },
        {
          "output_type": "display_data",
          "data": {
            "text/plain": [
              "<Figure size 432x288 with 1 Axes>"
            ],
            "image/png": "[encoded data removed]"
          },
          "metadata": {
            "needs_background": "light"
          }
        }
      ],
      "source": [
        "train_df_add['word_count'] = train_df['text'].str.split().apply(len)\n",
        "sb.boxplot(data=train_df_add, x='target', y=\"word_count\", hue='target').set_title(\"Tweets number of words distribution depending on target\")\n",
        "train_df_add.loc[:,['word_count','target']].groupby('target').agg({'word_count':['mean','var']})"
      ]
    },
    {
      "cell_type": "markdown",
      "metadata": {
        "id": "doXWM1SpcLXa"
      },
      "source": [
        "CAPITAL LETTERS percentage for real/fake disastert tweets:"
      ]
    },
    {
      "cell_type": "code",
      "execution_count": null,
      "metadata": {
        "id": "2bHNMMbmcLXa",
        "colab": {
          "base_uri": "https://localhost:8080/"
        },
        "outputId": "8c9a5d28-768a-40c0-cbef-9c319cd4a872"
      },
      "outputs": [
        {
          "output_type": "execute_result",
          "data": {
            "text/plain": [
              "       capital_letters_percentage          \n",
              "                             mean       var\n",
              "target                                     \n",
              "0                        0.097194  0.014039\n",
              "1                        0.101175  0.008348"
            ],
            "text/html": [
              "\n",
              "  <div id=\"df-4b68f813-d8cd-47bb-9de4-7c5c2bf2fdad\">\n",
              "    <div class=\"colab-df-container\">\n",
              "      <div>\n",
              "<style scoped>\n",
              "    .dataframe tbody tr th:only-of-type {\n",
              "        vertical-align: middle;\n",
              "    }\n",
              "\n",
              "    .dataframe tbody tr th {\n",
              "        vertical-align: top;\n",
              "    }\n",
              "\n",
              "    .dataframe thead tr th {\n",
              "        text-align: left;\n",
              "    }\n",
              "\n",
              "    .dataframe thead tr:last-of-type th {\n",
              "        text-align: right;\n",
              "    }\n",
              "</style>\n",
              "<table border=\"1\" class=\"dataframe\">\n",
              "  <thead>\n",
              "    <tr>\n",
              "      <th></th>\n",
              "      <th colspan=\"2\" halign=\"left\">capital_letters_percentage</th>\n",
              "    </tr>\n",
              "    <tr>\n",
              "      <th></th>\n",
              "      <th>mean</th>\n",
              "      <th>var</th>\n",
              "    </tr>\n",
              "    <tr>\n",
              "      <th>target</th>\n",
              "      <th></th>\n",
              "      <th></th>\n",
              "    </tr>\n",
              "  </thead>\n",
              "  <tbody>\n",
              "    <tr>\n",
              "      <th>0</th>\n",
              "      <td>0.097194</td>\n",
              "      <td>0.014039</td>\n",
              "    </tr>\n",
              "    <tr>\n",
              "      <th>1</th>\n",
              "      <td>0.101175</td>\n",
              "      <td>0.008348</td>\n",
              "    </tr>\n",
              "  </tbody>\n",
              "</table>\n",
              "</div>\n",
              "      <button class=\"colab-df-convert\" onclick=\"convertToInteractive('df-4b68f813-d8cd-47bb-9de4-7c5c2bf2fdad')\"\n",
              "              title=\"Convert this dataframe to an interactive table.\"\n",
              "              style=\"display:none;\">\n",
              "        \n",
              "  <svg xmlns=\"http://www.w3.org/2000/svg\" height=\"24px\"viewBox=\"0 0 24 24\"\n",
              "       width=\"24px\">\n",
              "    <path d=\"M0 0h24v24H0V0z\" fill=\"none\"/>\n",
              "    <path d=\"M18.56 5.44l.94 2.06.94-2.06 2.06-.94-2.06-.94-.94-2.06-.94 2.06-2.06.94zm-11 1L8.5 8.5l.94-2.06 2.06-.94-2.06-.94L8.5 2.5l-.94 2.06-2.06.94zm10 10l.94 2.06.94-2.06 2.06-.94-2.06-.94-.94-2.06-.94 2.06-2.06.94z\"/><path d=\"M17.41 7.96l-1.37-1.37c-.4-.4-.92-.59-1.43-.59-.52 0-1.04.2-1.43.59L10.3 9.45l-7.72 7.72c-.78.78-.78 2.05 0 2.83L4 21.41c.39.39.9.59 1.41.59.51 0 1.02-.2 1.41-.59l7.78-7.78 2.81-2.81c.8-.78.8-2.07 0-2.86zM5.41 20L4 18.59l7.72-7.72 1.47 1.35L5.41 20z\"/>\n",
              "  </svg>\n",
              "      </button>\n",
              "      \n",
              "  <style>\n",
              "    .colab-df-container {\n",
              "      display:flex;\n",
              "      flex-wrap:wrap;\n",
              "      gap: 12px;\n",
              "    }\n",
              "\n",
              "    .colab-df-convert {\n",
              "      background-color: #E8F0FE;\n",
              "      border: none;\n",
              "      border-radius: 50%;\n",
              "      cursor: pointer;\n",
              "      display: none;\n",
              "      fill: #1967D2;\n",
              "      height: 32px;\n",
              "      padding: 0 0 0 0;\n",
              "      width: 32px;\n",
              "    }\n",
              "\n",
              "    .colab-df-convert:hover {\n",
              "      background-color: #E2EBFA;\n",
              "      box-shadow: 0px 1px 2px rgba(60, 64, 67, 0.3), 0px 1px 3px 1px rgba(60, 64, 67, 0.15);\n",
              "      fill: #174EA6;\n",
              "    }\n",
              "\n",
              "    [theme=dark] .colab-df-convert {\n",
              "      background-color: #3B4455;\n",
              "      fill: #D2E3FC;\n",
              "    }\n",
              "\n",
              "    [theme=dark] .colab-df-convert:hover {\n",
              "      background-color: #434B5C;\n",
              "      box-shadow: 0px 1px 3px 1px rgba(0, 0, 0, 0.15);\n",
              "      filter: drop-shadow(0px 1px 2px rgba(0, 0, 0, 0.3));\n",
              "      fill: #FFFFFF;\n",
              "    }\n",
              "  </style>\n",
              "\n",
              "      <script>\n",
              "        const buttonEl =\n",
              "          document.querySelector('#df-4b68f813-d8cd-47bb-9de4-7c5c2bf2fdad button.colab-df-convert');\n",
              "        buttonEl.style.display =\n",
              "          google.colab.kernel.accessAllowed ? 'block' : 'none';\n",
              "\n",
              "        async function convertToInteractive(key) {\n",
              "          const element = document.querySelector('#df-4b68f813-d8cd-47bb-9de4-7c5c2bf2fdad');\n",
              "          const dataTable =\n",
              "            await google.colab.kernel.invokeFunction('convertToInteractive',\n",
              "                                                     [key], {});\n",
              "          if (!dataTable) return;\n",
              "\n",
              "          const docLinkHtml = 'Like what you see? Visit the ' +\n",
              "            '<a target=\"_blank\" href=https://colab.research.google.com/notebooks/data_table.ipynb>data table notebook</a>'\n",
              "            + ' to learn more about interactive tables.';\n",
              "          element.innerHTML = '';\n",
              "          dataTable['output_type'] = 'display_data';\n",
              "          await google.colab.output.renderOutput(dataTable, element);\n",
              "          const docLink = document.createElement('div');\n",
              "          docLink.innerHTML = docLinkHtml;\n",
              "          element.appendChild(docLink);\n",
              "        }\n",
              "      </script>\n",
              "    </div>\n",
              "  </div>\n",
              "  "
            ]
          },
          "metadata": {},
          "execution_count": 197
        },
        {
          "output_type": "display_data",
          "data": {
            "text/plain": [
              "<Figure size 432x288 with 1 Axes>"
            ],
            "image/png": "[encoded data removed]"
          },
          "metadata": {
            "needs_background": "light"
          }
        }
      ],
      "source": [
        "train_df_add['capital_letters_percentage'] = train_df['text'].apply(lambda x: len(re.findall(r'[A-Z]',x))/len(x))\n",
        "sb.boxplot(data=train_df_add, x='target', y=\"capital_letters_percentage\", hue='target').set_title(\"Tweets capital letters percentage distribution depending on target\")\n",
        "train_df_add.loc[:,['capital_letters_percentage','target']].groupby('target').agg({'capital_letters_percentage':['mean','var']})"
      ]
    },
    {
      "cell_type": "markdown",
      "metadata": {
        "id": "x81uCjfwcLXa"
      },
      "source": [
        "Lengths of real/fake disastert tweets:"
      ]
    },
    {
      "cell_type": "code",
      "execution_count": null,
      "metadata": {
        "id": "4OjGzQVEcLXb",
        "colab": {
          "base_uri": "https://localhost:8080/"
        },
        "outputId": "8680d861-bd07-477f-8ba6-21cfffdc5574"
      },
      "outputs": [
        {
          "output_type": "execute_result",
          "data": {
            "text/plain": [
              "           length            \n",
              "             mean         var\n",
              "target                       \n",
              "0        9.105067  119.277031\n",
              "1       10.774365   92.599230"
            ],
            "text/html": [
              "\n",
              "  <div id=\"df-054ea9fa-3ab2-458a-a1e6-ef60eebb6634\">\n",
              "    <div class=\"colab-df-container\">\n",
              "      <div>\n",
              "<style scoped>\n",
              "    .dataframe tbody tr th:only-of-type {\n",
              "        vertical-align: middle;\n",
              "    }\n",
              "\n",
              "    .dataframe tbody tr th {\n",
              "        vertical-align: top;\n",
              "    }\n",
              "\n",
              "    .dataframe thead tr th {\n",
              "        text-align: left;\n",
              "    }\n",
              "\n",
              "    .dataframe thead tr:last-of-type th {\n",
              "        text-align: right;\n",
              "    }\n",
              "</style>\n",
              "<table border=\"1\" class=\"dataframe\">\n",
              "  <thead>\n",
              "    <tr>\n",
              "      <th></th>\n",
              "      <th colspan=\"2\" halign=\"left\">length</th>\n",
              "    </tr>\n",
              "    <tr>\n",
              "      <th></th>\n",
              "      <th>mean</th>\n",
              "      <th>var</th>\n",
              "    </tr>\n",
              "    <tr>\n",
              "      <th>target</th>\n",
              "      <th></th>\n",
              "      <th></th>\n",
              "    </tr>\n",
              "  </thead>\n",
              "  <tbody>\n",
              "    <tr>\n",
              "      <th>0</th>\n",
              "      <td>9.105067</td>\n",
              "      <td>119.277031</td>\n",
              "    </tr>\n",
              "    <tr>\n",
              "      <th>1</th>\n",
              "      <td>10.774365</td>\n",
              "      <td>92.599230</td>\n",
              "    </tr>\n",
              "  </tbody>\n",
              "</table>\n",
              "</div>\n",
              "      <button class=\"colab-df-convert\" onclick=\"convertToInteractive('df-054ea9fa-3ab2-458a-a1e6-ef60eebb6634')\"\n",
              "              title=\"Convert this dataframe to an interactive table.\"\n",
              "              style=\"display:none;\">\n",
              "        \n",
              "  <svg xmlns=\"http://www.w3.org/2000/svg\" height=\"24px\"viewBox=\"0 0 24 24\"\n",
              "       width=\"24px\">\n",
              "    <path d=\"M0 0h24v24H0V0z\" fill=\"none\"/>\n",
              "    <path d=\"M18.56 5.44l.94 2.06.94-2.06 2.06-.94-2.06-.94-.94-2.06-.94 2.06-2.06.94zm-11 1L8.5 8.5l.94-2.06 2.06-.94-2.06-.94L8.5 2.5l-.94 2.06-2.06.94zm10 10l.94 2.06.94-2.06 2.06-.94-2.06-.94-.94-2.06-.94 2.06-2.06.94z\"/><path d=\"M17.41 7.96l-1.37-1.37c-.4-.4-.92-.59-1.43-.59-.52 0-1.04.2-1.43.59L10.3 9.45l-7.72 7.72c-.78.78-.78 2.05 0 2.83L4 21.41c.39.39.9.59 1.41.59.51 0 1.02-.2 1.41-.59l7.78-7.78 2.81-2.81c.8-.78.8-2.07 0-2.86zM5.41 20L4 18.59l7.72-7.72 1.47 1.35L5.41 20z\"/>\n",
              "  </svg>\n",
              "      </button>\n",
              "      \n",
              "  <style>\n",
              "    .colab-df-container {\n",
              "      display:flex;\n",
              "      flex-wrap:wrap;\n",
              "      gap: 12px;\n",
              "    }\n",
              "\n",
              "    .colab-df-convert {\n",
              "      background-color: #E8F0FE;\n",
              "      border: none;\n",
              "      border-radius: 50%;\n",
              "      cursor: pointer;\n",
              "      display: none;\n",
              "      fill: #1967D2;\n",
              "      height: 32px;\n",
              "      padding: 0 0 0 0;\n",
              "      width: 32px;\n",
              "    }\n",
              "\n",
              "    .colab-df-convert:hover {\n",
              "      background-color: #E2EBFA;\n",
              "      box-shadow: 0px 1px 2px rgba(60, 64, 67, 0.3), 0px 1px 3px 1px rgba(60, 64, 67, 0.15);\n",
              "      fill: #174EA6;\n",
              "    }\n",
              "\n",
              "    [theme=dark] .colab-df-convert {\n",
              "      background-color: #3B4455;\n",
              "      fill: #D2E3FC;\n",
              "    }\n",
              "\n",
              "    [theme=dark] .colab-df-convert:hover {\n",
              "      background-color: #434B5C;\n",
              "      box-shadow: 0px 1px 3px 1px rgba(0, 0, 0, 0.15);\n",
              "      filter: drop-shadow(0px 1px 2px rgba(0, 0, 0, 0.3));\n",
              "      fill: #FFFFFF;\n",
              "    }\n",
              "  </style>\n",
              "\n",
              "      <script>\n",
              "        const buttonEl =\n",
              "          document.querySelector('#df-054ea9fa-3ab2-458a-a1e6-ef60eebb6634 button.colab-df-convert');\n",
              "        buttonEl.style.display =\n",
              "          google.colab.kernel.accessAllowed ? 'block' : 'none';\n",
              "\n",
              "        async function convertToInteractive(key) {\n",
              "          const element = document.querySelector('#df-054ea9fa-3ab2-458a-a1e6-ef60eebb6634');\n",
              "          const dataTable =\n",
              "            await google.colab.kernel.invokeFunction('convertToInteractive',\n",
              "                                                     [key], {});\n",
              "          if (!dataTable) return;\n",
              "\n",
              "          const docLinkHtml = 'Like what you see? Visit the ' +\n",
              "            '<a target=\"_blank\" href=https://colab.research.google.com/notebooks/data_table.ipynb>data table notebook</a>'\n",
              "            + ' to learn more about interactive tables.';\n",
              "          element.innerHTML = '';\n",
              "          dataTable['output_type'] = 'display_data';\n",
              "          await google.colab.output.renderOutput(dataTable, element);\n",
              "          const docLink = document.createElement('div');\n",
              "          docLink.innerHTML = docLinkHtml;\n",
              "          element.appendChild(docLink);\n",
              "        }\n",
              "      </script>\n",
              "    </div>\n",
              "  </div>\n",
              "  "
            ]
          },
          "metadata": {},
          "execution_count": 198
        },
        {
          "output_type": "display_data",
          "data": {
            "text/plain": [
              "<Figure size 432x288 with 1 Axes>"
            ],
            "image/png": "[encoded data removed]"
          },
          "metadata": {
            "needs_background": "light"
          }
        }
      ],
      "source": [
        "train_df_add['length'] = train_df['text'].apply(lambda x: len(re.findall(r'[A-Z]',x)))\n",
        "g=sb.boxplot(data=train_df_add,x='target',y=\"length\",hue='target')\n",
        "g.set_title(\"Tweets lengths distribution depending on target\")\n",
        "train_df_add.loc[:,['length','target']].groupby('target').agg({'length':['mean','var']})"
      ]
    },
    {
      "cell_type": "code",
      "execution_count": null,
      "metadata": {
        "id": "bZd3_sMBcLXb",
        "colab": {
          "base_uri": "https://localhost:8080/"
        },
        "outputId": "b3ef9a91-e760-43f5-ee97-af12ec27f541"
      },
      "outputs": [
        {
          "output_type": "execute_result",
          "data": {
            "text/plain": [
              "       exclamation               \n",
              "              mean       var  sum\n",
              "target                           \n",
              "0         0.193166  0.453494  831\n",
              "1         0.101536  0.290001  324"
            ],
            "text/html": [
              "\n",
              "  <div id=\"df-a82035fa-fec6-4349-9b68-4795e28c2aa2\">\n",
              "    <div class=\"colab-df-container\">\n",
              "      <div>\n",
              "<style scoped>\n",
              "    .dataframe tbody tr th:only-of-type {\n",
              "        vertical-align: middle;\n",
              "    }\n",
              "\n",
              "    .dataframe tbody tr th {\n",
              "        vertical-align: top;\n",
              "    }\n",
              "\n",
              "    .dataframe thead tr th {\n",
              "        text-align: left;\n",
              "    }\n",
              "\n",
              "    .dataframe thead tr:last-of-type th {\n",
              "        text-align: right;\n",
              "    }\n",
              "</style>\n",
              "<table border=\"1\" class=\"dataframe\">\n",
              "  <thead>\n",
              "    <tr>\n",
              "      <th></th>\n",
              "      <th colspan=\"3\" halign=\"left\">exclamation</th>\n",
              "    </tr>\n",
              "    <tr>\n",
              "      <th></th>\n",
              "      <th>mean</th>\n",
              "      <th>var</th>\n",
              "      <th>sum</th>\n",
              "    </tr>\n",
              "    <tr>\n",
              "      <th>target</th>\n",
              "      <th></th>\n",
              "      <th></th>\n",
              "      <th></th>\n",
              "    </tr>\n",
              "  </thead>\n",
              "  <tbody>\n",
              "    <tr>\n",
              "      <th>0</th>\n",
              "      <td>0.193166</td>\n",
              "      <td>0.453494</td>\n",
              "      <td>831</td>\n",
              "    </tr>\n",
              "    <tr>\n",
              "      <th>1</th>\n",
              "      <td>0.101536</td>\n",
              "      <td>0.290001</td>\n",
              "      <td>324</td>\n",
              "    </tr>\n",
              "  </tbody>\n",
              "</table>\n",
              "</div>\n",
              "      <button class=\"colab-df-convert\" onclick=\"convertToInteractive('df-a82035fa-fec6-4349-9b68-4795e28c2aa2')\"\n",
              "              title=\"Convert this dataframe to an interactive table.\"\n",
              "              style=\"display:none;\">\n",
              "        \n",
              "  <svg xmlns=\"http://www.w3.org/2000/svg\" height=\"24px\"viewBox=\"0 0 24 24\"\n",
              "       width=\"24px\">\n",
              "    <path d=\"M0 0h24v24H0V0z\" fill=\"none\"/>\n",
              "    <path d=\"M18.56 5.44l.94 2.06.94-2.06 2.06-.94-2.06-.94-.94-2.06-.94 2.06-2.06.94zm-11 1L8.5 8.5l.94-2.06 2.06-.94-2.06-.94L8.5 2.5l-.94 2.06-2.06.94zm10 10l.94 2.06.94-2.06 2.06-.94-2.06-.94-.94-2.06-.94 2.06-2.06.94z\"/><path d=\"M17.41 7.96l-1.37-1.37c-.4-.4-.92-.59-1.43-.59-.52 0-1.04.2-1.43.59L10.3 9.45l-7.72 7.72c-.78.78-.78 2.05 0 2.83L4 21.41c.39.39.9.59 1.41.59.51 0 1.02-.2 1.41-.59l7.78-7.78 2.81-2.81c.8-.78.8-2.07 0-2.86zM5.41 20L4 18.59l7.72-7.72 1.47 1.35L5.41 20z\"/>\n",
              "  </svg>\n",
              "      </button>\n",
              "      \n",
              "  <style>\n",
              "    .colab-df-container {\n",
              "      display:flex;\n",
              "      flex-wrap:wrap;\n",
              "      gap: 12px;\n",
              "    }\n",
              "\n",
              "    .colab-df-convert {\n",
              "      background-color: #E8F0FE;\n",
              "      border: none;\n",
              "      border-radius: 50%;\n",
              "      cursor: pointer;\n",
              "      display: none;\n",
              "      fill: #1967D2;\n",
              "      height: 32px;\n",
              "      padding: 0 0 0 0;\n",
              "      width: 32px;\n",
              "    }\n",
              "\n",
              "    .colab-df-convert:hover {\n",
              "      background-color: #E2EBFA;\n",
              "      box-shadow: 0px 1px 2px rgba(60, 64, 67, 0.3), 0px 1px 3px 1px rgba(60, 64, 67, 0.15);\n",
              "      fill: #174EA6;\n",
              "    }\n",
              "\n",
              "    [theme=dark] .colab-df-convert {\n",
              "      background-color: #3B4455;\n",
              "      fill: #D2E3FC;\n",
              "    }\n",
              "\n",
              "    [theme=dark] .colab-df-convert:hover {\n",
              "      background-color: #434B5C;\n",
              "      box-shadow: 0px 1px 3px 1px rgba(0, 0, 0, 0.15);\n",
              "      filter: drop-shadow(0px 1px 2px rgba(0, 0, 0, 0.3));\n",
              "      fill: #FFFFFF;\n",
              "    }\n",
              "  </style>\n",
              "\n",
              "      <script>\n",
              "        const buttonEl =\n",
              "          document.querySelector('#df-a82035fa-fec6-4349-9b68-4795e28c2aa2 button.colab-df-convert');\n",
              "        buttonEl.style.display =\n",
              "          google.colab.kernel.accessAllowed ? 'block' : 'none';\n",
              "\n",
              "        async function convertToInteractive(key) {\n",
              "          const element = document.querySelector('#df-a82035fa-fec6-4349-9b68-4795e28c2aa2');\n",
              "          const dataTable =\n",
              "            await google.colab.kernel.invokeFunction('convertToInteractive',\n",
              "                                                     [key], {});\n",
              "          if (!dataTable) return;\n",
              "\n",
              "          const docLinkHtml = 'Like what you see? Visit the ' +\n",
              "            '<a target=\"_blank\" href=https://colab.research.google.com/notebooks/data_table.ipynb>data table notebook</a>'\n",
              "            + ' to learn more about interactive tables.';\n",
              "          element.innerHTML = '';\n",
              "          dataTable['output_type'] = 'display_data';\n",
              "          await google.colab.output.renderOutput(dataTable, element);\n",
              "          const docLink = document.createElement('div');\n",
              "          docLink.innerHTML = docLinkHtml;\n",
              "          element.appendChild(docLink);\n",
              "        }\n",
              "      </script>\n",
              "    </div>\n",
              "  </div>\n",
              "  "
            ]
          },
          "metadata": {},
          "execution_count": 199
        },
        {
          "output_type": "display_data",
          "data": {
            "text/plain": [
              "<Figure size 432x288 with 1 Axes>"
            ],
            "image/png": "[encoded data removed]"
          },
          "metadata": {
            "needs_background": "light"
          }
        }
      ],
      "source": [
        "train_df_add['exclamation'] = train_df['text'].apply(lambda x: len(re.findall(r'!',x)))\n",
        "g = sb.histplot(data=train_df_add, x=\"exclamation\", hue='target', multiple=\"dodge\")\n",
        "g.set_title(\"Tweets number of exclamation marks distribution depending on target\")\n",
        "g.set_xlim(0,5)\n",
        "train_df_add.loc[:,['exclamation','target']].groupby('target').agg({'exclamation':['mean','var','sum']})"
      ]
    },
    {
      "cell_type": "markdown",
      "metadata": {
        "id": "zYcIsocQcLXb"
      },
      "source": [
        "## Baseline Classification Models"
      ]
    },
    {
      "cell_type": "markdown",
      "source": [
        "### Splitting and vectorizing Data"
      ],
      "metadata": {
        "id": "q-GC-kgMil5V"
      }
    },
    {
      "cell_type": "markdown",
      "metadata": {
        "id": "v41Sk-SmcLXb"
      },
      "source": [
        "Since the test dataset actually has no labels, we split train data into training and testing."
      ]
    },
    {
      "cell_type": "code",
      "source": [
        "vectorizer = TfidfVectorizer(sublinear_tf=True, max_df=0.5, stop_words=\"english\")\n",
        "X = vectorizer.fit_transform(train_df.text)\n",
        "Xc = vectorizer.fit_transform(train_df.text_clean)\n",
        "Y = train_df.target\n",
        "\n",
        "X_train, X_test, Y_train, Y_test = train_test_split(X, Y, test_size=0.1, random_state=42, stratify=Y)\n",
        "Xc_train, Xc_test, Yc_train, Yc_test = train_test_split(Xc, Y, test_size=0.1, random_state=42, stratify=Y)"
      ],
      "metadata": {
        "id": "EeXUteDqiuPG"
      },
      "execution_count": null,
      "outputs": []
    },
    {
      "cell_type": "markdown",
      "metadata": {
        "id": "7NUpwp4fcLXb"
      },
      "source": [
        "### Naïve Bayes Model"
      ]
    },
    {
      "cell_type": "markdown",
      "metadata": {
        "id": "VIOPfv5ecLXb"
      },
      "source": [
        "For training, we use the `sklearn` library for Naïve Bayes classifier"
      ]
    },
    {
      "cell_type": "code",
      "execution_count": null,
      "metadata": {
        "id": "1_YsTEGmcLXb",
        "colab": {
          "base_uri": "https://localhost:8080/"
        },
        "outputId": "b17b32db-b1bc-49e0-8851-fb29ed81c19f"
      },
      "outputs": [
        {
          "output_type": "execute_result",
          "data": {
            "text/plain": [
              "MultinomialNB(alpha=1)"
            ]
          },
          "metadata": {},
          "execution_count": 84
        }
      ],
      "source": [
        "nbc = MultinomialNB(alpha=1)\n",
        "nbc.fit(X_train, Y_train)\n",
        "\n",
        "nbc2 = MultinomialNB(alpha=1)\n",
        "nbc2.fit(Xc_train, Yc_train)"
      ]
    },
    {
      "cell_type": "code",
      "execution_count": null,
      "metadata": {
        "id": "vUHd1nKocLXb"
      },
      "outputs": [],
      "source": [
        "nbc_pred = nbc.predict(X_test)\n",
        "nbc_pred2 = nbc2.predict(Xc_test)"
      ]
    },
    {
      "cell_type": "code",
      "execution_count": null,
      "metadata": {
        "id": "BK2QuotpcLXb",
        "colab": {
          "base_uri": "https://localhost:8080/"
        },
        "outputId": "c66d0575-93cb-4596-f677-cc1266cc771a"
      },
      "outputs": [
        {
          "output_type": "stream",
          "name": "stdout",
          "text": [
            "Using Text column without cleaning\n",
            "accuracy:   0.809\n",
            "classification report:\n",
            "              precision    recall  f1-score   support\n",
            "\n",
            "           0       0.79      0.91      0.85       431\n",
            "           1       0.85      0.67      0.75       319\n",
            "\n",
            "    accuracy                           0.81       750\n",
            "   macro avg       0.82      0.79      0.80       750\n",
            "weighted avg       0.81      0.81      0.81       750\n",
            "\n",
            "confusion matrix:\n",
            "[[393  38]\n",
            " [105 214]]\n",
            "\n",
            "Using Text column after cleaning\n",
            "accuracy:   0.799\n",
            "classification report:\n",
            "              precision    recall  f1-score   support\n",
            "\n",
            "           0       0.78      0.90      0.84       431\n",
            "           1       0.83      0.66      0.74       319\n",
            "\n",
            "    accuracy                           0.80       750\n",
            "   macro avg       0.81      0.78      0.79       750\n",
            "weighted avg       0.80      0.80      0.79       750\n",
            "\n",
            "confusion matrix:\n",
            "[[387  44]\n",
            " [107 212]]\n"
          ]
        }
      ],
      "source": [
        "score = metrics.accuracy_score(Y_test, nbc_pred)\n",
        "print('Using Text column without cleaning')\n",
        "print(\"accuracy:   %0.3f\" % score)\n",
        "\n",
        "print(\"classification report:\")\n",
        "print(metrics.classification_report(Y_test, nbc_pred))\n",
        "\n",
        "print(\"confusion matrix:\")\n",
        "print(metrics.confusion_matrix(Y_test, nbc_pred))\n",
        "print()\n",
        "\n",
        "print(\"Using Text column after cleaning\")\n",
        "score2 = metrics.accuracy_score(Yc_test, nbc_pred2)\n",
        "print(\"accuracy:   %0.3f\" % score2)\n",
        "\n",
        "print(\"classification report:\")\n",
        "print(metrics.classification_report(Yc_test, nbc_pred2))\n",
        "\n",
        "print(\"confusion matrix:\")\n",
        "print(metrics.confusion_matrix(Yc_test, nbc_pred2))"
      ]
    },
    {
      "cell_type": "markdown",
      "source": [
        "From results we can observe that results are quite similar between using Text from the tweet with or without cleaning, obtaining better result with Text without cleaning."
      ],
      "metadata": {
        "id": "-8DjiovxiIU8"
      }
    },
    {
      "cell_type": "markdown",
      "metadata": {
        "id": "m6J43fohcLXd"
      },
      "source": [
        "### XGBoost"
      ]
    },
    {
      "cell_type": "code",
      "execution_count": null,
      "metadata": {
        "id": "Cp_mFGzdcLXd",
        "colab": {
          "base_uri": "https://localhost:8080/"
        },
        "outputId": "2b55fa00-95ab-4142-e46c-c07d80c704e8"
      },
      "outputs": [
        {
          "output_type": "execute_result",
          "data": {
            "text/plain": [
              "XGBClassifier(random_state=42)"
            ]
          },
          "metadata": {},
          "execution_count": 93
        }
      ],
      "source": [
        "xgb = XGBClassifier(random_state=42, objective='binary:logistic')\n",
        "xgb.fit(X_train, Y_train)\n",
        "\n",
        "xgb2 = XGBClassifier(random_state=42, objective='binary:logistic')\n",
        "xgb2.fit(Xc_train, Yc_train)"
      ]
    },
    {
      "cell_type": "code",
      "source": [
        "xgb_pred = xgb.predict(X_test)\n",
        "xgb_pred2 = xgb2.predict(Xc_test)"
      ],
      "metadata": {
        "id": "6q2xNTFsjtL2"
      },
      "execution_count": null,
      "outputs": []
    },
    {
      "cell_type": "code",
      "execution_count": null,
      "metadata": {
        "id": "CBqDajOucLXd",
        "colab": {
          "base_uri": "https://localhost:8080/"
        },
        "outputId": "910fe697-8454-46f2-ec4a-7ca9a8077230"
      },
      "outputs": [
        {
          "output_type": "stream",
          "name": "stdout",
          "text": [
            "Using Text column without cleaning\n",
            "accuracy:   0.757\n",
            "classification report:\n",
            "              precision    recall  f1-score   support\n",
            "\n",
            "           0       0.72      0.94      0.82       431\n",
            "           1       0.86      0.51      0.64       319\n",
            "\n",
            "    accuracy                           0.76       750\n",
            "   macro avg       0.79      0.73      0.73       750\n",
            "weighted avg       0.78      0.76      0.74       750\n",
            "\n",
            "confusion matrix:\n",
            "[[405  26]\n",
            " [156 163]]\n",
            "\n",
            "Using Text column without cleaning\n",
            "accuracy:   0.736\n",
            "classification report:\n",
            "              precision    recall  f1-score   support\n",
            "\n",
            "           0       0.71      0.92      0.80       431\n",
            "           1       0.82      0.49      0.61       319\n",
            "\n",
            "    accuracy                           0.74       750\n",
            "   macro avg       0.76      0.70      0.71       750\n",
            "weighted avg       0.75      0.74      0.72       750\n",
            "\n",
            "confusion matrix:\n",
            "[[396  35]\n",
            " [163 156]]\n"
          ]
        }
      ],
      "source": [
        "score = metrics.accuracy_score(Y_test, xgb_pred)\n",
        "print('Using Text column without cleaning')\n",
        "print(\"accuracy:   %0.3f\" % score)\n",
        "\n",
        "print(\"classification report:\")\n",
        "print(metrics.classification_report(Y_test, xgb_pred))\n",
        "\n",
        "print(\"confusion matrix:\")\n",
        "print(metrics.confusion_matrix(Y_test, xgb_pred))\n",
        "print()\n",
        "\n",
        "score2 = metrics.accuracy_score(Y_test, xgb_pred2)\n",
        "print('Using Text column without cleaning')\n",
        "print(\"accuracy:   %0.3f\" % score2)\n",
        "\n",
        "print(\"classification report:\")\n",
        "print(metrics.classification_report(Y_test, xgb_pred2))\n",
        "\n",
        "print(\"confusion matrix:\")\n",
        "print(metrics.confusion_matrix(Y_test, xgb_pred2))"
      ]
    },
    {
      "cell_type": "markdown",
      "metadata": {
        "id": "mWvT1pWCcLXd"
      },
      "source": [
        "### Logistic Regression"
      ]
    },
    {
      "cell_type": "code",
      "execution_count": null,
      "metadata": {
        "id": "L3tQ8ceqcLXe",
        "colab": {
          "base_uri": "https://localhost:8080/"
        },
        "outputId": "e63ed0a9-b8b1-4d5c-90e4-5cc8624ce212"
      },
      "outputs": [
        {
          "output_type": "execute_result",
          "data": {
            "text/plain": [
              "LogisticRegression()"
            ]
          },
          "metadata": {},
          "execution_count": 101
        }
      ],
      "source": [
        "log_reg = LogisticRegression()\n",
        "log_reg.fit(X_train, Y_train)\n",
        "\n",
        "log_reg2 = LogisticRegression()\n",
        "log_reg2.fit(Xc_train, Yc_train)"
      ]
    },
    {
      "cell_type": "code",
      "source": [
        "log_reg_pred = log_reg.predict(X_test)\n",
        "log_reg_pred2 = log_reg2.predict(Xc_test)"
      ],
      "metadata": {
        "id": "_LETwiXVlTwa"
      },
      "execution_count": null,
      "outputs": []
    },
    {
      "cell_type": "code",
      "execution_count": null,
      "metadata": {
        "id": "_vAO3V1KcLXe",
        "colab": {
          "base_uri": "https://localhost:8080/"
        },
        "outputId": "0d50773d-0043-4f98-8500-76098c42655a"
      },
      "outputs": [
        {
          "output_type": "stream",
          "name": "stdout",
          "text": [
            "Using Text column without cleaning\n",
            "accuracy:   0.804\n",
            "classification report:\n",
            "              precision    recall  f1-score   support\n",
            "\n",
            "           0       0.78      0.91      0.84       431\n",
            "           1       0.85      0.66      0.74       319\n",
            "\n",
            "    accuracy                           0.80       750\n",
            "   macro avg       0.81      0.79      0.79       750\n",
            "weighted avg       0.81      0.80      0.80       750\n",
            "\n",
            "confusion matrix:\n",
            "[[393  38]\n",
            " [109 210]]\n",
            "\n",
            "Using Text column without cleaning\n",
            "accuracy:   0.804\n",
            "classification report:\n",
            "              precision    recall  f1-score   support\n",
            "\n",
            "           0       0.78      0.91      0.84       431\n",
            "           1       0.85      0.66      0.74       319\n",
            "\n",
            "    accuracy                           0.80       750\n",
            "   macro avg       0.82      0.78      0.79       750\n",
            "weighted avg       0.81      0.80      0.80       750\n",
            "\n",
            "confusion matrix:\n",
            "[[394  37]\n",
            " [110 209]]\n"
          ]
        }
      ],
      "source": [
        "score = metrics.accuracy_score(Y_test, log_reg_pred)\n",
        "print('Using Text column without cleaning')\n",
        "print(\"accuracy:   %0.3f\" % score)\n",
        "\n",
        "print(\"classification report:\")\n",
        "print(metrics.classification_report(Y_test, log_reg_pred))\n",
        "\n",
        "print(\"confusion matrix:\")\n",
        "print(metrics.confusion_matrix(Y_test, log_reg_pred))\n",
        "print()\n",
        "\n",
        "score2 = metrics.accuracy_score(Y_test, log_reg_pred2)\n",
        "print('Using Text column without cleaning')\n",
        "print(\"accuracy:   %0.3f\" % score2)\n",
        "\n",
        "print(\"classification report:\")\n",
        "print(metrics.classification_report(Y_test, log_reg_pred2))\n",
        "\n",
        "print(\"confusion matrix:\")\n",
        "print(metrics.confusion_matrix(Y_test, log_reg_pred2))"
      ]
    },
    {
      "cell_type": "markdown",
      "metadata": {
        "id": "kq7lKb7vcLXe"
      },
      "source": [
        "### Random Forest"
      ]
    },
    {
      "cell_type": "markdown",
      "metadata": {
        "id": "JE0mSU6OcLXh"
      },
      "source": [
        "#### Approach 1: OneHot encoding"
      ]
    },
    {
      "cell_type": "code",
      "execution_count": null,
      "metadata": {
        "id": "eTNjRTpicLXi"
      },
      "outputs": [],
      "source": [
        "onehot_encoder = OneHotEncoder(sparse=False)\n",
        "X1=onehot_encoder.fit_transform(train_df[['keyword']].replace(np.NaN,\"\"))\n",
        "X2=onehot_encoder.fit_transform(train_df[['keyword_text_with_hash']].replace(np.NaN,\"\"))\n",
        "X3=onehot_encoder.fit_transform(train_df[['keyword_text_with_hash','location_text_with_spacy']].replace(np.NaN,\"\"))\n",
        "Y=train_df['target']\n",
        "X1_train, X1_test, Y1_train, Y1_test = train_test_split(X1,Y,test_size=0.1,stratify=Y)\n",
        "X2_train, X2_test, Y2_train, Y2_test = train_test_split(X2,Y,test_size=0.1,stratify=Y)\n",
        "X3_train, X3_test, Y3_train, Y3_test = train_test_split(X3,Y,test_size=0.1,stratify=Y)"
      ]
    },
    {
      "cell_type": "code",
      "execution_count": null,
      "metadata": {
        "id": "9ylXEAS5cLXi",
        "colab": {
          "base_uri": "https://localhost:8080/"
        },
        "outputId": "c5f824b2-2f49-4589-ce15-72dcde6a8eeb"
      },
      "outputs": [
        {
          "output_type": "execute_result",
          "data": {
            "text/plain": [
              "RandomForestClassifier()"
            ]
          },
          "metadata": {},
          "execution_count": 111
        }
      ],
      "source": [
        "classifier1 = RandomForestClassifier(n_estimators=100,bootstrap=True)\n",
        "classifier1.fit(X1_train, Y1_train) \n",
        "classifier2 = RandomForestClassifier(n_estimators=100,bootstrap=True)\n",
        "classifier2.fit(X2_train, Y2_train) \n",
        "classifier3 = RandomForestClassifier(n_estimators=100,bootstrap=True)\n",
        "classifier3.fit(X3_train, Y3_train) "
      ]
    },
    {
      "cell_type": "markdown",
      "source": [
        "With only keyword"
      ],
      "metadata": {
        "id": "ZF2tAezZnObU"
      }
    },
    {
      "cell_type": "code",
      "execution_count": null,
      "metadata": {
        "id": "TVvly0RacLXi",
        "colab": {
          "base_uri": "https://localhost:8080/"
        },
        "outputId": "11dbf8c7-9e19-49f1-dd22-9281f5a45c48"
      },
      "outputs": [
        {
          "output_type": "stream",
          "name": "stdout",
          "text": [
            "accuracy:   0.748\n",
            "classification report:\n",
            "              precision    recall  f1-score   support\n",
            "\n",
            "           0       0.76      0.83      0.79       431\n",
            "           1       0.73      0.64      0.68       319\n",
            "\n",
            "    accuracy                           0.75       750\n",
            "   macro avg       0.75      0.73      0.74       750\n",
            "weighted avg       0.75      0.75      0.75       750\n",
            "\n",
            "confusion matrix:\n",
            "[[357  74]\n",
            " [115 204]]\n"
          ]
        }
      ],
      "source": [
        "predictions = classifier1.predict(X1_test)\n",
        "score = metrics.accuracy_score(Y1_test, predictions)\n",
        "print(\"accuracy:   %0.3f\" % score)\n",
        "\n",
        "print(\"classification report:\")\n",
        "print(metrics.classification_report(Y1_test, predictions))\n",
        "\n",
        "print(\"confusion matrix:\")\n",
        "print(metrics.confusion_matrix(Y1_test, predictions))"
      ]
    },
    {
      "cell_type": "markdown",
      "source": [
        "Keyword text with hashtag only"
      ],
      "metadata": {
        "id": "tmynzsu7nWT9"
      }
    },
    {
      "cell_type": "code",
      "execution_count": null,
      "metadata": {
        "id": "Bj3zeqAQcLXi",
        "colab": {
          "base_uri": "https://localhost:8080/"
        },
        "outputId": "eccd1764-3b99-4cea-d290-466c0a3eb9eb"
      },
      "outputs": [
        {
          "output_type": "stream",
          "name": "stdout",
          "text": [
            "accuracy:   0.724\n",
            "classification report:\n",
            "              precision    recall  f1-score   support\n",
            "\n",
            "           0       0.73      0.82      0.77       431\n",
            "           1       0.71      0.60      0.65       319\n",
            "\n",
            "    accuracy                           0.72       750\n",
            "   macro avg       0.72      0.71      0.71       750\n",
            "weighted avg       0.72      0.72      0.72       750\n",
            "\n",
            "confusion matrix:\n",
            "[[353  78]\n",
            " [129 190]]\n"
          ]
        }
      ],
      "source": [
        "predictions = classifier2.predict(X2_test)\n",
        "score = metrics.accuracy_score(Y2_test, predictions)\n",
        "print(\"accuracy:   %0.3f\" % score)\n",
        "\n",
        "print(\"classification report:\")\n",
        "print(metrics.classification_report(Y2_test, predictions))\n",
        "\n",
        "print(\"confusion matrix:\")\n",
        "print(metrics.confusion_matrix(Y2_test, predictions))"
      ]
    },
    {
      "cell_type": "markdown",
      "source": [
        "Keyword text with hashtag plus location text with spacy"
      ],
      "metadata": {
        "id": "6vgrmDPtnZ7v"
      }
    },
    {
      "cell_type": "code",
      "execution_count": null,
      "metadata": {
        "id": "yaQrhyl-cLXi",
        "colab": {
          "base_uri": "https://localhost:8080/"
        },
        "outputId": "2c511582-6f25-47ac-9e4a-37d4df639584"
      },
      "outputs": [
        {
          "output_type": "stream",
          "name": "stdout",
          "text": [
            "accuracy:   0.697\n",
            "classification report:\n",
            "              precision    recall  f1-score   support\n",
            "\n",
            "           0       0.70      0.82      0.76       431\n",
            "           1       0.69      0.53      0.60       319\n",
            "\n",
            "    accuracy                           0.70       750\n",
            "   macro avg       0.69      0.68      0.68       750\n",
            "weighted avg       0.70      0.70      0.69       750\n",
            "\n",
            "confusion matrix:\n",
            "[[354  77]\n",
            " [150 169]]\n"
          ]
        }
      ],
      "source": [
        "predictions = classifier3.predict(X3_test)\n",
        "score = metrics.accuracy_score(Y3_test, predictions)\n",
        "print(\"accuracy:   %0.3f\" % score)\n",
        "\n",
        "print(\"classification report:\")\n",
        "print(metrics.classification_report(Y3_test, predictions))\n",
        "\n",
        "print(\"confusion matrix:\")\n",
        "print(metrics.confusion_matrix(Y3_test, predictions))"
      ]
    },
    {
      "cell_type": "markdown",
      "metadata": {
        "id": "RM2ZLlc2cLXi"
      },
      "source": [
        "#### Approach 2: Word2Vec on 'text_clean', then 'keyword_text_with_hash' as vectors"
      ]
    },
    {
      "cell_type": "code",
      "execution_count": null,
      "metadata": {
        "id": "cuaWiL36cLXi"
      },
      "outputs": [],
      "source": [
        "from gensim.models import Word2Vec\n",
        "X=train_df[['text_clean','keyword_text_with_hash']].replace(np.NaN,\"\")\n",
        "Y=train_df['target']\n",
        "X_train, X_test, Y_train, Y_test = train_test_split(X,Y,test_size=0.1,stratify=Y)\n",
        "class SentenceIterator: \n",
        "    def __init__(self, column): \n",
        "        self.column = column\n",
        "\n",
        "    def __iter__(self): \n",
        "        for i in self.column.index:\n",
        "                yield self.column[i].split(\" \") \n",
        "sentences=SentenceIterator(X_train['text_clean'])\n",
        "model=Word2Vec(sentences=sentences,window=3)"
      ]
    },
    {
      "cell_type": "code",
      "execution_count": null,
      "metadata": {
        "id": "KUv1LokUcLXi",
        "colab": {
          "base_uri": "https://localhost:8080/"
        },
        "outputId": "7a19112e-eced-4ab0-f3a3-fa17cb8c7c9e"
      },
      "outputs": [
        {
          "output_type": "stream",
          "name": "stdout",
          "text": [
            "Found:6338\n",
            "Not found:1155\n"
          ]
        }
      ],
      "source": [
        "m=(model.wv.get_vector(\"is\")).shape[0]\n",
        "d=dict()\n",
        "i=0\n",
        "j=0\n",
        "\n",
        "X_train_v=np.empty((0,m))\n",
        "for t in X_train.index:\n",
        "    word=X_train['keyword_text_with_hash'][t].split(\" \")[-1]\n",
        "    try:\n",
        "        X_train_v=np.vstack([X_train_v,model.wv.get_vector(word)])\n",
        "        i+=1\n",
        "    except Exception:\n",
        "        j+=1\n",
        "        if word not in d.keys():\n",
        "            d[word]=2*np.random.rand(m)-1\n",
        "        X_train_v=np.vstack([X_train_v,d[word]])\n",
        "\n",
        "            \n",
        "X_test_v=np.empty((0,m))\n",
        "for t in X_test.index:\n",
        "    word=X_test['keyword_text_with_hash'][t].split(\" \")[-1]\n",
        "    try:\n",
        "        X_test_v=np.vstack([X_test_v,model.wv.get_vector(word)])\n",
        "        i+=1\n",
        "    except Exception:\n",
        "        j+=1\n",
        "        if word not in d.keys():\n",
        "            d[word]=2*np.random.rand(m)-1\n",
        "        X_test_v=np.vstack([X_test_v,d[word]])\n",
        "print(f'Found:{i}\\nNot found:{j}')"
      ]
    },
    {
      "cell_type": "code",
      "execution_count": null,
      "metadata": {
        "id": "itt-JsCYcLXi",
        "colab": {
          "base_uri": "https://localhost:8080/"
        },
        "outputId": "c94e83c3-7300-4c09-8fc7-e8ee7940aee7"
      },
      "outputs": [
        {
          "output_type": "execute_result",
          "data": {
            "text/plain": [
              "RandomForestClassifier(n_estimators=1000)"
            ]
          },
          "metadata": {},
          "execution_count": 117
        }
      ],
      "source": [
        "classifier = RandomForestClassifier(n_estimators=1000,bootstrap=True)\n",
        "classifier.fit(X_train_v, Y_train) "
      ]
    },
    {
      "cell_type": "code",
      "execution_count": null,
      "metadata": {
        "id": "g_aDRZAecLXi",
        "colab": {
          "base_uri": "https://localhost:8080/"
        },
        "outputId": "a1d8374c-0fe5-43bd-88bd-0a2d7aaaf764"
      },
      "outputs": [
        {
          "output_type": "stream",
          "name": "stdout",
          "text": [
            "accuracy:   0.728\n",
            "classification report:\n",
            "              precision    recall  f1-score   support\n",
            "\n",
            "           0       0.74      0.81      0.77       431\n",
            "           1       0.70      0.62      0.66       319\n",
            "\n",
            "    accuracy                           0.73       750\n",
            "   macro avg       0.72      0.71      0.72       750\n",
            "weighted avg       0.73      0.73      0.73       750\n",
            "\n",
            "confusion matrix:\n",
            "[[347  84]\n",
            " [120 199]]\n"
          ]
        }
      ],
      "source": [
        "predictions = classifier.predict(X_test_v)\n",
        "score = metrics.accuracy_score(Y_test, predictions)\n",
        "print(\"accuracy:   %0.3f\" % score)\n",
        "\n",
        "print(\"classification report:\")\n",
        "print(metrics.classification_report(Y_test, predictions))\n",
        "\n",
        "print(\"confusion matrix:\")\n",
        "print(metrics.confusion_matrix(Y_test, predictions))"
      ]
    },
    {
      "cell_type": "markdown",
      "metadata": {
        "id": "xJNgqfglcLXi"
      },
      "source": [
        "#### Approach 3: TF-IDF encoding"
      ]
    },
    {
      "cell_type": "code",
      "source": [
        "rf = RandomForestClassifier(n_estimators=1000,bootstrap=True)\n",
        "rf.fit(X_train, Y_train)\n",
        "\n",
        "rf2 = RandomForestClassifier(n_estimators=1000,bootstrap=True)\n",
        "rf2.fit(Xc_train, Yc_train)"
      ],
      "metadata": {
        "colab": {
          "base_uri": "https://localhost:8080/"
        },
        "id": "eCaj7wvAnsg7",
        "outputId": "95f41d38-2c97-4619-cd18-8c8970b7c3f8"
      },
      "execution_count": null,
      "outputs": [
        {
          "output_type": "execute_result",
          "data": {
            "text/plain": [
              "RandomForestClassifier(n_estimators=1000)"
            ]
          },
          "metadata": {},
          "execution_count": 122
        }
      ]
    },
    {
      "cell_type": "code",
      "source": [
        "rf_pred = rf.predict(X_test)\n",
        "rf_pred2 = rf2.predict(Xc_test)"
      ],
      "metadata": {
        "id": "7joxRxQfnxA-"
      },
      "execution_count": null,
      "outputs": []
    },
    {
      "cell_type": "code",
      "source": [
        "score = metrics.accuracy_score(Y_test, rf_pred)\n",
        "print('Using Text column without cleaning')\n",
        "print(\"accuracy:   %0.3f\" % score)\n",
        "\n",
        "print(\"classification report:\")\n",
        "print(metrics.classification_report(Y_test, rf_pred))\n",
        "\n",
        "print(\"confusion matrix:\")\n",
        "print(metrics.confusion_matrix(Y_test, rf_pred))\n",
        "print()\n",
        "\n",
        "score2 = metrics.accuracy_score(Y_test, rf_pred2)\n",
        "print('Using Text column without cleaning')\n",
        "print(\"accuracy:   %0.3f\" % score2)\n",
        "\n",
        "print(\"classification report:\")\n",
        "print(metrics.classification_report(Y_test, rf_pred2))\n",
        "\n",
        "print(\"confusion matrix:\")\n",
        "print(metrics.confusion_matrix(Y_test, rf_pred2))"
      ],
      "metadata": {
        "colab": {
          "base_uri": "https://localhost:8080/"
        },
        "id": "BvSNZ5Mmn0im",
        "outputId": "49515dff-a825-4415-f6c0-5b75b5f6fd61"
      },
      "execution_count": null,
      "outputs": [
        {
          "output_type": "stream",
          "name": "stdout",
          "text": [
            "Using Text column without cleaning\n",
            "accuracy:   0.785\n",
            "classification report:\n",
            "              precision    recall  f1-score   support\n",
            "\n",
            "           0       0.76      0.90      0.83       431\n",
            "           1       0.83      0.62      0.71       319\n",
            "\n",
            "    accuracy                           0.79       750\n",
            "   macro avg       0.80      0.76      0.77       750\n",
            "weighted avg       0.79      0.79      0.78       750\n",
            "\n",
            "confusion matrix:\n",
            "[[390  41]\n",
            " [120 199]]\n",
            "\n",
            "Using Text column without cleaning\n",
            "accuracy:   0.777\n",
            "classification report:\n",
            "              precision    recall  f1-score   support\n",
            "\n",
            "           0       0.77      0.88      0.82       431\n",
            "           1       0.79      0.64      0.71       319\n",
            "\n",
            "    accuracy                           0.78       750\n",
            "   macro avg       0.78      0.76      0.76       750\n",
            "weighted avg       0.78      0.78      0.77       750\n",
            "\n",
            "confusion matrix:\n",
            "[[378  53]\n",
            " [114 205]]\n"
          ]
        }
      ]
    },
    {
      "cell_type": "markdown",
      "source": [
        "## NLP Models"
      ],
      "metadata": {
        "id": "0Z57-LzYoEhi"
      }
    },
    {
      "cell_type": "markdown",
      "metadata": {
        "id": "GyA5pcxPcLXc"
      },
      "source": [
        "### Zero-shot classification\n",
        "\n",
        "For this task, the model is able to classify text into given input classes without training. The key part in making this work is finding optimal class names."
      ]
    },
    {
      "cell_type": "code",
      "execution_count": null,
      "metadata": {
        "id": "XW8674q_cLXc"
      },
      "outputs": [],
      "source": [
        "zero_shot_model = pipeline(\"zero-shot-classification\",\n",
        "                      model=\"typeform/distilbert-base-uncased-mnli\", device=0)"
      ]
    },
    {
      "cell_type": "code",
      "execution_count": null,
      "metadata": {
        "id": "By73-XPucLXc"
      },
      "outputs": [],
      "source": [
        "X_train, X_test, Y_train, Y_test = train_test_split(train_df.loc[:, train_df.columns != \"target\"], train_df.target, test_size=0.1, random_state=42, stratify=train_df.target)"
      ]
    },
    {
      "cell_type": "code",
      "execution_count": null,
      "metadata": {
        "id": "ALUzN7DQcLXc"
      },
      "outputs": [],
      "source": [
        "label_key = {'real disaster':1, 'not disaster':0}\n",
        "preds = zero_shot_model(X_test.text.to_list(), list(label_key.keys()))"
      ]
    },
    {
      "cell_type": "code",
      "execution_count": null,
      "metadata": {
        "id": "Y6xsIDPRcLXc"
      },
      "outputs": [],
      "source": [
        "pred_classes = []\n",
        "for prediction in preds:\n",
        "    pred_classes.append(label_key[prediction['labels'][0]])"
      ]
    },
    {
      "cell_type": "code",
      "execution_count": null,
      "metadata": {
        "id": "TjdczQnFcLXc",
        "colab": {
          "base_uri": "https://localhost:8080/"
        },
        "outputId": "ad50239c-983a-422a-ce1f-601955336029"
      },
      "outputs": [
        {
          "output_type": "stream",
          "name": "stdout",
          "text": [
            "accuracy:   0.625\n",
            "classification report:\n",
            "              precision    recall  f1-score   support\n",
            "\n",
            "           0       0.71      0.60      0.65       431\n",
            "           1       0.55      0.66      0.60       319\n",
            "\n",
            "    accuracy                           0.63       750\n",
            "   macro avg       0.63      0.63      0.62       750\n",
            "weighted avg       0.64      0.63      0.63       750\n",
            "\n",
            "confusion matrix:\n",
            "[[257 174]\n",
            " [107 212]]\n"
          ]
        }
      ],
      "source": [
        "score = metrics.accuracy_score(Y_test, pred_classes)\n",
        "print(\"accuracy:   %0.3f\" % score)\n",
        "\n",
        "print(\"classification report:\")\n",
        "print(metrics.classification_report(Y_test, pred_classes))\n",
        "\n",
        "print(\"confusion matrix:\")\n",
        "print(metrics.confusion_matrix(Y_test, pred_classes))"
      ]
    },
    {
      "cell_type": "markdown",
      "metadata": {
        "id": "T6Pw6U6UcLXc"
      },
      "source": [
        "### Sentiment Analysis\n",
        "\n",
        "Trying out simple sentiment analysis to see whether just classifying as \"negative\" and \"positive\" helps."
      ]
    },
    {
      "cell_type": "markdown",
      "metadata": {
        "id": "JzJakHIFcLXc"
      },
      "source": [
        "We only select models which have a `neutral` label allowed. The top model with such is [cardiffnlp/twitter-roberta-base-sentiment-latest](https://huggingface.co/cardiffnlp/twitter-roberta-base-sentiment-latest)."
      ]
    },
    {
      "cell_type": "code",
      "execution_count": null,
      "metadata": {
        "id": "6ZxvEsQxcLXc",
        "colab": {
          "base_uri": "https://localhost:8080/",
          "height": 249,
          "referenced_widgets": [
            "8aab1371a95a484d8cb62e1848ca93c0",
            "1428414bdd7746cd9eab04a619a6a452",
            "d88e85b030754acf9ca2815cd1406591",
            "484005ee83e14442b0cc148218a450f0",
            "879822468f8b4b3d885b88d861eeb88f",
            "c1d6d8b4fee54c42b82b555c130b2889",
            "288a40b26dc44719b3ccf855b7b152fc",
            "2b4a50e006af45909fdc1e447ac2fc4e",
            "bc71132b8c8344f1afb5b03170e3a5ff",
            "b9385846ddcf4dbb8dcc84ca11176155",
            "c17f5425e83d4a23b6c9b08faf519480",
            "119fa67ee55c4440aef3a3c910efd637",
            "76d51a4c74cc44f3a0870a748cff84e0",
            "398bcd7499da4bfd813ea9bdcb547f14",
            "4e097b96e5f14b5e8dee89aa442a2424",
            "86d41277c38442dfa625294a3b3dca93",
            "6cf0b26c2e8b4aa29f581a77aa599ae8",
            "32a3bc5fbdcf4293b37cd9100a5934ff",
            "85155b72ccc944fd862f484010619f45",
            "03e51fac99b740b29220294665528749",
            "0af41752ddc14269935d98c34f03de30",
            "b64d0aa7bead48609d5ec9f53308cd9b",
            "32d54d8b537f440c9b6e25b96fb524db",
            "4b0259183cf845b080f44e27cf0ecc01",
            "f46ea0558d6f4428964c0b3cee2057fe",
            "78ab145e5843478bbcf695f7333dc10e",
            "34a07181acfa4eb787a7661a14510d63",
            "f7bdf696ab584ba990be571e62d98a41",
            "2bc5c144e3b94d51a858f8f5f7a9c2d3",
            "8096efcacdd346b6ae718abe833dd899",
            "9012f12ee0e04e6d9a8cf2d047c1588d",
            "f589a12de9c941109a161707199338c9",
            "9c3b15bdcddb4ec88f1c8d3096c4a187",
            "5a4a06eff20b438b9bf8e012afc953d5",
            "fb73c1adb38243cabbf2ba2092ef53b3",
            "ede4b5a4aebf4e31bddc3b12e024a536",
            "b4ec4d1674324320a58656f7a7ecba21",
            "5f2190852f1c4cc29b7b520f2cef489c",
            "14e83f6ba0ea497da1af69330c7cd759",
            "23197a9c3851467ba0d7be9b4c913f5e",
            "f4ab25c106e0446a88bbce468a2f674b",
            "e79cb4b06a6e4f7d851c6eaa7c14a879",
            "19c90ff4ed8649c59e1728e6c042b326",
            "2ab81ae5f5f14d5aad3b4796ce47216c",
            "b8375a3087044756b1d6a5a8d5bd2cb6",
            "844f931bd87e402eac680503da6fa82b",
            "62db0fbe7c9a4c7b9b575ed23da47c8e",
            "b03be500e5b448d885f8ec547fecdbe6",
            "3490d299bdfa40d49998b441d890018c",
            "b8ddc7f265934054b7eb83f6b1c75c86",
            "de782a3a4ac845a38c2f0ac642800cf1",
            "208aaaee3c5549d0996e8d04e5a71cb3",
            "f5c657b151b24faf8bde4614c40932c1",
            "31e0113910a9444680ea0c9e5b07f348",
            "048341c00be14e88b1ae1e4063f21087"
          ]
        },
        "outputId": "1d20fab1-05b4-46d4-ece4-87c3b55178ec"
      },
      "outputs": [
        {
          "output_type": "display_data",
          "data": {
            "text/plain": [
              "Downloading:   0%|          | 0.00/929 [00:00<?, ?B/s]"
            ],
            "application/vnd.jupyter.widget-view+json": {
              "version_major": 2,
              "version_minor": 0,
              "model_id": "8aab1371a95a484d8cb62e1848ca93c0"
            }
          },
          "metadata": {}
        },
        {
          "output_type": "display_data",
          "data": {
            "text/plain": [
              "Downloading:   0%|          | 0.00/478M [00:00<?, ?B/s]"
            ],
            "application/vnd.jupyter.widget-view+json": {
              "version_major": 2,
              "version_minor": 0,
              "model_id": "119fa67ee55c4440aef3a3c910efd637"
            }
          },
          "metadata": {}
        },
        {
          "output_type": "stream",
          "name": "stderr",
          "text": [
            "Some weights of the model checkpoint at cardiffnlp/twitter-roberta-base-sentiment-latest were not used when initializing RobertaForSequenceClassification: ['roberta.pooler.dense.weight', 'roberta.pooler.dense.bias']\n",
            "- This IS expected if you are initializing RobertaForSequenceClassification from the checkpoint of a model trained on another task or with another architecture (e.g. initializing a BertForSequenceClassification model from a BertForPreTraining model).\n",
            "- This IS NOT expected if you are initializing RobertaForSequenceClassification from the checkpoint of a model that you expect to be exactly identical (initializing a BertForSequenceClassification model from a BertForSequenceClassification model).\n"
          ]
        },
        {
          "output_type": "display_data",
          "data": {
            "text/plain": [
              "Downloading:   0%|          | 0.00/878k [00:00<?, ?B/s]"
            ],
            "application/vnd.jupyter.widget-view+json": {
              "version_major": 2,
              "version_minor": 0,
              "model_id": "32d54d8b537f440c9b6e25b96fb524db"
            }
          },
          "metadata": {}
        },
        {
          "output_type": "display_data",
          "data": {
            "text/plain": [
              "Downloading:   0%|          | 0.00/446k [00:00<?, ?B/s]"
            ],
            "application/vnd.jupyter.widget-view+json": {
              "version_major": 2,
              "version_minor": 0,
              "model_id": "5a4a06eff20b438b9bf8e012afc953d5"
            }
          },
          "metadata": {}
        },
        {
          "output_type": "display_data",
          "data": {
            "text/plain": [
              "Downloading:   0%|          | 0.00/239 [00:00<?, ?B/s]"
            ],
            "application/vnd.jupyter.widget-view+json": {
              "version_major": 2,
              "version_minor": 0,
              "model_id": "b8375a3087044756b1d6a5a8d5bd2cb6"
            }
          },
          "metadata": {}
        }
      ],
      "source": [
        "sentiment_model = pipeline(\"sentiment-analysis\",\n",
        "                            model=\"cardiffnlp/twitter-roberta-base-sentiment-latest\",\n",
        "                            device=0)"
      ]
    },
    {
      "cell_type": "code",
      "execution_count": null,
      "metadata": {
        "id": "Rs7QtVdtcLXc"
      },
      "outputs": [],
      "source": [
        "preds = sentiment_model(X_test.text.to_list())"
      ]
    },
    {
      "cell_type": "code",
      "execution_count": null,
      "metadata": {
        "id": "sYWB0bMucLXc"
      },
      "outputs": [],
      "source": [
        "label_key = {'Negative':1, 'Positive':0, 'Neutral':0}\n",
        "\n",
        "pred_classes = []\n",
        "for prediction in preds:\n",
        "    pred_classes.append(label_key[prediction['label']])"
      ]
    },
    {
      "cell_type": "code",
      "execution_count": null,
      "metadata": {
        "id": "uZ9WKK08cLXc",
        "colab": {
          "base_uri": "https://localhost:8080/"
        },
        "outputId": "77bd25c2-c804-4edf-e3c5-13be75c22488"
      },
      "outputs": [
        {
          "output_type": "stream",
          "name": "stdout",
          "text": [
            "accuracy:   0.545\n",
            "classification report:\n",
            "              precision    recall  f1-score   support\n",
            "\n",
            "           0       0.60      0.63      0.62       431\n",
            "           1       0.46      0.43      0.44       319\n",
            "\n",
            "    accuracy                           0.55       750\n",
            "   macro avg       0.53      0.53      0.53       750\n",
            "weighted avg       0.54      0.55      0.54       750\n",
            "\n",
            "confusion matrix:\n",
            "[[273 158]\n",
            " [183 136]]\n"
          ]
        }
      ],
      "source": [
        "score2 = metrics.accuracy_score(Y_test, pred_classes)\n",
        "print(\"accuracy:   %0.3f\" % score2)\n",
        "\n",
        "print(\"classification report:\")\n",
        "print(metrics.classification_report(Y_test, pred_classes))\n",
        "\n",
        "print(\"confusion matrix:\")\n",
        "print(metrics.confusion_matrix(Y_test, pred_classes))"
      ]
    },
    {
      "cell_type": "markdown",
      "metadata": {
        "id": "1uZA7jN9cLXc"
      },
      "source": [
        "These results aren't the best, only 54% accuracy.\n",
        "Now we try [another model](https://huggingface.co/bhadresh-savani/distilbert-base-uncased-emotion) with more in-depth sentiments."
      ]
    },
    {
      "cell_type": "code",
      "execution_count": null,
      "metadata": {
        "id": "QkmV05hKcLXd",
        "colab": {
          "base_uri": "https://localhost:8080/",
          "height": 177,
          "referenced_widgets": [
            "aa19cedb7df040b7b2a6369ffea1f4ff",
            "aaabbb2881b649009ac5ab8214f5aeaa",
            "6959b27d43b2450ab7c8ba42045e4e3e",
            "af53d8b75aff4f37b299af45396cfbcf",
            "60c6661efc174cf389bc2c27fe906c3f",
            "fded6d2f9b934f45ad211d36ddfd393b",
            "ad85a58427fb4d3dbad9a357ae21db9d",
            "e3c4e5895222482c9d7423f18a03ba54",
            "d0537559787d47c097731969834583ea",
            "bbf28e945eb64ca89b9ed27c55f028d9",
            "d091d46fe97947dbb6fad3dfb6af23c9",
            "9b2e44bb8531492bb06b150f9303f45a",
            "4a307c0cb1d74f96845f88c11f6cbc9f",
            "4a02f26b830c4604bd4051078652b010",
            "8812595d372a41599dc44fdc0cf32e3e",
            "241719303b7c4c3e8d939fa27ee84fd5",
            "e34a0b2661874f809782001e846c60e0",
            "44c1fc73bc2f478dbd4e51a19aded1d1",
            "b1a2a870d0244f4c98fda29c703eeb59",
            "eca23d6bb37e46759e4a35eda8640d24",
            "21affadc3d5246a1b0a597644947392c",
            "2f6baf24a02c4ca1968ab639f3681d38",
            "04735f291fe84f6bae4f0d0849bb75e4",
            "1a0a1d3c9a674c419bcc6129cd084853",
            "426174fb48674f9cbaaa8e35c4696250",
            "f343fab9d63e4a209b50eea5b35e009c",
            "e4190d2eb0fc4efa976c43d7bce00198",
            "2b9034f1c2d340008b8b55f0c5e50f02",
            "6fe0b52b4c3b4f52850f9753960b9360",
            "43f19e55e0554d98802c2f6f6a210bcb",
            "ac3174f950e7455f894d757219c61e94",
            "c0ac6ed385874200897e5df2d2e96899",
            "254f1104826a4196af0b5f3c36553405",
            "2cb510d498ec4dc1911305620dca7b53",
            "f794262d4a714075b624832095883116",
            "be480bc5ed904820a359cda69ebfdf7c",
            "1e7b1f66f5f541c3bdbfb322bff15a6a",
            "6c901be6e5f745e296075dd758e6f4da",
            "17bb3640d735475a8b70c1b9b62b140c",
            "d93c47014958480ca4820578b92ff0af",
            "50c20201064b4024ba6bf95d709bb547",
            "463dc4cceda4425ab67b4829aa717a01",
            "bb75662037b44bd0912f58b50c0301cc",
            "da4ddbc132cf40098b8da8efec0bff97",
            "b414c3633b6747fbbbe7bd267b3a6348",
            "1212d74b78a44961b3638312469127ac",
            "56b39b8f94e64d1daf0e9c1c84a485ab",
            "3f6356fd733c49ec877973ebaa5694a1",
            "c19c4125653d4bd389bf9dffcb9e7136",
            "7333e5d4fee847318bda04defca22c5c",
            "a4c8b91d6c114f5fa036808c51dbbbda",
            "77ab0c580b1648a5a66fcbf9790797b5",
            "9f8a07ed03914006a5badaf4189973b4",
            "a0aff7919c834455a4775a9f40a45bf9",
            "fd1074d6811e4186b12120b703dd7c85"
          ]
        },
        "outputId": "cd0c6baa-5ebf-456a-9b23-bf4fb9ee613e"
      },
      "outputs": [
        {
          "output_type": "display_data",
          "data": {
            "text/plain": [
              "Downloading:   0%|          | 0.00/768 [00:00<?, ?B/s]"
            ],
            "application/vnd.jupyter.widget-view+json": {
              "version_major": 2,
              "version_minor": 0,
              "model_id": "aa19cedb7df040b7b2a6369ffea1f4ff"
            }
          },
          "metadata": {}
        },
        {
          "output_type": "display_data",
          "data": {
            "text/plain": [
              "Downloading:   0%|          | 0.00/255M [00:00<?, ?B/s]"
            ],
            "application/vnd.jupyter.widget-view+json": {
              "version_major": 2,
              "version_minor": 0,
              "model_id": "9b2e44bb8531492bb06b150f9303f45a"
            }
          },
          "metadata": {}
        },
        {
          "output_type": "display_data",
          "data": {
            "text/plain": [
              "Downloading:   0%|          | 0.00/291 [00:00<?, ?B/s]"
            ],
            "application/vnd.jupyter.widget-view+json": {
              "version_major": 2,
              "version_minor": 0,
              "model_id": "04735f291fe84f6bae4f0d0849bb75e4"
            }
          },
          "metadata": {}
        },
        {
          "output_type": "display_data",
          "data": {
            "text/plain": [
              "Downloading:   0%|          | 0.00/226k [00:00<?, ?B/s]"
            ],
            "application/vnd.jupyter.widget-view+json": {
              "version_major": 2,
              "version_minor": 0,
              "model_id": "2cb510d498ec4dc1911305620dca7b53"
            }
          },
          "metadata": {}
        },
        {
          "output_type": "display_data",
          "data": {
            "text/plain": [
              "Downloading:   0%|          | 0.00/112 [00:00<?, ?B/s]"
            ],
            "application/vnd.jupyter.widget-view+json": {
              "version_major": 2,
              "version_minor": 0,
              "model_id": "b414c3633b6747fbbbe7bd267b3a6348"
            }
          },
          "metadata": {}
        }
      ],
      "source": [
        "sentiment_model_2 = pipeline(\"sentiment-analysis\",\n",
        "                            model=\"bhadresh-savani/distilbert-base-uncased-emotion\",\n",
        "                            device=0)"
      ]
    },
    {
      "cell_type": "code",
      "execution_count": null,
      "metadata": {
        "id": "bGHD1TaVcLXd"
      },
      "outputs": [],
      "source": [
        "preds = sentiment_model_2(X_test.text.to_list())"
      ]
    },
    {
      "cell_type": "code",
      "execution_count": null,
      "metadata": {
        "id": "9iGXWlJncLXd"
      },
      "outputs": [],
      "source": [
        "label_key = {'sadness':1, 'fear':1, 'anger':0, 'love':0, 'joy':0, 'surprise':0}\n",
        "\n",
        "pred_classes = []\n",
        "for prediction in preds:\n",
        "    pred_classes.append(label_key[prediction['label']])"
      ]
    },
    {
      "cell_type": "code",
      "execution_count": null,
      "metadata": {
        "id": "z7vsovD6cLXd",
        "colab": {
          "base_uri": "https://localhost:8080/"
        },
        "outputId": "f0200186-786a-4a38-ab5a-7ed2e813da19"
      },
      "outputs": [
        {
          "output_type": "stream",
          "name": "stdout",
          "text": [
            "accuracy:   0.679\n",
            "classification report:\n",
            "              precision    recall  f1-score   support\n",
            "\n",
            "           0       0.72      0.72      0.72       431\n",
            "           1       0.62      0.62      0.62       319\n",
            "\n",
            "    accuracy                           0.68       750\n",
            "   macro avg       0.67      0.67      0.67       750\n",
            "weighted avg       0.68      0.68      0.68       750\n",
            "\n",
            "confusion matrix:\n",
            "[[310 121]\n",
            " [120 199]]\n"
          ]
        }
      ],
      "source": [
        "score = metrics.accuracy_score(Y_test, pred_classes)\n",
        "print(\"accuracy:   %0.3f\" % score)\n",
        "\n",
        "print(\"classification report:\")\n",
        "print(metrics.classification_report(Y_test, pred_classes))\n",
        "\n",
        "print(\"confusion matrix:\")\n",
        "print(metrics.confusion_matrix(Y_test, pred_classes))"
      ]
    },
    {
      "cell_type": "markdown",
      "metadata": {
        "id": "Z3P93lOdcLXd"
      },
      "source": [
        "This improves on the previous model, however the accuracy is unacceptable (only 66%)."
      ]
    },
    {
      "cell_type": "markdown",
      "source": [
        "## Main Models"
      ],
      "metadata": {
        "id": "62zntWhss1II"
      }
    },
    {
      "cell_type": "markdown",
      "metadata": {
        "id": "IVsq8lbBcLXj"
      },
      "source": [
        "### LSTM and RNN models with Attention"
      ]
    },
    {
      "cell_type": "code",
      "execution_count": null,
      "metadata": {
        "id": "Vv5ekhRAcLXj"
      },
      "outputs": [],
      "source": [
        "TEXT = data.Field(tokenize='spacy',batch_first=True,include_lengths=True,tokenizer_language=\"en_core_web_sm\")\n",
        "LABEL = data.LabelField(dtype = torch.float,batch_first=True)"
      ]
    },
    {
      "cell_type": "code",
      "execution_count": null,
      "metadata": {
        "id": "KasNPxl4cLXj"
      },
      "outputs": [],
      "source": [
        "train_df[['text_clean','target']].to_csv('train_df.csv')"
      ]
    },
    {
      "cell_type": "code",
      "execution_count": null,
      "metadata": {
        "id": "3bkC0HjrcLXj"
      },
      "outputs": [],
      "source": [
        "fields = [(None, None), ('text',TEXT),('label', LABEL)]\n",
        "training_data=data.TabularDataset(path = 'train_df.csv',format = 'csv',fields = fields,skip_header = True)"
      ]
    },
    {
      "cell_type": "code",
      "execution_count": null,
      "metadata": {
        "id": "-FUsHMcWcLXj",
        "colab": {
          "base_uri": "https://localhost:8080/"
        },
        "outputId": "03dc031d-1373-4958-cb57-5a10983d23f7"
      },
      "outputs": [
        {
          "output_type": "stream",
          "name": "stdout",
          "text": [
            "{'text': ['Our', 'Deeds', 'are', 'the', 'Reason', 'of', 'this', '#', 'earthquake', 'May', 'ALLAH', 'Forgive', 'us', 'all'], 'label': '1'}\n"
          ]
        }
      ],
      "source": [
        "print(vars(training_data.examples[0]))"
      ]
    },
    {
      "cell_type": "code",
      "execution_count": null,
      "metadata": {
        "id": "2IxOVH5kcLXj"
      },
      "outputs": [],
      "source": [
        "train_data, valid_data = training_data.split(split_ratio=0.9)"
      ]
    },
    {
      "cell_type": "code",
      "execution_count": null,
      "metadata": {
        "id": "30mIqk18cLXj",
        "colab": {
          "base_uri": "https://localhost:8080/"
        },
        "outputId": "3e949ac4-79ff-45a4-fae5-fde0c9033c23"
      },
      "outputs": [
        {
          "output_type": "stream",
          "name": "stdout",
          "text": [
            "Size of TEXT vocabulary: 4879\n",
            "Size of LABEL vocabulary: 2\n",
            "[('#', 2967), ('?', 2690), ('.', 2587), ('the', 2319), (':', 1657), ('a', 1653), ('to', 1622), ('in', 1579), ('of', 1524), ('I', 1418)]\n"
          ]
        }
      ],
      "source": [
        "TEXT.build_vocab(train_data,min_freq=3,vectors = \"glove.6B.100d\")  \n",
        "LABEL.build_vocab(train_data)\n",
        "print(\"Size of TEXT vocabulary:\",len(TEXT.vocab))\n",
        "print(\"Size of LABEL vocabulary:\",len(LABEL.vocab))\n",
        "print(TEXT.vocab.freqs.most_common(10))"
      ]
    },
    {
      "cell_type": "code",
      "execution_count": null,
      "metadata": {
        "id": "1P-Df3YhcLXj",
        "colab": {
          "base_uri": "https://localhost:8080/"
        },
        "outputId": "6878872c-a6c2-454e-cfb1-42ffb2d55061"
      },
      "outputs": [
        {
          "output_type": "stream",
          "name": "stdout",
          "text": [
            "True\n"
          ]
        }
      ],
      "source": [
        "device = torch.device('cuda' if torch.cuda.is_available() else 'cpu')  \n",
        "print(torch.cuda.is_available())\n",
        "BATCH_SIZE = 64\n",
        "train_iterator, valid_iterator = data.BucketIterator.splits(\n",
        "    (train_data, valid_data), \n",
        "    batch_size = BATCH_SIZE,\n",
        "    sort_key = lambda x: len(x.text),\n",
        "    sort_within_batch=True,\n",
        "    device = device)"
      ]
    },
    {
      "cell_type": "code",
      "execution_count": null,
      "metadata": {
        "id": "N3RL9H2FcLXk"
      },
      "outputs": [],
      "source": [
        "class classifier(nn.Module):\n",
        "    def __init__(self, vocab_size, embedding_dim, hidden_dim, output_dim, n_layers, \n",
        "                 bidirectional, dropout,method='LSTM'):\n",
        "        \n",
        "        super().__init__()          \n",
        "        \n",
        "        self.embedding = nn.Embedding(vocab_size, embedding_dim)\n",
        "        self.method=method\n",
        "        \n",
        "        self.fc1 = nn.Linear(hidden_dim, hidden_dim, bias=False)\n",
        "        self.fc2 = nn.Linear(hidden_dim * 2, hidden_dim, bias=False)\n",
        "        \n",
        "        if self.method=='LSTM':\n",
        "            self.nn = nn.LSTM(embedding_dim, \n",
        "                           hidden_dim, \n",
        "                           num_layers=n_layers, \n",
        "                           bidirectional=bidirectional, \n",
        "                           dropout=dropout,\n",
        "                           batch_first=True)\n",
        "        elif self.method=='RNN':\n",
        "            self.nn = nn.RNN(embedding_dim, \n",
        "                           hidden_dim, \n",
        "                           num_layers=n_layers, \n",
        "                           bidirectional=bidirectional, \n",
        "                           dropout=dropout,\n",
        "                           batch_first=True)\n",
        "        else:\n",
        "            raise ValueError('Method is unknown. Available methods: [LSTM, RNN]')\n",
        "        \n",
        "        self.fc = nn.Linear(hidden_dim * 2, output_dim)\n",
        "        \n",
        "        self.act = nn.Sigmoid()\n",
        "        \n",
        "    def forward(self, text, text_lengths):\n",
        "        embedded = self.embedding(text)\n",
        "        text_lengths=text_lengths.cpu()\n",
        "        packed_embedded = nn.utils.rnn.pack_padded_sequence(embedded, text_lengths,batch_first=True)\n",
        "        if self.method=='LSTM':\n",
        "            packed_output, (hidden, cell) = self.nn(packed_embedded)\n",
        "        elif self.method=='RNN':\n",
        "            packed_output, hidden = self.nn(packed_embedded)\n",
        "        else:\n",
        "            raise ValueError('Method is unknown. Available methods: [LSTM, RNN]')\n",
        "        \n",
        "        # Attention part\n",
        "        score_first_part = self.fc1(hidden)\n",
        "        # (batch_size, hidden_size)\n",
        "        h_t = hidden[:,-1,:]\n",
        "        # (batch_size, time_steps)\n",
        "        score = torch.bmm(score_first_part, h_t.unsqueeze(2)).squeeze(2)\n",
        "        attention_weights = F.softmax(score, dim=1)\n",
        "        context_vector = torch.bmm(hidden.permute(0,2,1), attention_weights.unsqueeze(2)).squeeze(2)\n",
        "        # (batch_size, hidden_size*2)\n",
        "        pre_activation = torch.cat((context_vector, h_t), dim=1)\n",
        "        # (batch_size, hidden_size)\n",
        "        attention_vector = self.fc2(pre_activation)\n",
        "        attention_vector = torch.tanh(attention_vector)\n",
        "\n",
        "        hidden = torch.cat((hidden[-2,:,:], hidden[-1,:,:]), dim = 1)\n",
        "                \n",
        "        dense_outputs=self.fc(hidden)\n",
        "\n",
        "        outputs=self.act(dense_outputs)\n",
        "        \n",
        "        return outputs"
      ]
    },
    {
      "cell_type": "code",
      "execution_count": null,
      "metadata": {
        "id": "Ojn76jEdcLXk"
      },
      "outputs": [],
      "source": [
        "size_of_vocab = len(TEXT.vocab)\n",
        "embedding_dim = 100\n",
        "num_hidden_nodes = 32\n",
        "num_output_nodes = 1\n",
        "num_layers = 2\n",
        "bidirection = True\n",
        "dropout = 0.5\n",
        "\n",
        "model_LSTM = classifier(size_of_vocab, embedding_dim, num_hidden_nodes,num_output_nodes, num_layers,bidirectional = True, dropout = dropout, method='LSTM')"
      ]
    },
    {
      "cell_type": "code",
      "execution_count": null,
      "metadata": {
        "id": "7b83tuLLcLXk"
      },
      "outputs": [],
      "source": [
        "size_of_vocab = len(TEXT.vocab)\n",
        "embedding_dim = 100\n",
        "num_hidden_nodes = 32\n",
        "num_output_nodes = 1\n",
        "num_layers = 2\n",
        "bidirection = True\n",
        "dropout = 0.5\n",
        "\n",
        "model_RNN = classifier(size_of_vocab, embedding_dim, num_hidden_nodes,num_output_nodes, num_layers,bidirectional = True, dropout = dropout, method='RNN')"
      ]
    },
    {
      "cell_type": "code",
      "execution_count": null,
      "metadata": {
        "id": "whHgJ3qzcLXk",
        "colab": {
          "base_uri": "https://localhost:8080/"
        },
        "outputId": "f668eb36-239e-4ad3-b436-972599f2c4a9"
      },
      "outputs": [
        {
          "output_type": "stream",
          "name": "stdout",
          "text": [
            "classifier(\n",
            "  (embedding): Embedding(4012, 100)\n",
            "  (fc1): Linear(in_features=32, out_features=32, bias=False)\n",
            "  (fc2): Linear(in_features=64, out_features=32, bias=False)\n",
            "  (nn): LSTM(100, 32, num_layers=2, batch_first=True, dropout=0.5, bidirectional=True)\n",
            "  (fc): Linear(in_features=64, out_features=1, bias=True)\n",
            "  (act): Sigmoid()\n",
            ")\n",
            "The model has 463,729 trainable parameters\n",
            "classifier(\n",
            "  (embedding): Embedding(4012, 100)\n",
            "  (fc1): Linear(in_features=32, out_features=32, bias=False)\n",
            "  (fc2): Linear(in_features=64, out_features=32, bias=False)\n",
            "  (nn): RNN(100, 32, num_layers=2, batch_first=True, dropout=0.5, bidirectional=True)\n",
            "  (fc): Linear(in_features=64, out_features=1, bias=True)\n",
            "  (act): Sigmoid()\n",
            ")\n",
            "The model has 419,185 trainable parameters\n",
            "torch.Size([4012, 100])\n"
          ]
        }
      ],
      "source": [
        "def count_parameters(model):\n",
        "    return sum(p.numel() for p in model.parameters() if p.requires_grad)\n",
        "\n",
        "print(model_LSTM)\n",
        "print(f'The model has {count_parameters(model_LSTM):,} trainable parameters')\n",
        "\n",
        "print(model_RNN)\n",
        "print(f'The model has {count_parameters(model_RNN):,} trainable parameters')\n",
        "\n",
        "\n",
        "pretrained_embeddings = TEXT.vocab.vectors\n",
        "model_LSTM.embedding.weight.data.copy_(pretrained_embeddings)\n",
        "model_RNN.embedding.weight.data.copy_(pretrained_embeddings)\n",
        "\n",
        "print(pretrained_embeddings.shape)"
      ]
    },
    {
      "cell_type": "code",
      "execution_count": null,
      "metadata": {
        "id": "0CGMtihacLXk"
      },
      "outputs": [],
      "source": [
        "optimizer_LSTM = optim.Adam(model_LSTM.parameters())\n",
        "optimizer_RNN = optim.Adam(model_RNN.parameters())\n",
        "\n",
        "criterion = nn.BCELoss()\n",
        "\n",
        "def binary_accuracy(preds, y):\n",
        "    #round predictions to the closest integer\n",
        "    rounded_preds = torch.round(preds)\n",
        "    \n",
        "    correct = (rounded_preds == y).float() \n",
        "    acc = correct.sum() / len(correct)\n",
        "    return acc\n",
        "    \n",
        "#push to cuda if available\n",
        "model_LSTM = model_LSTM.to(device)\n",
        "model_RNN = model_RNN.to(device)\n",
        "criterion = criterion.to(device)"
      ]
    },
    {
      "cell_type": "code",
      "execution_count": null,
      "metadata": {
        "id": "0S6G_-jecLXk"
      },
      "outputs": [],
      "source": [
        "def train(model, iterator, optimizer, criterion):\n",
        "    \n",
        "    epoch_loss = 0\n",
        "    epoch_acc = 0\n",
        "    epoch_auc = 0\n",
        "    \n",
        "    model.train()  \n",
        "    \n",
        "    for batch in iterator:\n",
        "        \n",
        "        optimizer.zero_grad()   \n",
        "        \n",
        "        text, text_lengths = batch.text   \n",
        "        predictions = model(text, text_lengths).squeeze()  \n",
        "        \n",
        "        loss = criterion(predictions, batch.label)        \n",
        "        acc = binary_accuracy(predictions, batch.label) \n",
        "        auc = sklearn.metrics.roc_auc_score(batch.label.detach().cpu(),predictions.detach().cpu())\n",
        "\n",
        "        \n",
        "        loss.backward()       \n",
        "        \n",
        "        optimizer.step()      \n",
        "        \n",
        "        epoch_loss += loss.item()  \n",
        "        epoch_acc += acc.item() \n",
        "        epoch_auc += auc.item()\n",
        "        \n",
        "    return epoch_loss / len(iterator), epoch_acc / len(iterator), epoch_auc / len(iterator)"
      ]
    },
    {
      "cell_type": "code",
      "execution_count": null,
      "metadata": {
        "id": "Wr0jllXVcLXk"
      },
      "outputs": [],
      "source": [
        "def evaluate(model, iterator, criterion):\n",
        "    \n",
        "    epoch_loss = 0\n",
        "    epoch_acc = 0\n",
        "    epoch_auc = 0\n",
        "\n",
        "    model.eval()\n",
        "    \n",
        "    with torch.no_grad():\n",
        "    \n",
        "        for batch in iterator:\n",
        "        \n",
        "            text, text_lengths = batch.text\n",
        "            \n",
        "            predictions = model(text, text_lengths).squeeze()\n",
        "            \n",
        "            loss = criterion(predictions, batch.label)\n",
        "            acc = binary_accuracy(predictions, batch.label)\n",
        "            auc = sklearn.metrics.roc_auc_score(batch.label.cpu(),predictions.cpu())\n",
        "            \n",
        "            epoch_loss += loss.item()\n",
        "            epoch_acc += acc.item()\n",
        "            epoch_auc += auc.item()\n",
        "            \n",
        "    return epoch_loss / len(iterator), epoch_acc / len(iterator), epoch_auc / len(iterator)"
      ]
    },
    {
      "cell_type": "code",
      "execution_count": null,
      "metadata": {
        "id": "VASMWAoFcLXk",
        "colab": {
          "base_uri": "https://localhost:8080/"
        },
        "outputId": "b814be51-11d5-435b-dd5a-d4b9b0ce4605"
      },
      "outputs": [
        {
          "output_type": "stream",
          "name": "stdout",
          "text": [
            "Epoch:0\n",
            "\tTrain Loss: 0.571 | Train Acc: 69.62% | Train AUC 77.21%\n",
            "\t Val. Loss: 0.462 |  Val. Acc: 78.39% | Val. AUC: 86.44%\n",
            "Epoch:1\n",
            "\tTrain Loss: 0.442 | Train Acc: 80.68% | Train AUC 86.61%\n",
            "\t Val. Loss: 0.425 |  Val. Acc: 82.11% | Val. AUC: 88.44%\n",
            "Epoch:2\n",
            "\tTrain Loss: 0.396 | Train Acc: 82.96% | Train AUC 89.48%\n",
            "\t Val. Loss: 0.397 |  Val. Acc: 84.14% | Val. AUC: 89.47%\n",
            "Epoch:3\n",
            "\tTrain Loss: 0.351 | Train Acc: 85.61% | Train AUC 91.22%\n",
            "\t Val. Loss: 0.377 |  Val. Acc: 84.57% | Val. AUC: 89.34%\n",
            "Epoch:4\n",
            "\tTrain Loss: 0.316 | Train Acc: 87.52% | Train AUC 92.84%\n",
            "\t Val. Loss: 0.436 |  Val. Acc: 82.43% | Val. AUC: 88.40%\n",
            "Epoch:5\n",
            "\tTrain Loss: 0.281 | Train Acc: 89.07% | Train AUC 94.07%\n",
            "\t Val. Loss: 0.474 |  Val. Acc: 82.19% | Val. AUC: 87.92%\n",
            "Epoch:6\n",
            "\tTrain Loss: 0.257 | Train Acc: 90.09% | Train AUC 95.01%\n",
            "\t Val. Loss: 0.432 |  Val. Acc: 83.26% | Val. AUC: 87.20%\n",
            "Epoch:7\n",
            "\tTrain Loss: 0.222 | Train Acc: 91.81% | Train AUC 95.96%\n",
            "\t Val. Loss: 0.558 |  Val. Acc: 80.65% | Val. AUC: 86.34%\n",
            "Epoch:8\n",
            "\tTrain Loss: 0.193 | Train Acc: 93.18% | Train AUC 96.81%\n",
            "\t Val. Loss: 0.569 |  Val. Acc: 81.85% | Val. AUC: 85.65%\n",
            "Epoch:9\n",
            "\tTrain Loss: 0.173 | Train Acc: 93.85% | Train AUC 97.34%\n",
            "\t Val. Loss: 0.532 |  Val. Acc: 82.35% | Val. AUC: 85.17%\n",
            "Epoch:10\n",
            "\tTrain Loss: 0.158 | Train Acc: 94.53% | Train AUC 97.67%\n",
            "\t Val. Loss: 0.691 |  Val. Acc: 80.25% | Val. AUC: 84.72%\n",
            "Epoch:11\n",
            "\tTrain Loss: 0.139 | Train Acc: 95.31% | Train AUC 98.22%\n",
            "\t Val. Loss: 0.732 |  Val. Acc: 80.01% | Val. AUC: 84.49%\n",
            "Epoch:12\n",
            "\tTrain Loss: 0.134 | Train Acc: 95.23% | Train AUC 98.52%\n",
            "\t Val. Loss: 0.686 |  Val. Acc: 80.49% | Val. AUC: 83.81%\n",
            "Epoch:13\n",
            "\tTrain Loss: 0.120 | Train Acc: 95.90% | Train AUC 98.68%\n",
            "\t Val. Loss: 0.737 |  Val. Acc: 81.20% | Val. AUC: 83.59%\n",
            "Epoch:14\n",
            "\tTrain Loss: 0.098 | Train Acc: 96.49% | Train AUC 98.98%\n",
            "\t Val. Loss: 0.827 |  Val. Acc: 78.82% | Val. AUC: 82.87%\n",
            "Epoch:15\n",
            "\tTrain Loss: 0.090 | Train Acc: 96.72% | Train AUC 99.26%\n",
            "\t Val. Loss: 0.914 |  Val. Acc: 78.71% | Val. AUC: 82.86%\n",
            "Epoch:16\n",
            "\tTrain Loss: 0.096 | Train Acc: 96.46% | Train AUC 99.21%\n",
            "\t Val. Loss: 0.826 |  Val. Acc: 79.73% | Val. AUC: 82.07%\n",
            "Epoch:17\n",
            "\tTrain Loss: 0.077 | Train Acc: 97.18% | Train AUC 99.28%\n",
            "\t Val. Loss: 1.007 |  Val. Acc: 78.90% | Val. AUC: 82.26%\n",
            "Epoch:18\n",
            "\tTrain Loss: 0.070 | Train Acc: 97.38% | Train AUC 99.47%\n",
            "\t Val. Loss: 0.972 |  Val. Acc: 79.99% | Val. AUC: 82.09%\n",
            "Epoch:19\n",
            "\tTrain Loss: 0.074 | Train Acc: 97.24% | Train AUC 99.45%\n",
            "\t Val. Loss: 0.898 |  Val. Acc: 79.06% | Val. AUC: 82.19%\n"
          ]
        }
      ],
      "source": [
        "N_EPOCHS = 20\n",
        "best_valid_acc = 0\n",
        "best_valid_auc = 0\n",
        "for epoch in range(N_EPOCHS):\n",
        "     \n",
        "    train_loss, train_acc, train_auc = train(model_LSTM, train_iterator, optimizer_LSTM, criterion)\n",
        "    \n",
        "    valid_loss, valid_acc, valid_auc= evaluate(model_LSTM, valid_iterator, criterion)\n",
        "    \n",
        "    #save the best mode\n",
        "    if valid_acc > best_valid_acc:\n",
        "        best_valid_acc = valid_acc\n",
        "        torch.save(model_LSTM.state_dict(), 'saved_weights_LSTM.pt')\n",
        "    \n",
        "    print(f'Epoch:{epoch}')\n",
        "    print(f'\\tTrain Loss: {train_loss:.3f} | Train Acc: {train_acc*100:.2f}% | Train AUC {train_auc*100:.2f}%')\n",
        "    print(f'\\t Val. Loss: {valid_loss:.3f} |  Val. Acc: {valid_acc*100:.2f}% | Val. AUC: {valid_auc*100:.2f}%')"
      ]
    },
    {
      "cell_type": "code",
      "execution_count": null,
      "metadata": {
        "id": "KfP7D_l7cLXk",
        "colab": {
          "base_uri": "https://localhost:8080/"
        },
        "outputId": "228c3246-e0b4-4e62-9a2a-5a0d21b410c1"
      },
      "outputs": [
        {
          "output_type": "stream",
          "name": "stdout",
          "text": [
            "Epoch:0\n",
            "\tTrain Loss: 0.576 | Train Acc: 69.84% | Train AUC 74.96%\n",
            "\t Val. Loss: 0.458 |  Val. Acc: 79.56% | Val. AUC: 85.19%\n",
            "Epoch:1\n",
            "\tTrain Loss: 0.461 | Train Acc: 79.76% | Train AUC 85.80%\n",
            "\t Val. Loss: 0.442 |  Val. Acc: 81.78% | Val. AUC: 87.44%\n",
            "Epoch:2\n",
            "\tTrain Loss: 0.419 | Train Acc: 81.54% | Train AUC 88.67%\n",
            "\t Val. Loss: 0.417 |  Val. Acc: 81.24% | Val. AUC: 87.26%\n",
            "Epoch:3\n",
            "\tTrain Loss: 0.389 | Train Acc: 83.76% | Train AUC 90.15%\n",
            "\t Val. Loss: 0.416 |  Val. Acc: 83.10% | Val. AUC: 87.88%\n",
            "Epoch:4\n",
            "\tTrain Loss: 0.339 | Train Acc: 86.18% | Train AUC 92.13%\n",
            "\t Val. Loss: 0.420 |  Val. Acc: 83.30% | Val. AUC: 87.69%\n",
            "Epoch:5\n",
            "\tTrain Loss: 0.319 | Train Acc: 87.22% | Train AUC 93.35%\n",
            "\t Val. Loss: 0.423 |  Val. Acc: 83.49% | Val. AUC: 87.52%\n",
            "Epoch:6\n",
            "\tTrain Loss: 0.283 | Train Acc: 89.18% | Train AUC 94.28%\n",
            "\t Val. Loss: 0.502 |  Val. Acc: 79.99% | Val. AUC: 87.12%\n",
            "Epoch:7\n",
            "\tTrain Loss: 0.250 | Train Acc: 90.47% | Train AUC 95.33%\n",
            "\t Val. Loss: 0.467 |  Val. Acc: 81.97% | Val. AUC: 86.69%\n",
            "Epoch:8\n",
            "\tTrain Loss: 0.232 | Train Acc: 91.14% | Train AUC 96.42%\n",
            "\t Val. Loss: 0.504 |  Val. Acc: 81.06% | Val. AUC: 86.18%\n",
            "Epoch:9\n",
            "\tTrain Loss: 0.194 | Train Acc: 93.35% | Train AUC 97.00%\n",
            "\t Val. Loss: 0.554 |  Val. Acc: 81.37% | Val. AUC: 85.46%\n",
            "Epoch:10\n",
            "\tTrain Loss: 0.174 | Train Acc: 93.79% | Train AUC 97.66%\n",
            "\t Val. Loss: 0.603 |  Val. Acc: 79.03% | Val. AUC: 84.51%\n",
            "Epoch:11\n",
            "\tTrain Loss: 0.150 | Train Acc: 94.72% | Train AUC 98.25%\n",
            "\t Val. Loss: 0.659 |  Val. Acc: 78.58% | Val. AUC: 84.38%\n",
            "Epoch:12\n",
            "\tTrain Loss: 0.151 | Train Acc: 94.39% | Train AUC 98.34%\n",
            "\t Val. Loss: 0.737 |  Val. Acc: 78.71% | Val. AUC: 83.37%\n",
            "Epoch:13\n",
            "\tTrain Loss: 0.123 | Train Acc: 95.61% | Train AUC 98.93%\n",
            "\t Val. Loss: 0.724 |  Val. Acc: 81.11% | Val. AUC: 82.95%\n",
            "Epoch:14\n",
            "\tTrain Loss: 0.121 | Train Acc: 95.55% | Train AUC 99.03%\n",
            "\t Val. Loss: 0.767 |  Val. Acc: 79.81% | Val. AUC: 83.17%\n",
            "Epoch:15\n",
            "\tTrain Loss: 0.096 | Train Acc: 96.48% | Train AUC 99.23%\n",
            "\t Val. Loss: 0.779 |  Val. Acc: 78.90% | Val. AUC: 83.07%\n",
            "Epoch:16\n",
            "\tTrain Loss: 0.082 | Train Acc: 97.05% | Train AUC 99.42%\n",
            "\t Val. Loss: 0.892 |  Val. Acc: 79.36% | Val. AUC: 83.07%\n",
            "Epoch:17\n",
            "\tTrain Loss: 0.081 | Train Acc: 96.81% | Train AUC 99.45%\n",
            "\t Val. Loss: 0.861 |  Val. Acc: 79.29% | Val. AUC: 82.48%\n",
            "Epoch:18\n",
            "\tTrain Loss: 0.072 | Train Acc: 97.35% | Train AUC 99.56%\n",
            "\t Val. Loss: 1.068 |  Val. Acc: 77.36% | Val. AUC: 81.99%\n",
            "Epoch:19\n",
            "\tTrain Loss: 0.072 | Train Acc: 97.17% | Train AUC 99.62%\n",
            "\t Val. Loss: 1.037 |  Val. Acc: 78.38% | Val. AUC: 81.73%\n"
          ]
        }
      ],
      "source": [
        "N_EPOCHS = 20\n",
        "best_valid_acc = 0\n",
        "for epoch in range(N_EPOCHS):\n",
        "     \n",
        "    train_loss, train_acc, train_auc = train(model_RNN, train_iterator, optimizer_RNN, criterion)\n",
        "    \n",
        "    valid_loss, valid_acc, valid_auc= evaluate(model_RNN, valid_iterator, criterion)\n",
        "    \n",
        "    #save the best mode\n",
        "    if valid_acc > best_valid_acc:\n",
        "        best_valid_acc = valid_acc\n",
        "        torch.save(model_RNN.state_dict(), 'saved_weights_RNN.pt')\n",
        "    \n",
        "    print(f'Epoch:{epoch}')\n",
        "    print(f'\\tTrain Loss: {train_loss:.3f} | Train Acc: {train_acc*100:.2f}% | Train AUC {train_auc*100:.2f}%')\n",
        "    print(f'\\t Val. Loss: {valid_loss:.3f} |  Val. Acc: {valid_acc*100:.2f}% | Val. AUC: {valid_auc*100:.2f}%')"
      ]
    },
    {
      "cell_type": "code",
      "execution_count": null,
      "metadata": {
        "id": "VVk36jpdcLXk"
      },
      "outputs": [],
      "source": [
        "#load weights best ACC\n",
        "path_LSTM='saved_weights_LSTM.pt'\n",
        "model_LSTM.load_state_dict(torch.load(path_LSTM));\n",
        "model_LSTM.eval()\n",
        "\n",
        "path_RNN='saved_weights_RNN.pt'\n",
        "model_RNN.load_state_dict(torch.load(path_RNN));\n",
        "model_RNN.eval();\n",
        "\n",
        "nlp = spacy.load(\"en_core_web_sm\")\n",
        "\n",
        "def predict(model, sentence):\n",
        "    tokenized = [tok.text for tok in nlp.tokenizer(sentence)]  \n",
        "    indexed = [TEXT.vocab.stoi[t] for t in tokenized]          \n",
        "    length = [len(indexed)]                                    \n",
        "    tensor = torch.LongTensor(indexed).to(device)              \n",
        "    tensor = tensor.unsqueeze(1).T                             \n",
        "    length_tensor = torch.LongTensor(length)                   \n",
        "    prediction = model(tensor, length_tensor)                  \n",
        "    return prediction.item()"
      ]
    },
    {
      "cell_type": "code",
      "execution_count": null,
      "metadata": {
        "id": "HgWxDMTUcLXl",
        "colab": {
          "base_uri": "https://localhost:8080/"
        },
        "outputId": "48c77990-7e2c-4636-8481-8222474c56dc"
      },
      "outputs": [
        {
          "output_type": "stream",
          "name": "stdout",
          "text": [
            "LSTM:0.888817310333252\n",
            "RNN:0.9685214161872864\n"
          ]
        }
      ],
      "source": [
        "print(f'LSTM:{predict(model_LSTM, \"aaaa there is a tornado in california\")}')\n",
        "print(f'RNN:{predict(model_RNN, \"aaaa there is a tornado in california\")}')"
      ]
    },
    {
      "cell_type": "code",
      "execution_count": null,
      "metadata": {
        "id": "MftDRj7zcLXl",
        "colab": {
          "base_uri": "https://localhost:8080/"
        },
        "outputId": "713f0b41-8b0d-4b89-e7b0-e5ae0680b254"
      },
      "outputs": [
        {
          "output_type": "stream",
          "name": "stdout",
          "text": [
            "LSTM:0.05692358314990997\n",
            "RNN:0.05492768436670303\n"
          ]
        }
      ],
      "source": [
        "print(f'LSTM:{predict(model_LSTM, \"Never gonna give you up, never gonna let you down...\")}')\n",
        "print(f'RNN:{predict(model_RNN, \"Never gonna give you up, never gonna let you down...\")}')"
      ]
    },
    {
      "cell_type": "code",
      "execution_count": null,
      "metadata": {
        "id": "DF_fCk4ZcLXl"
      },
      "outputs": [],
      "source": [
        "Y_test=[float(i) for i in valid_data.label]"
      ]
    },
    {
      "cell_type": "code",
      "execution_count": null,
      "metadata": {
        "id": "s7y1hPdZcLXl",
        "colab": {
          "base_uri": "https://localhost:8080/"
        },
        "outputId": "f0634e3c-3803-4bdd-dcaf-6179dc33232c"
      },
      "outputs": [
        {
          "output_type": "stream",
          "name": "stdout",
          "text": [
            "accuracy:   0.849\n",
            "classification report:\n",
            "              precision    recall  f1-score   support\n",
            "\n",
            "         0.0       0.84      0.91      0.88       443\n",
            "         1.0       0.86      0.75      0.80       306\n",
            "\n",
            "    accuracy                           0.85       749\n",
            "   macro avg       0.85      0.83      0.84       749\n",
            "weighted avg       0.85      0.85      0.85       749\n",
            "\n",
            "confusion matrix:\n",
            "[[405  38]\n",
            " [ 75 231]]\n"
          ]
        }
      ],
      "source": [
        "y_pred=[round(predict(model_LSTM,\" \".join(text))) for text in valid_data.text]\n",
        "acc = metrics.accuracy_score(Y_test, y_pred)\n",
        "print(\"accuracy:   %0.3f\" % acc)\n",
        "\n",
        "print(\"classification report:\")\n",
        "print(metrics.classification_report(Y_test, y_pred))\n",
        "\n",
        "print(\"confusion matrix:\")\n",
        "print(metrics.confusion_matrix(Y_test, y_pred))"
      ]
    },
    {
      "cell_type": "code",
      "execution_count": null,
      "metadata": {
        "id": "xGjbsFXtcLXl",
        "colab": {
          "base_uri": "https://localhost:8080/"
        },
        "outputId": "c0902da2-7a4b-492f-9e7f-eb47bf8b624c"
      },
      "outputs": [
        {
          "output_type": "stream",
          "name": "stdout",
          "text": [
            "accuracy:   0.842\n",
            "classification report:\n",
            "              precision    recall  f1-score   support\n",
            "\n",
            "         0.0       0.83      0.92      0.87       443\n",
            "         1.0       0.87      0.73      0.79       306\n",
            "\n",
            "    accuracy                           0.84       749\n",
            "   macro avg       0.85      0.82      0.83       749\n",
            "weighted avg       0.84      0.84      0.84       749\n",
            "\n",
            "confusion matrix:\n",
            "[[409  34]\n",
            " [ 84 222]]\n"
          ]
        }
      ],
      "source": [
        "y_pred=[round(predict(model_RNN,\" \".join(text))) for text in valid_data.text]\n",
        "acc = metrics.accuracy_score(Y_test, y_pred)\n",
        "print(\"accuracy:   %0.3f\" % acc)\n",
        "\n",
        "print(\"classification report:\")\n",
        "print(metrics.classification_report(Y_test, y_pred))\n",
        "\n",
        "print(\"confusion matrix:\")\n",
        "print(metrics.confusion_matrix(Y_test, y_pred))"
      ]
    },
    {
      "cell_type": "markdown",
      "source": [
        "### Transfer learning utilizing BERT"
      ],
      "metadata": {
        "id": "7qgZPYjFofYS"
      }
    },
    {
      "cell_type": "code",
      "source": [
        "tokenizer = BertTokenizer.from_pretrained('bert-base-cased')\n",
        "labels = {'not_disaster':0,\n",
        "          'disaster':1,\n",
        "          }\n",
        "\n",
        "class Dataset(torch.utils.data.Dataset):\n",
        "\n",
        "    def __init__(self, df):\n",
        "\n",
        "        #self.labels = [labels[label] for label in df['target']]\n",
        "        self.labels = df['target']\n",
        "        self.texts = [tokenizer(text,\n",
        "                                padding='max_length',\n",
        "                                truncation=True,\n",
        "                                return_tensors=\"pt\") for text in df['text']]\n",
        "\n",
        "    def classes(self):\n",
        "        return self.labels\n",
        "\n",
        "    def __len__(self):\n",
        "        return len(self.labels)\n",
        "\n",
        "    def get_batch_labels(self, idx):\n",
        "        # Fetch a batch of labels\n",
        "        return self.labels[idx]\n",
        "\n",
        "    def get_batch_texts(self, idx):\n",
        "        # Fetch a batch of inputs\n",
        "        return self.texts[idx]\n",
        "\n",
        "    def __getitem__(self, idx):\n",
        "\n",
        "        batch_texts = self.get_batch_texts(idx)\n",
        "        batch_y = self.get_batch_labels(idx)\n",
        "\n",
        "        return batch_texts, batch_y"
      ],
      "metadata": {
        "id": "0ah1Jmiyokia"
      },
      "execution_count": null,
      "outputs": []
    },
    {
      "cell_type": "code",
      "source": [
        "df_train, df_test = train_test_split(\n",
        "    train_df,\n",
        "    #train_df['target'],\n",
        "    test_size=0.1,\n",
        "    random_state=42,\n",
        "    stratify=train_df['target']\n",
        ")\n",
        "df_train.reset_index(inplace=True)\n",
        "df_test.reset_index(inplace=True)"
      ],
      "metadata": {
        "id": "3dDKoo8Ko1vC"
      },
      "execution_count": null,
      "outputs": []
    },
    {
      "cell_type": "code",
      "source": [
        "from torch import nn\n",
        "class BertClassifier(nn.Module):\n",
        "\n",
        "    def __init__(self, dropout=0.1):\n",
        "\n",
        "        super(BertClassifier, self).__init__()\n",
        "\n",
        "        self.bert = BertModel.from_pretrained('bert-base-cased')\n",
        "        self.dropout = nn.Dropout(dropout)\n",
        "        self.linear = nn.Linear(768, 2)\n",
        "        self.relu = nn.ReLU()\n",
        "\n",
        "    def forward(self, input_id, mask):\n",
        "\n",
        "        _, pooled_output = self.bert(input_ids= input_id, attention_mask=mask,return_dict=False)\n",
        "        dropout_output = self.dropout(pooled_output)\n",
        "        linear_output = self.linear(dropout_output)\n",
        "        final_layer = self.relu(linear_output)\n",
        "\n",
        "        return final_layer"
      ],
      "metadata": {
        "id": "LKRadGlfo3r3"
      },
      "execution_count": null,
      "outputs": []
    },
    {
      "cell_type": "code",
      "source": [
        "def training(model, train_data, learning_rate, epochs):\n",
        "\n",
        "    train = Dataset(train_data)\n",
        "\n",
        "    train_dataloader = torch.utils.data.DataLoader(train, batch_size=2, shuffle=True)\n",
        "\n",
        "    use_cuda = torch.cuda.is_available()\n",
        "    device = torch.device(\"cuda\" if use_cuda else \"cpu\")\n",
        "\n",
        "    criterion = nn.CrossEntropyLoss()\n",
        "    optimizer = Adam(model.parameters(), lr= learning_rate)\n",
        "\n",
        "    if use_cuda:\n",
        "\n",
        "            model = model.cuda()\n",
        "            criterion = criterion.cuda()\n",
        "    \n",
        "\n",
        "    for epoch_num in range(epochs):\n",
        "\n",
        "            total_acc_train = 0\n",
        "            total_loss_train = 0\n",
        "\n",
        "            tqdm_loader = tqdm(train_dataloader)\n",
        "\n",
        "            for train_input, train_label in tqdm_loader:\n",
        "\n",
        "                train_label = train_label.to(device)\n",
        "                mask = train_input['attention_mask'].to(device)\n",
        "                input_id = train_input['input_ids'].squeeze(1).to(device)\n",
        "\n",
        "                output = model(input_id, mask)\n",
        "                \n",
        "                batch_loss = criterion(output, train_label.long())\n",
        "                total_loss_train += batch_loss.item()\n",
        "\n",
        "                tqdm_loader.set_postfix({'loss':batch_loss.item()})\n",
        "                \n",
        "                acc = (output.argmax(dim=1) == train_label).sum().item()\n",
        "                total_acc_train += acc\n",
        "\n",
        "                model.zero_grad()\n",
        "                batch_loss.backward()\n",
        "                optimizer.step()\n",
        "            \n",
        "            print(\n",
        "                f'Epochs: {epoch_num + 1} | Train Loss: {total_loss_train / len(train_data): .3f} \\\n",
        "                | Train Accuracy: {total_acc_train / len(train_data): .3f}')"
      ],
      "metadata": {
        "id": "-xa6HVq-pCJw"
      },
      "execution_count": null,
      "outputs": []
    },
    {
      "cell_type": "code",
      "source": [
        "EPOCHS = 5\n",
        "model = BertClassifier()\n",
        "LR = 1e-6"
      ],
      "metadata": {
        "id": "64vNize_pETH"
      },
      "execution_count": null,
      "outputs": []
    },
    {
      "cell_type": "code",
      "source": [
        "training(model, df_train, LR, EPOCHS)"
      ],
      "metadata": {
        "id": "afYKXiUlpFwo"
      },
      "execution_count": null,
      "outputs": []
    },
    {
      "cell_type": "code",
      "source": [
        "torch.save(model, 'bert_training.pt')"
      ],
      "metadata": {
        "id": "B3WC-s3lpISA"
      },
      "execution_count": null,
      "outputs": []
    },
    {
      "cell_type": "code",
      "source": [
        "def testing(model, test_data):\n",
        "\n",
        "    real_values = []\n",
        "    pred_values = []\n",
        "\n",
        "    test = Dataset(test_data)\n",
        "\n",
        "    test_dataloader = torch.utils.data.DataLoader(test, batch_size=2)\n",
        "\n",
        "    use_cuda = torch.cuda.is_available()\n",
        "    device = torch.device(\"cuda\" if use_cuda else \"cpu\")\n",
        "\n",
        "    if use_cuda:\n",
        "\n",
        "        model = model.cuda()\n",
        "\n",
        "    total_acc_test = 0\n",
        "    with torch.no_grad():\n",
        "\n",
        "        for test_input, test_label in test_dataloader:\n",
        "\n",
        "              test_label = test_label.to(device)\n",
        "              mask = test_input['attention_mask'].to(device)\n",
        "              input_id = test_input['input_ids'].squeeze(1).to(device)\n",
        "\n",
        "              output = model(input_id, mask)\n",
        "              acc = (output.argmax(dim=1) == test_label).sum().item()\n",
        "              total_acc_test += acc\n",
        "\n",
        "              real_values += test_label.tolist()\n",
        "              pred_values += output.argmax(dim=1).tolist()\n",
        "              \n",
        "    \n",
        "    print(f'Test Accuracy: {total_acc_test / len(test_data): .3f}')\n",
        "    return real_values, pred_values"
      ],
      "metadata": {
        "id": "cjSfCJmqpJ4J"
      },
      "execution_count": null,
      "outputs": []
    },
    {
      "cell_type": "code",
      "source": [
        "model = torch.load('bert_training.pt')"
      ],
      "metadata": {
        "id": "0P_Ic-hr0ySR"
      },
      "execution_count": null,
      "outputs": []
    },
    {
      "cell_type": "code",
      "source": [
        "real, pred = testing(model, df_test)"
      ],
      "metadata": {
        "colab": {
          "base_uri": "https://localhost:8080/"
        },
        "id": "FuXWt0fppOaL",
        "outputId": "f67eaf83-3c8d-4905-8b77-9dc33b7b4248"
      },
      "execution_count": null,
      "outputs": [
        {
          "output_type": "stream",
          "name": "stdout",
          "text": [
            "Test Accuracy:  0.822\n"
          ]
        }
      ]
    },
    {
      "cell_type": "code",
      "source": [
        "acc = metrics.accuracy_score(real, pred)\n",
        "print(\"accuracy:   %0.3f\" % acc)\n",
        "\n",
        "print(\"classification report:\")\n",
        "print(metrics.classification_report(real, pred))\n",
        "\n",
        "print(\"confusion matrix:\")\n",
        "print(metrics.confusion_matrix(real, pred))"
      ],
      "metadata": {
        "colab": {
          "base_uri": "https://localhost:8080/"
        },
        "id": "hCQsLeg96djd",
        "outputId": "eb661f6f-8f7c-4089-a0f6-b37410909a32"
      },
      "execution_count": null,
      "outputs": [
        {
          "output_type": "stream",
          "name": "stdout",
          "text": [
            "accuracy:   0.822\n",
            "classification report:\n",
            "              precision    recall  f1-score   support\n",
            "\n",
            "           0       0.80      0.92      0.85       435\n",
            "           1       0.86      0.69      0.77       327\n",
            "\n",
            "    accuracy                           0.82       762\n",
            "   macro avg       0.83      0.81      0.81       762\n",
            "weighted avg       0.83      0.82      0.82       762\n",
            "\n",
            "confusion matrix:\n",
            "[[399  36]\n",
            " [100 227]]\n"
          ]
        }
      ]
    },
    {
      "cell_type": "markdown",
      "metadata": {
        "id": "UxwyP4HKcLXl"
      },
      "source": [
        "## Results and Conclusion"
      ]
    },
    {
      "cell_type": "code",
      "execution_count": null,
      "metadata": {
        "id": "CXEv52wQcLXl"
      },
      "outputs": [],
      "source": [
        "res = {}\n",
        "res['Method'] = ['Naive Bayes', 'Random Forest', 'Logistic Regression', 'XG Boost', 'Zero-Shot', 'Sentimental', 'RNN', 'LSTM', 'BERT']\n",
        "res['Accuracy'] = [80.9, 78.5, 80.4, 75.7, 62.5, 68.0, 84.2, 84.9, 82.2]\n",
        "res['Precision'] = [82.0, 80.0, 81.0, 79.0, 63.0, 67.0, 85.0, 85.0, 83.0]\n",
        "res['Recall'] = [79.0, 76.0, 79.0, 73.0, 63.0, 68.0, 82.0, 83.0, 81.0]"
      ]
    },
    {
      "cell_type": "code",
      "source": [
        "df_res = pd.DataFrame.from_dict(res)\n",
        "print(df_res.shape)\n",
        "df_res.head()"
      ],
      "metadata": {
        "colab": {
          "base_uri": "https://localhost:8080/",
          "height": 224
        },
        "id": "s61ikWuRBBVo",
        "outputId": "6c399e1f-4fb1-465c-beea-75fa13a7687f"
      },
      "execution_count": null,
      "outputs": [
        {
          "output_type": "stream",
          "name": "stdout",
          "text": [
            "(9, 4)\n"
          ]
        },
        {
          "output_type": "execute_result",
          "data": {
            "text/plain": [
              "                Method  Accuracy  Precision  Recall\n",
              "0          Naive Bayes      80.9       82.0    79.0\n",
              "1        Random Forest      78.5       80.0    76.0\n",
              "2  Logistic Regression      80.4       81.0    79.0\n",
              "3             XG Boost      75.7       79.0    73.0\n",
              "4            Zero-Shot      62.5       63.0    63.0"
            ],
            "text/html": [
              "\n",
              "  <div id=\"df-f85e1227-5ac2-4962-9343-b8639170a132\">\n",
              "    <div class=\"colab-df-container\">\n",
              "      <div>\n",
              "<style scoped>\n",
              "    .dataframe tbody tr th:only-of-type {\n",
              "        vertical-align: middle;\n",
              "    }\n",
              "\n",
              "    .dataframe tbody tr th {\n",
              "        vertical-align: top;\n",
              "    }\n",
              "\n",
              "    .dataframe thead th {\n",
              "        text-align: right;\n",
              "    }\n",
              "</style>\n",
              "<table border=\"1\" class=\"dataframe\">\n",
              "  <thead>\n",
              "    <tr style=\"text-align: right;\">\n",
              "      <th></th>\n",
              "      <th>Method</th>\n",
              "      <th>Accuracy</th>\n",
              "      <th>Precision</th>\n",
              "      <th>Recall</th>\n",
              "    </tr>\n",
              "  </thead>\n",
              "  <tbody>\n",
              "    <tr>\n",
              "      <th>0</th>\n",
              "      <td>Naive Bayes</td>\n",
              "      <td>80.9</td>\n",
              "      <td>82.0</td>\n",
              "      <td>79.0</td>\n",
              "    </tr>\n",
              "    <tr>\n",
              "      <th>1</th>\n",
              "      <td>Random Forest</td>\n",
              "      <td>78.5</td>\n",
              "      <td>80.0</td>\n",
              "      <td>76.0</td>\n",
              "    </tr>\n",
              "    <tr>\n",
              "      <th>2</th>\n",
              "      <td>Logistic Regression</td>\n",
              "      <td>80.4</td>\n",
              "      <td>81.0</td>\n",
              "      <td>79.0</td>\n",
              "    </tr>\n",
              "    <tr>\n",
              "      <th>3</th>\n",
              "      <td>XG Boost</td>\n",
              "      <td>75.7</td>\n",
              "      <td>79.0</td>\n",
              "      <td>73.0</td>\n",
              "    </tr>\n",
              "    <tr>\n",
              "      <th>4</th>\n",
              "      <td>Zero-Shot</td>\n",
              "      <td>62.5</td>\n",
              "      <td>63.0</td>\n",
              "      <td>63.0</td>\n",
              "    </tr>\n",
              "  </tbody>\n",
              "</table>\n",
              "</div>\n",
              "      <button class=\"colab-df-convert\" onclick=\"convertToInteractive('df-f85e1227-5ac2-4962-9343-b8639170a132')\"\n",
              "              title=\"Convert this dataframe to an interactive table.\"\n",
              "              style=\"display:none;\">\n",
              "        \n",
              "  <svg xmlns=\"http://www.w3.org/2000/svg\" height=\"24px\"viewBox=\"0 0 24 24\"\n",
              "       width=\"24px\">\n",
              "    <path d=\"M0 0h24v24H0V0z\" fill=\"none\"/>\n",
              "    <path d=\"M18.56 5.44l.94 2.06.94-2.06 2.06-.94-2.06-.94-.94-2.06-.94 2.06-2.06.94zm-11 1L8.5 8.5l.94-2.06 2.06-.94-2.06-.94L8.5 2.5l-.94 2.06-2.06.94zm10 10l.94 2.06.94-2.06 2.06-.94-2.06-.94-.94-2.06-.94 2.06-2.06.94z\"/><path d=\"M17.41 7.96l-1.37-1.37c-.4-.4-.92-.59-1.43-.59-.52 0-1.04.2-1.43.59L10.3 9.45l-7.72 7.72c-.78.78-.78 2.05 0 2.83L4 21.41c.39.39.9.59 1.41.59.51 0 1.02-.2 1.41-.59l7.78-7.78 2.81-2.81c.8-.78.8-2.07 0-2.86zM5.41 20L4 18.59l7.72-7.72 1.47 1.35L5.41 20z\"/>\n",
              "  </svg>\n",
              "      </button>\n",
              "      \n",
              "  <style>\n",
              "    .colab-df-container {\n",
              "      display:flex;\n",
              "      flex-wrap:wrap;\n",
              "      gap: 12px;\n",
              "    }\n",
              "\n",
              "    .colab-df-convert {\n",
              "      background-color: #E8F0FE;\n",
              "      border: none;\n",
              "      border-radius: 50%;\n",
              "      cursor: pointer;\n",
              "      display: none;\n",
              "      fill: #1967D2;\n",
              "      height: 32px;\n",
              "      padding: 0 0 0 0;\n",
              "      width: 32px;\n",
              "    }\n",
              "\n",
              "    .colab-df-convert:hover {\n",
              "      background-color: #E2EBFA;\n",
              "      box-shadow: 0px 1px 2px rgba(60, 64, 67, 0.3), 0px 1px 3px 1px rgba(60, 64, 67, 0.15);\n",
              "      fill: #174EA6;\n",
              "    }\n",
              "\n",
              "    [theme=dark] .colab-df-convert {\n",
              "      background-color: #3B4455;\n",
              "      fill: #D2E3FC;\n",
              "    }\n",
              "\n",
              "    [theme=dark] .colab-df-convert:hover {\n",
              "      background-color: #434B5C;\n",
              "      box-shadow: 0px 1px 3px 1px rgba(0, 0, 0, 0.15);\n",
              "      filter: drop-shadow(0px 1px 2px rgba(0, 0, 0, 0.3));\n",
              "      fill: #FFFFFF;\n",
              "    }\n",
              "  </style>\n",
              "\n",
              "      <script>\n",
              "        const buttonEl =\n",
              "          document.querySelector('#df-f85e1227-5ac2-4962-9343-b8639170a132 button.colab-df-convert');\n",
              "        buttonEl.style.display =\n",
              "          google.colab.kernel.accessAllowed ? 'block' : 'none';\n",
              "\n",
              "        async function convertToInteractive(key) {\n",
              "          const element = document.querySelector('#df-f85e1227-5ac2-4962-9343-b8639170a132');\n",
              "          const dataTable =\n",
              "            await google.colab.kernel.invokeFunction('convertToInteractive',\n",
              "                                                     [key], {});\n",
              "          if (!dataTable) return;\n",
              "\n",
              "          const docLinkHtml = 'Like what you see? Visit the ' +\n",
              "            '<a target=\"_blank\" href=https://colab.research.google.com/notebooks/data_table.ipynb>data table notebook</a>'\n",
              "            + ' to learn more about interactive tables.';\n",
              "          element.innerHTML = '';\n",
              "          dataTable['output_type'] = 'display_data';\n",
              "          await google.colab.output.renderOutput(dataTable, element);\n",
              "          const docLink = document.createElement('div');\n",
              "          docLink.innerHTML = docLinkHtml;\n",
              "          element.appendChild(docLink);\n",
              "        }\n",
              "      </script>\n",
              "    </div>\n",
              "  </div>\n",
              "  "
            ]
          },
          "metadata": {},
          "execution_count": 5
        }
      ]
    },
    {
      "cell_type": "code",
      "source": [
        "ax = df_res.plot(x='Method', y=['Accuracy', 'Precision', 'Recall'], color=['blue', 'red', 'green'], figsize=(17, 20), fontsize=10)\n",
        "ax.set_title('Method Performance', fontsize=30)\n",
        "ax.set_ylabel('Percentage', fontsize=25)\n",
        "ax.set_xlabel('Method used', fontsize=25)\n",
        "ax.tick_params(axis='both', labelsize=20)\n",
        "plt.xticks(rotation=90)\n",
        "ax.set_ylim([0, 100])\n",
        "plt.legend(fontsize=20)"
      ],
      "metadata": {
        "colab": {
          "base_uri": "https://localhost:8080/",
          "height": 1000
        },
        "id": "zoAwOEdbBhvM",
        "outputId": "bf87ee75-df58-467d-976a-2c95af0af0d2"
      },
      "execution_count": null,
      "outputs": [
        {
          "output_type": "execute_result",
          "data": {
            "text/plain": [
              "<matplotlib.legend.Legend at 0x7fbc2e826d50>"
            ]
          },
          "metadata": {},
          "execution_count": 24
        },
        {
          "output_type": "display_data",
          "data": {
            "text/plain": [
              "<Figure size 1224x1440 with 1 Axes>"
            ],
            "image/png": "[encoded data removed]"
          },
          "metadata": {
            "needs_background": "light"
          }
        }
      ]
    },
    {
      "cell_type": "code",
      "source": [
        ""
      ],
      "metadata": {
        "id": "kIRAk4Z8KdRp"
      },
      "execution_count": null,
      "outputs": []
    }
  ],
  "metadata": {
    "colab": {
      "name": "NN & NLP Project.ipynb",
      "provenance": [],
      "collapsed_sections": [
        "tmIjIb68cLXU",
        "ncRhFGuNe5DF",
        "oDFuZZ1TcLXX",
        "ceI2Sx3JcLXZ",
        "YcCAdYKTcLXZ",
        "q-GC-kgMil5V",
        "mWvT1pWCcLXd",
        "kq7lKb7vcLXe"
      ],
      "include_colab_link": true
    },
    "kernelspec": {
      "display_name": "Python 3",
      "language": "python",
      "name": "python3"
    },
    "language_info": {
      "codemirror_mode": {
        "name": "ipython",
        "version": 3
      },
      "file_extension": ".py",
      "mimetype": "text/x-python",
      "name": "python",
      "nbconvert_exporter": "python",
      "pygments_lexer": "ipython3",
      "version": "3.7.12"
    },
    "accelerator": "GPU",
    "gpuClass": "standard",
    "widgets": {
      "application/vnd.jupyter.widget-state+json": {
        "8aab1371a95a484d8cb62e1848ca93c0": {
          "model_module": "@jupyter-widgets/controls",
          "model_name": "HBoxModel",
          "model_module_version": "1.5.0",
          "state": {
            "_dom_classes": [],
            "_model_module": "@jupyter-widgets/controls",
            "_model_module_version": "1.5.0",
            "_model_name": "HBoxModel",
            "_view_count": null,
            "_view_module": "@jupyter-widgets/controls",
            "_view_module_version": "1.5.0",
            "_view_name": "HBoxView",
            "box_style": "",
            "children": [
              "IPY_MODEL_1428414bdd7746cd9eab04a619a6a452",
              "IPY_MODEL_d88e85b030754acf9ca2815cd1406591",
              "IPY_MODEL_484005ee83e14442b0cc148218a450f0"
            ],
            "layout": "IPY_MODEL_879822468f8b4b3d885b88d861eeb88f"
          }
        },
        "1428414bdd7746cd9eab04a619a6a452": {
          "model_module": "@jupyter-widgets/controls",
          "model_name": "HTMLModel",
          "model_module_version": "1.5.0",
          "state": {
            "_dom_classes": [],
            "_model_module": "@jupyter-widgets/controls",
            "_model_module_version": "1.5.0",
            "_model_name": "HTMLModel",
            "_view_count": null,
            "_view_module": "@jupyter-widgets/controls",
            "_view_module_version": "1.5.0",
            "_view_name": "HTMLView",
            "description": "",
            "description_tooltip": null,
            "layout": "IPY_MODEL_c1d6d8b4fee54c42b82b555c130b2889",
            "placeholder": "​",
            "style": "IPY_MODEL_288a40b26dc44719b3ccf855b7b152fc",
            "value": "Downloading: 100%"
          }
        },
        "d88e85b030754acf9ca2815cd1406591": {
          "model_module": "@jupyter-widgets/controls",
          "model_name": "FloatProgressModel",
          "model_module_version": "1.5.0",
          "state": {
            "_dom_classes": [],
            "_model_module": "@jupyter-widgets/controls",
            "_model_module_version": "1.5.0",
            "_model_name": "FloatProgressModel",
            "_view_count": null,
            "_view_module": "@jupyter-widgets/controls",
            "_view_module_version": "1.5.0",
            "_view_name": "ProgressView",
            "bar_style": "success",
            "description": "",
            "description_tooltip": null,
            "layout": "IPY_MODEL_2b4a50e006af45909fdc1e447ac2fc4e",
            "max": 929,
            "min": 0,
            "orientation": "horizontal",
            "style": "IPY_MODEL_bc71132b8c8344f1afb5b03170e3a5ff",
            "value": 929
          }
        },
        "484005ee83e14442b0cc148218a450f0": {
          "model_module": "@jupyter-widgets/controls",
          "model_name": "HTMLModel",
          "model_module_version": "1.5.0",
          "state": {
            "_dom_classes": [],
            "_model_module": "@jupyter-widgets/controls",
            "_model_module_version": "1.5.0",
            "_model_name": "HTMLModel",
            "_view_count": null,
            "_view_module": "@jupyter-widgets/controls",
            "_view_module_version": "1.5.0",
            "_view_name": "HTMLView",
            "description": "",
            "description_tooltip": null,
            "layout": "IPY_MODEL_b9385846ddcf4dbb8dcc84ca11176155",
            "placeholder": "​",
            "style": "IPY_MODEL_c17f5425e83d4a23b6c9b08faf519480",
            "value": " 929/929 [00:00&lt;00:00, 6.98kB/s]"
          }
        },
        "879822468f8b4b3d885b88d861eeb88f": {
          "model_module": "@jupyter-widgets/base",
          "model_name": "LayoutModel",
          "model_module_version": "1.2.0",
          "state": {
            "_model_module": "@jupyter-widgets/base",
            "_model_module_version": "1.2.0",
            "_model_name": "LayoutModel",
            "_view_count": null,
            "_view_module": "@jupyter-widgets/base",
            "_view_module_version": "1.2.0",
            "_view_name": "LayoutView",
            "align_content": null,
            "align_items": null,
            "align_self": null,
            "border": null,
            "bottom": null,
            "display": null,
            "flex": null,
            "flex_flow": null,
            "grid_area": null,
            "grid_auto_columns": null,
            "grid_auto_flow": null,
            "grid_auto_rows": null,
            "grid_column": null,
            "grid_gap": null,
            "grid_row": null,
            "grid_template_areas": null,
            "grid_template_columns": null,
            "grid_template_rows": null,
            "height": null,
            "justify_content": null,
            "justify_items": null,
            "left": null,
            "margin": null,
            "max_height": null,
            "max_width": null,
            "min_height": null,
            "min_width": null,
            "object_fit": null,
            "object_position": null,
            "order": null,
            "overflow": null,
            "overflow_x": null,
            "overflow_y": null,
            "padding": null,
            "right": null,
            "top": null,
            "visibility": null,
            "width": null
          }
        },
        "c1d6d8b4fee54c42b82b555c130b2889": {
          "model_module": "@jupyter-widgets/base",
          "model_name": "LayoutModel",
          "model_module_version": "1.2.0",
          "state": {
            "_model_module": "@jupyter-widgets/base",
            "_model_module_version": "1.2.0",
            "_model_name": "LayoutModel",
            "_view_count": null,
            "_view_module": "@jupyter-widgets/base",
            "_view_module_version": "1.2.0",
            "_view_name": "LayoutView",
            "align_content": null,
            "align_items": null,
            "align_self": null,
            "border": null,
            "bottom": null,
            "display": null,
            "flex": null,
            "flex_flow": null,
            "grid_area": null,
            "grid_auto_columns": null,
            "grid_auto_flow": null,
            "grid_auto_rows": null,
            "grid_column": null,
            "grid_gap": null,
            "grid_row": null,
            "grid_template_areas": null,
            "grid_template_columns": null,
            "grid_template_rows": null,
            "height": null,
            "justify_content": null,
            "justify_items": null,
            "left": null,
            "margin": null,
            "max_height": null,
            "max_width": null,
            "min_height": null,
            "min_width": null,
            "object_fit": null,
            "object_position": null,
            "order": null,
            "overflow": null,
            "overflow_x": null,
            "overflow_y": null,
            "padding": null,
            "right": null,
            "top": null,
            "visibility": null,
            "width": null
          }
        },
        "288a40b26dc44719b3ccf855b7b152fc": {
          "model_module": "@jupyter-widgets/controls",
          "model_name": "DescriptionStyleModel",
          "model_module_version": "1.5.0",
          "state": {
            "_model_module": "@jupyter-widgets/controls",
            "_model_module_version": "1.5.0",
            "_model_name": "DescriptionStyleModel",
            "_view_count": null,
            "_view_module": "@jupyter-widgets/base",
            "_view_module_version": "1.2.0",
            "_view_name": "StyleView",
            "description_width": ""
          }
        },
        "2b4a50e006af45909fdc1e447ac2fc4e": {
          "model_module": "@jupyter-widgets/base",
          "model_name": "LayoutModel",
          "model_module_version": "1.2.0",
          "state": {
            "_model_module": "@jupyter-widgets/base",
            "_model_module_version": "1.2.0",
            "_model_name": "LayoutModel",
            "_view_count": null,
            "_view_module": "@jupyter-widgets/base",
            "_view_module_version": "1.2.0",
            "_view_name": "LayoutView",
            "align_content": null,
            "align_items": null,
            "align_self": null,
            "border": null,
            "bottom": null,
            "display": null,
            "flex": null,
            "flex_flow": null,
            "grid_area": null,
            "grid_auto_columns": null,
            "grid_auto_flow": null,
            "grid_auto_rows": null,
            "grid_column": null,
            "grid_gap": null,
            "grid_row": null,
            "grid_template_areas": null,
            "grid_template_columns": null,
            "grid_template_rows": null,
            "height": null,
            "justify_content": null,
            "justify_items": null,
            "left": null,
            "margin": null,
            "max_height": null,
            "max_width": null,
            "min_height": null,
            "min_width": null,
            "object_fit": null,
            "object_position": null,
            "order": null,
            "overflow": null,
            "overflow_x": null,
            "overflow_y": null,
            "padding": null,
            "right": null,
            "top": null,
            "visibility": null,
            "width": null
          }
        },
        "bc71132b8c8344f1afb5b03170e3a5ff": {
          "model_module": "@jupyter-widgets/controls",
          "model_name": "ProgressStyleModel",
          "model_module_version": "1.5.0",
          "state": {
            "_model_module": "@jupyter-widgets/controls",
            "_model_module_version": "1.5.0",
            "_model_name": "ProgressStyleModel",
            "_view_count": null,
            "_view_module": "@jupyter-widgets/base",
            "_view_module_version": "1.2.0",
            "_view_name": "StyleView",
            "bar_color": null,
            "description_width": ""
          }
        },
        "b9385846ddcf4dbb8dcc84ca11176155": {
          "model_module": "@jupyter-widgets/base",
          "model_name": "LayoutModel",
          "model_module_version": "1.2.0",
          "state": {
            "_model_module": "@jupyter-widgets/base",
            "_model_module_version": "1.2.0",
            "_model_name": "LayoutModel",
            "_view_count": null,
            "_view_module": "@jupyter-widgets/base",
            "_view_module_version": "1.2.0",
            "_view_name": "LayoutView",
            "align_content": null,
            "align_items": null,
            "align_self": null,
            "border": null,
            "bottom": null,
            "display": null,
            "flex": null,
            "flex_flow": null,
            "grid_area": null,
            "grid_auto_columns": null,
            "grid_auto_flow": null,
            "grid_auto_rows": null,
            "grid_column": null,
            "grid_gap": null,
            "grid_row": null,
            "grid_template_areas": null,
            "grid_template_columns": null,
            "grid_template_rows": null,
            "height": null,
            "justify_content": null,
            "justify_items": null,
            "left": null,
            "margin": null,
            "max_height": null,
            "max_width": null,
            "min_height": null,
            "min_width": null,
            "object_fit": null,
            "object_position": null,
            "order": null,
            "overflow": null,
            "overflow_x": null,
            "overflow_y": null,
            "padding": null,
            "right": null,
            "top": null,
            "visibility": null,
            "width": null
          }
        },
        "c17f5425e83d4a23b6c9b08faf519480": {
          "model_module": "@jupyter-widgets/controls",
          "model_name": "DescriptionStyleModel",
          "model_module_version": "1.5.0",
          "state": {
            "_model_module": "@jupyter-widgets/controls",
            "_model_module_version": "1.5.0",
            "_model_name": "DescriptionStyleModel",
            "_view_count": null,
            "_view_module": "@jupyter-widgets/base",
            "_view_module_version": "1.2.0",
            "_view_name": "StyleView",
            "description_width": ""
          }
        },
        "119fa67ee55c4440aef3a3c910efd637": {
          "model_module": "@jupyter-widgets/controls",
          "model_name": "HBoxModel",
          "model_module_version": "1.5.0",
          "state": {
            "_dom_classes": [],
            "_model_module": "@jupyter-widgets/controls",
            "_model_module_version": "1.5.0",
            "_model_name": "HBoxModel",
            "_view_count": null,
            "_view_module": "@jupyter-widgets/controls",
            "_view_module_version": "1.5.0",
            "_view_name": "HBoxView",
            "box_style": "",
            "children": [
              "IPY_MODEL_76d51a4c74cc44f3a0870a748cff84e0",
              "IPY_MODEL_398bcd7499da4bfd813ea9bdcb547f14",
              "IPY_MODEL_4e097b96e5f14b5e8dee89aa442a2424"
            ],
            "layout": "IPY_MODEL_86d41277c38442dfa625294a3b3dca93"
          }
        },
        "76d51a4c74cc44f3a0870a748cff84e0": {
          "model_module": "@jupyter-widgets/controls",
          "model_name": "HTMLModel",
          "model_module_version": "1.5.0",
          "state": {
            "_dom_classes": [],
            "_model_module": "@jupyter-widgets/controls",
            "_model_module_version": "1.5.0",
            "_model_name": "HTMLModel",
            "_view_count": null,
            "_view_module": "@jupyter-widgets/controls",
            "_view_module_version": "1.5.0",
            "_view_name": "HTMLView",
            "description": "",
            "description_tooltip": null,
            "layout": "IPY_MODEL_6cf0b26c2e8b4aa29f581a77aa599ae8",
            "placeholder": "​",
            "style": "IPY_MODEL_32a3bc5fbdcf4293b37cd9100a5934ff",
            "value": "Downloading: 100%"
          }
        },
        "398bcd7499da4bfd813ea9bdcb547f14": {
          "model_module": "@jupyter-widgets/controls",
          "model_name": "FloatProgressModel",
          "model_module_version": "1.5.0",
          "state": {
            "_dom_classes": [],
            "_model_module": "@jupyter-widgets/controls",
            "_model_module_version": "1.5.0",
            "_model_name": "FloatProgressModel",
            "_view_count": null,
            "_view_module": "@jupyter-widgets/controls",
            "_view_module_version": "1.5.0",
            "_view_name": "ProgressView",
            "bar_style": "success",
            "description": "",
            "description_tooltip": null,
            "layout": "IPY_MODEL_85155b72ccc944fd862f484010619f45",
            "max": 501045531,
            "min": 0,
            "orientation": "horizontal",
            "style": "IPY_MODEL_03e51fac99b740b29220294665528749",
            "value": 501045531
          }
        },
        "4e097b96e5f14b5e8dee89aa442a2424": {
          "model_module": "@jupyter-widgets/controls",
          "model_name": "HTMLModel",
          "model_module_version": "1.5.0",
          "state": {
            "_dom_classes": [],
            "_model_module": "@jupyter-widgets/controls",
            "_model_module_version": "1.5.0",
            "_model_name": "HTMLModel",
            "_view_count": null,
            "_view_module": "@jupyter-widgets/controls",
            "_view_module_version": "1.5.0",
            "_view_name": "HTMLView",
            "description": "",
            "description_tooltip": null,
            "layout": "IPY_MODEL_0af41752ddc14269935d98c34f03de30",
            "placeholder": "​",
            "style": "IPY_MODEL_b64d0aa7bead48609d5ec9f53308cd9b",
            "value": " 478M/478M [00:15&lt;00:00, 12.0MB/s]"
          }
        },
        "86d41277c38442dfa625294a3b3dca93": {
          "model_module": "@jupyter-widgets/base",
          "model_name": "LayoutModel",
          "model_module_version": "1.2.0",
          "state": {
            "_model_module": "@jupyter-widgets/base",
            "_model_module_version": "1.2.0",
            "_model_name": "LayoutModel",
            "_view_count": null,
            "_view_module": "@jupyter-widgets/base",
            "_view_module_version": "1.2.0",
            "_view_name": "LayoutView",
            "align_content": null,
            "align_items": null,
            "align_self": null,
            "border": null,
            "bottom": null,
            "display": null,
            "flex": null,
            "flex_flow": null,
            "grid_area": null,
            "grid_auto_columns": null,
            "grid_auto_flow": null,
            "grid_auto_rows": null,
            "grid_column": null,
            "grid_gap": null,
            "grid_row": null,
            "grid_template_areas": null,
            "grid_template_columns": null,
            "grid_template_rows": null,
            "height": null,
            "justify_content": null,
            "justify_items": null,
            "left": null,
            "margin": null,
            "max_height": null,
            "max_width": null,
            "min_height": null,
            "min_width": null,
            "object_fit": null,
            "object_position": null,
            "order": null,
            "overflow": null,
            "overflow_x": null,
            "overflow_y": null,
            "padding": null,
            "right": null,
            "top": null,
            "visibility": null,
            "width": null
          }
        },
        "6cf0b26c2e8b4aa29f581a77aa599ae8": {
          "model_module": "@jupyter-widgets/base",
          "model_name": "LayoutModel",
          "model_module_version": "1.2.0",
          "state": {
            "_model_module": "@jupyter-widgets/base",
            "_model_module_version": "1.2.0",
            "_model_name": "LayoutModel",
            "_view_count": null,
            "_view_module": "@jupyter-widgets/base",
            "_view_module_version": "1.2.0",
            "_view_name": "LayoutView",
            "align_content": null,
            "align_items": null,
            "align_self": null,
            "border": null,
            "bottom": null,
            "display": null,
            "flex": null,
            "flex_flow": null,
            "grid_area": null,
            "grid_auto_columns": null,
            "grid_auto_flow": null,
            "grid_auto_rows": null,
            "grid_column": null,
            "grid_gap": null,
            "grid_row": null,
            "grid_template_areas": null,
            "grid_template_columns": null,
            "grid_template_rows": null,
            "height": null,
            "justify_content": null,
            "justify_items": null,
            "left": null,
            "margin": null,
            "max_height": null,
            "max_width": null,
            "min_height": null,
            "min_width": null,
            "object_fit": null,
            "object_position": null,
            "order": null,
            "overflow": null,
            "overflow_x": null,
            "overflow_y": null,
            "padding": null,
            "right": null,
            "top": null,
            "visibility": null,
            "width": null
          }
        },
        "32a3bc5fbdcf4293b37cd9100a5934ff": {
          "model_module": "@jupyter-widgets/controls",
          "model_name": "DescriptionStyleModel",
          "model_module_version": "1.5.0",
          "state": {
            "_model_module": "@jupyter-widgets/controls",
            "_model_module_version": "1.5.0",
            "_model_name": "DescriptionStyleModel",
            "_view_count": null,
            "_view_module": "@jupyter-widgets/base",
            "_view_module_version": "1.2.0",
            "_view_name": "StyleView",
            "description_width": ""
          }
        },
        "85155b72ccc944fd862f484010619f45": {
          "model_module": "@jupyter-widgets/base",
          "model_name": "LayoutModel",
          "model_module_version": "1.2.0",
          "state": {
            "_model_module": "@jupyter-widgets/base",
            "_model_module_version": "1.2.0",
            "_model_name": "LayoutModel",
            "_view_count": null,
            "_view_module": "@jupyter-widgets/base",
            "_view_module_version": "1.2.0",
            "_view_name": "LayoutView",
            "align_content": null,
            "align_items": null,
            "align_self": null,
            "border": null,
            "bottom": null,
            "display": null,
            "flex": null,
            "flex_flow": null,
            "grid_area": null,
            "grid_auto_columns": null,
            "grid_auto_flow": null,
            "grid_auto_rows": null,
            "grid_column": null,
            "grid_gap": null,
            "grid_row": null,
            "grid_template_areas": null,
            "grid_template_columns": null,
            "grid_template_rows": null,
            "height": null,
            "justify_content": null,
            "justify_items": null,
            "left": null,
            "margin": null,
            "max_height": null,
            "max_width": null,
            "min_height": null,
            "min_width": null,
            "object_fit": null,
            "object_position": null,
            "order": null,
            "overflow": null,
            "overflow_x": null,
            "overflow_y": null,
            "padding": null,
            "right": null,
            "top": null,
            "visibility": null,
            "width": null
          }
        },
        "03e51fac99b740b29220294665528749": {
          "model_module": "@jupyter-widgets/controls",
          "model_name": "ProgressStyleModel",
          "model_module_version": "1.5.0",
          "state": {
            "_model_module": "@jupyter-widgets/controls",
            "_model_module_version": "1.5.0",
            "_model_name": "ProgressStyleModel",
            "_view_count": null,
            "_view_module": "@jupyter-widgets/base",
            "_view_module_version": "1.2.0",
            "_view_name": "StyleView",
            "bar_color": null,
            "description_width": ""
          }
        },
        "0af41752ddc14269935d98c34f03de30": {
          "model_module": "@jupyter-widgets/base",
          "model_name": "LayoutModel",
          "model_module_version": "1.2.0",
          "state": {
            "_model_module": "@jupyter-widgets/base",
            "_model_module_version": "1.2.0",
            "_model_name": "LayoutModel",
            "_view_count": null,
            "_view_module": "@jupyter-widgets/base",
            "_view_module_version": "1.2.0",
            "_view_name": "LayoutView",
            "align_content": null,
            "align_items": null,
            "align_self": null,
            "border": null,
            "bottom": null,
            "display": null,
            "flex": null,
            "flex_flow": null,
            "grid_area": null,
            "grid_auto_columns": null,
            "grid_auto_flow": null,
            "grid_auto_rows": null,
            "grid_column": null,
            "grid_gap": null,
            "grid_row": null,
            "grid_template_areas": null,
            "grid_template_columns": null,
            "grid_template_rows": null,
            "height": null,
            "justify_content": null,
            "justify_items": null,
            "left": null,
            "margin": null,
            "max_height": null,
            "max_width": null,
            "min_height": null,
            "min_width": null,
            "object_fit": null,
            "object_position": null,
            "order": null,
            "overflow": null,
            "overflow_x": null,
            "overflow_y": null,
            "padding": null,
            "right": null,
            "top": null,
            "visibility": null,
            "width": null
          }
        },
        "b64d0aa7bead48609d5ec9f53308cd9b": {
          "model_module": "@jupyter-widgets/controls",
          "model_name": "DescriptionStyleModel",
          "model_module_version": "1.5.0",
          "state": {
            "_model_module": "@jupyter-widgets/controls",
            "_model_module_version": "1.5.0",
            "_model_name": "DescriptionStyleModel",
            "_view_count": null,
            "_view_module": "@jupyter-widgets/base",
            "_view_module_version": "1.2.0",
            "_view_name": "StyleView",
            "description_width": ""
          }
        },
        "32d54d8b537f440c9b6e25b96fb524db": {
          "model_module": "@jupyter-widgets/controls",
          "model_name": "HBoxModel",
          "model_module_version": "1.5.0",
          "state": {
            "_dom_classes": [],
            "_model_module": "@jupyter-widgets/controls",
            "_model_module_version": "1.5.0",
            "_model_name": "HBoxModel",
            "_view_count": null,
            "_view_module": "@jupyter-widgets/controls",
            "_view_module_version": "1.5.0",
            "_view_name": "HBoxView",
            "box_style": "",
            "children": [
              "IPY_MODEL_4b0259183cf845b080f44e27cf0ecc01",
              "IPY_MODEL_f46ea0558d6f4428964c0b3cee2057fe",
              "IPY_MODEL_78ab145e5843478bbcf695f7333dc10e"
            ],
            "layout": "IPY_MODEL_34a07181acfa4eb787a7661a14510d63"
          }
        },
        "4b0259183cf845b080f44e27cf0ecc01": {
          "model_module": "@jupyter-widgets/controls",
          "model_name": "HTMLModel",
          "model_module_version": "1.5.0",
          "state": {
            "_dom_classes": [],
            "_model_module": "@jupyter-widgets/controls",
            "_model_module_version": "1.5.0",
            "_model_name": "HTMLModel",
            "_view_count": null,
            "_view_module": "@jupyter-widgets/controls",
            "_view_module_version": "1.5.0",
            "_view_name": "HTMLView",
            "description": "",
            "description_tooltip": null,
            "layout": "IPY_MODEL_f7bdf696ab584ba990be571e62d98a41",
            "placeholder": "​",
            "style": "IPY_MODEL_2bc5c144e3b94d51a858f8f5f7a9c2d3",
            "value": "Downloading: 100%"
          }
        },
        "f46ea0558d6f4428964c0b3cee2057fe": {
          "model_module": "@jupyter-widgets/controls",
          "model_name": "FloatProgressModel",
          "model_module_version": "1.5.0",
          "state": {
            "_dom_classes": [],
            "_model_module": "@jupyter-widgets/controls",
            "_model_module_version": "1.5.0",
            "_model_name": "FloatProgressModel",
            "_view_count": null,
            "_view_module": "@jupyter-widgets/controls",
            "_view_module_version": "1.5.0",
            "_view_name": "ProgressView",
            "bar_style": "success",
            "description": "",
            "description_tooltip": null,
            "layout": "IPY_MODEL_8096efcacdd346b6ae718abe833dd899",
            "max": 898822,
            "min": 0,
            "orientation": "horizontal",
            "style": "IPY_MODEL_9012f12ee0e04e6d9a8cf2d047c1588d",
            "value": 898822
          }
        },
        "78ab145e5843478bbcf695f7333dc10e": {
          "model_module": "@jupyter-widgets/controls",
          "model_name": "HTMLModel",
          "model_module_version": "1.5.0",
          "state": {
            "_dom_classes": [],
            "_model_module": "@jupyter-widgets/controls",
            "_model_module_version": "1.5.0",
            "_model_name": "HTMLModel",
            "_view_count": null,
            "_view_module": "@jupyter-widgets/controls",
            "_view_module_version": "1.5.0",
            "_view_name": "HTMLView",
            "description": "",
            "description_tooltip": null,
            "layout": "IPY_MODEL_f589a12de9c941109a161707199338c9",
            "placeholder": "​",
            "style": "IPY_MODEL_9c3b15bdcddb4ec88f1c8d3096c4a187",
            "value": " 878k/878k [00:00&lt;00:00, 2.87MB/s]"
          }
        },
        "34a07181acfa4eb787a7661a14510d63": {
          "model_module": "@jupyter-widgets/base",
          "model_name": "LayoutModel",
          "model_module_version": "1.2.0",
          "state": {
            "_model_module": "@jupyter-widgets/base",
            "_model_module_version": "1.2.0",
            "_model_name": "LayoutModel",
            "_view_count": null,
            "_view_module": "@jupyter-widgets/base",
            "_view_module_version": "1.2.0",
            "_view_name": "LayoutView",
            "align_content": null,
            "align_items": null,
            "align_self": null,
            "border": null,
            "bottom": null,
            "display": null,
            "flex": null,
            "flex_flow": null,
            "grid_area": null,
            "grid_auto_columns": null,
            "grid_auto_flow": null,
            "grid_auto_rows": null,
            "grid_column": null,
            "grid_gap": null,
            "grid_row": null,
            "grid_template_areas": null,
            "grid_template_columns": null,
            "grid_template_rows": null,
            "height": null,
            "justify_content": null,
            "justify_items": null,
            "left": null,
            "margin": null,
            "max_height": null,
            "max_width": null,
            "min_height": null,
            "min_width": null,
            "object_fit": null,
            "object_position": null,
            "order": null,
            "overflow": null,
            "overflow_x": null,
            "overflow_y": null,
            "padding": null,
            "right": null,
            "top": null,
            "visibility": null,
            "width": null
          }
        },
        "f7bdf696ab584ba990be571e62d98a41": {
          "model_module": "@jupyter-widgets/base",
          "model_name": "LayoutModel",
          "model_module_version": "1.2.0",
          "state": {
            "_model_module": "@jupyter-widgets/base",
            "_model_module_version": "1.2.0",
            "_model_name": "LayoutModel",
            "_view_count": null,
            "_view_module": "@jupyter-widgets/base",
            "_view_module_version": "1.2.0",
            "_view_name": "LayoutView",
            "align_content": null,
            "align_items": null,
            "align_self": null,
            "border": null,
            "bottom": null,
            "display": null,
            "flex": null,
            "flex_flow": null,
            "grid_area": null,
            "grid_auto_columns": null,
            "grid_auto_flow": null,
            "grid_auto_rows": null,
            "grid_column": null,
            "grid_gap": null,
            "grid_row": null,
            "grid_template_areas": null,
            "grid_template_columns": null,
            "grid_template_rows": null,
            "height": null,
            "justify_content": null,
            "justify_items": null,
            "left": null,
            "margin": null,
            "max_height": null,
            "max_width": null,
            "min_height": null,
            "min_width": null,
            "object_fit": null,
            "object_position": null,
            "order": null,
            "overflow": null,
            "overflow_x": null,
            "overflow_y": null,
            "padding": null,
            "right": null,
            "top": null,
            "visibility": null,
            "width": null
          }
        },
        "2bc5c144e3b94d51a858f8f5f7a9c2d3": {
          "model_module": "@jupyter-widgets/controls",
          "model_name": "DescriptionStyleModel",
          "model_module_version": "1.5.0",
          "state": {
            "_model_module": "@jupyter-widgets/controls",
            "_model_module_version": "1.5.0",
            "_model_name": "DescriptionStyleModel",
            "_view_count": null,
            "_view_module": "@jupyter-widgets/base",
            "_view_module_version": "1.2.0",
            "_view_name": "StyleView",
            "description_width": ""
          }
        },
        "8096efcacdd346b6ae718abe833dd899": {
          "model_module": "@jupyter-widgets/base",
          "model_name": "LayoutModel",
          "model_module_version": "1.2.0",
          "state": {
            "_model_module": "@jupyter-widgets/base",
            "_model_module_version": "1.2.0",
            "_model_name": "LayoutModel",
            "_view_count": null,
            "_view_module": "@jupyter-widgets/base",
            "_view_module_version": "1.2.0",
            "_view_name": "LayoutView",
            "align_content": null,
            "align_items": null,
            "align_self": null,
            "border": null,
            "bottom": null,
            "display": null,
            "flex": null,
            "flex_flow": null,
            "grid_area": null,
            "grid_auto_columns": null,
            "grid_auto_flow": null,
            "grid_auto_rows": null,
            "grid_column": null,
            "grid_gap": null,
            "grid_row": null,
            "grid_template_areas": null,
            "grid_template_columns": null,
            "grid_template_rows": null,
            "height": null,
            "justify_content": null,
            "justify_items": null,
            "left": null,
            "margin": null,
            "max_height": null,
            "max_width": null,
            "min_height": null,
            "min_width": null,
            "object_fit": null,
            "object_position": null,
            "order": null,
            "overflow": null,
            "overflow_x": null,
            "overflow_y": null,
            "padding": null,
            "right": null,
            "top": null,
            "visibility": null,
            "width": null
          }
        },
        "9012f12ee0e04e6d9a8cf2d047c1588d": {
          "model_module": "@jupyter-widgets/controls",
          "model_name": "ProgressStyleModel",
          "model_module_version": "1.5.0",
          "state": {
            "_model_module": "@jupyter-widgets/controls",
            "_model_module_version": "1.5.0",
            "_model_name": "ProgressStyleModel",
            "_view_count": null,
            "_view_module": "@jupyter-widgets/base",
            "_view_module_version": "1.2.0",
            "_view_name": "StyleView",
            "bar_color": null,
            "description_width": ""
          }
        },
        "f589a12de9c941109a161707199338c9": {
          "model_module": "@jupyter-widgets/base",
          "model_name": "LayoutModel",
          "model_module_version": "1.2.0",
          "state": {
            "_model_module": "@jupyter-widgets/base",
            "_model_module_version": "1.2.0",
            "_model_name": "LayoutModel",
            "_view_count": null,
            "_view_module": "@jupyter-widgets/base",
            "_view_module_version": "1.2.0",
            "_view_name": "LayoutView",
            "align_content": null,
            "align_items": null,
            "align_self": null,
            "border": null,
            "bottom": null,
            "display": null,
            "flex": null,
            "flex_flow": null,
            "grid_area": null,
            "grid_auto_columns": null,
            "grid_auto_flow": null,
            "grid_auto_rows": null,
            "grid_column": null,
            "grid_gap": null,
            "grid_row": null,
            "grid_template_areas": null,
            "grid_template_columns": null,
            "grid_template_rows": null,
            "height": null,
            "justify_content": null,
            "justify_items": null,
            "left": null,
            "margin": null,
            "max_height": null,
            "max_width": null,
            "min_height": null,
            "min_width": null,
            "object_fit": null,
            "object_position": null,
            "order": null,
            "overflow": null,
            "overflow_x": null,
            "overflow_y": null,
            "padding": null,
            "right": null,
            "top": null,
            "visibility": null,
            "width": null
          }
        },
        "9c3b15bdcddb4ec88f1c8d3096c4a187": {
          "model_module": "@jupyter-widgets/controls",
          "model_name": "DescriptionStyleModel",
          "model_module_version": "1.5.0",
          "state": {
            "_model_module": "@jupyter-widgets/controls",
            "_model_module_version": "1.5.0",
            "_model_name": "DescriptionStyleModel",
            "_view_count": null,
            "_view_module": "@jupyter-widgets/base",
            "_view_module_version": "1.2.0",
            "_view_name": "StyleView",
            "description_width": ""
          }
        },
        "5a4a06eff20b438b9bf8e012afc953d5": {
          "model_module": "@jupyter-widgets/controls",
          "model_name": "HBoxModel",
          "model_module_version": "1.5.0",
          "state": {
            "_dom_classes": [],
            "_model_module": "@jupyter-widgets/controls",
            "_model_module_version": "1.5.0",
            "_model_name": "HBoxModel",
            "_view_count": null,
            "_view_module": "@jupyter-widgets/controls",
            "_view_module_version": "1.5.0",
            "_view_name": "HBoxView",
            "box_style": "",
            "children": [
              "IPY_MODEL_fb73c1adb38243cabbf2ba2092ef53b3",
              "IPY_MODEL_ede4b5a4aebf4e31bddc3b12e024a536",
              "IPY_MODEL_b4ec4d1674324320a58656f7a7ecba21"
            ],
            "layout": "IPY_MODEL_5f2190852f1c4cc29b7b520f2cef489c"
          }
        },
        "fb73c1adb38243cabbf2ba2092ef53b3": {
          "model_module": "@jupyter-widgets/controls",
          "model_name": "HTMLModel",
          "model_module_version": "1.5.0",
          "state": {
            "_dom_classes": [],
            "_model_module": "@jupyter-widgets/controls",
            "_model_module_version": "1.5.0",
            "_model_name": "HTMLModel",
            "_view_count": null,
            "_view_module": "@jupyter-widgets/controls",
            "_view_module_version": "1.5.0",
            "_view_name": "HTMLView",
            "description": "",
            "description_tooltip": null,
            "layout": "IPY_MODEL_14e83f6ba0ea497da1af69330c7cd759",
            "placeholder": "​",
            "style": "IPY_MODEL_23197a9c3851467ba0d7be9b4c913f5e",
            "value": "Downloading: 100%"
          }
        },
        "ede4b5a4aebf4e31bddc3b12e024a536": {
          "model_module": "@jupyter-widgets/controls",
          "model_name": "FloatProgressModel",
          "model_module_version": "1.5.0",
          "state": {
            "_dom_classes": [],
            "_model_module": "@jupyter-widgets/controls",
            "_model_module_version": "1.5.0",
            "_model_name": "FloatProgressModel",
            "_view_count": null,
            "_view_module": "@jupyter-widgets/controls",
            "_view_module_version": "1.5.0",
            "_view_name": "ProgressView",
            "bar_style": "success",
            "description": "",
            "description_tooltip": null,
            "layout": "IPY_MODEL_f4ab25c106e0446a88bbce468a2f674b",
            "max": 456318,
            "min": 0,
            "orientation": "horizontal",
            "style": "IPY_MODEL_e79cb4b06a6e4f7d851c6eaa7c14a879",
            "value": 456318
          }
        },
        "b4ec4d1674324320a58656f7a7ecba21": {
          "model_module": "@jupyter-widgets/controls",
          "model_name": "HTMLModel",
          "model_module_version": "1.5.0",
          "state": {
            "_dom_classes": [],
            "_model_module": "@jupyter-widgets/controls",
            "_model_module_version": "1.5.0",
            "_model_name": "HTMLModel",
            "_view_count": null,
            "_view_module": "@jupyter-widgets/controls",
            "_view_module_version": "1.5.0",
            "_view_name": "HTMLView",
            "description": "",
            "description_tooltip": null,
            "layout": "IPY_MODEL_19c90ff4ed8649c59e1728e6c042b326",
            "placeholder": "​",
            "style": "IPY_MODEL_2ab81ae5f5f14d5aad3b4796ce47216c",
            "value": " 446k/446k [00:00&lt;00:00, 826kB/s]"
          }
        },
        "5f2190852f1c4cc29b7b520f2cef489c": {
          "model_module": "@jupyter-widgets/base",
          "model_name": "LayoutModel",
          "model_module_version": "1.2.0",
          "state": {
            "_model_module": "@jupyter-widgets/base",
            "_model_module_version": "1.2.0",
            "_model_name": "LayoutModel",
            "_view_count": null,
            "_view_module": "@jupyter-widgets/base",
            "_view_module_version": "1.2.0",
            "_view_name": "LayoutView",
            "align_content": null,
            "align_items": null,
            "align_self": null,
            "border": null,
            "bottom": null,
            "display": null,
            "flex": null,
            "flex_flow": null,
            "grid_area": null,
            "grid_auto_columns": null,
            "grid_auto_flow": null,
            "grid_auto_rows": null,
            "grid_column": null,
            "grid_gap": null,
            "grid_row": null,
            "grid_template_areas": null,
            "grid_template_columns": null,
            "grid_template_rows": null,
            "height": null,
            "justify_content": null,
            "justify_items": null,
            "left": null,
            "margin": null,
            "max_height": null,
            "max_width": null,
            "min_height": null,
            "min_width": null,
            "object_fit": null,
            "object_position": null,
            "order": null,
            "overflow": null,
            "overflow_x": null,
            "overflow_y": null,
            "padding": null,
            "right": null,
            "top": null,
            "visibility": null,
            "width": null
          }
        },
        "14e83f6ba0ea497da1af69330c7cd759": {
          "model_module": "@jupyter-widgets/base",
          "model_name": "LayoutModel",
          "model_module_version": "1.2.0",
          "state": {
            "_model_module": "@jupyter-widgets/base",
            "_model_module_version": "1.2.0",
            "_model_name": "LayoutModel",
            "_view_count": null,
            "_view_module": "@jupyter-widgets/base",
            "_view_module_version": "1.2.0",
            "_view_name": "LayoutView",
            "align_content": null,
            "align_items": null,
            "align_self": null,
            "border": null,
            "bottom": null,
            "display": null,
            "flex": null,
            "flex_flow": null,
            "grid_area": null,
            "grid_auto_columns": null,
            "grid_auto_flow": null,
            "grid_auto_rows": null,
            "grid_column": null,
            "grid_gap": null,
            "grid_row": null,
            "grid_template_areas": null,
            "grid_template_columns": null,
            "grid_template_rows": null,
            "height": null,
            "justify_content": null,
            "justify_items": null,
            "left": null,
            "margin": null,
            "max_height": null,
            "max_width": null,
            "min_height": null,
            "min_width": null,
            "object_fit": null,
            "object_position": null,
            "order": null,
            "overflow": null,
            "overflow_x": null,
            "overflow_y": null,
            "padding": null,
            "right": null,
            "top": null,
            "visibility": null,
            "width": null
          }
        },
        "23197a9c3851467ba0d7be9b4c913f5e": {
          "model_module": "@jupyter-widgets/controls",
          "model_name": "DescriptionStyleModel",
          "model_module_version": "1.5.0",
          "state": {
            "_model_module": "@jupyter-widgets/controls",
            "_model_module_version": "1.5.0",
            "_model_name": "DescriptionStyleModel",
            "_view_count": null,
            "_view_module": "@jupyter-widgets/base",
            "_view_module_version": "1.2.0",
            "_view_name": "StyleView",
            "description_width": ""
          }
        },
        "f4ab25c106e0446a88bbce468a2f674b": {
          "model_module": "@jupyter-widgets/base",
          "model_name": "LayoutModel",
          "model_module_version": "1.2.0",
          "state": {
            "_model_module": "@jupyter-widgets/base",
            "_model_module_version": "1.2.0",
            "_model_name": "LayoutModel",
            "_view_count": null,
            "_view_module": "@jupyter-widgets/base",
            "_view_module_version": "1.2.0",
            "_view_name": "LayoutView",
            "align_content": null,
            "align_items": null,
            "align_self": null,
            "border": null,
            "bottom": null,
            "display": null,
            "flex": null,
            "flex_flow": null,
            "grid_area": null,
            "grid_auto_columns": null,
            "grid_auto_flow": null,
            "grid_auto_rows": null,
            "grid_column": null,
            "grid_gap": null,
            "grid_row": null,
            "grid_template_areas": null,
            "grid_template_columns": null,
            "grid_template_rows": null,
            "height": null,
            "justify_content": null,
            "justify_items": null,
            "left": null,
            "margin": null,
            "max_height": null,
            "max_width": null,
            "min_height": null,
            "min_width": null,
            "object_fit": null,
            "object_position": null,
            "order": null,
            "overflow": null,
            "overflow_x": null,
            "overflow_y": null,
            "padding": null,
            "right": null,
            "top": null,
            "visibility": null,
            "width": null
          }
        },
        "e79cb4b06a6e4f7d851c6eaa7c14a879": {
          "model_module": "@jupyter-widgets/controls",
          "model_name": "ProgressStyleModel",
          "model_module_version": "1.5.0",
          "state": {
            "_model_module": "@jupyter-widgets/controls",
            "_model_module_version": "1.5.0",
            "_model_name": "ProgressStyleModel",
            "_view_count": null,
            "_view_module": "@jupyter-widgets/base",
            "_view_module_version": "1.2.0",
            "_view_name": "StyleView",
            "bar_color": null,
            "description_width": ""
          }
        },
        "19c90ff4ed8649c59e1728e6c042b326": {
          "model_module": "@jupyter-widgets/base",
          "model_name": "LayoutModel",
          "model_module_version": "1.2.0",
          "state": {
            "_model_module": "@jupyter-widgets/base",
            "_model_module_version": "1.2.0",
            "_model_name": "LayoutModel",
            "_view_count": null,
            "_view_module": "@jupyter-widgets/base",
            "_view_module_version": "1.2.0",
            "_view_name": "LayoutView",
            "align_content": null,
            "align_items": null,
            "align_self": null,
            "border": null,
            "bottom": null,
            "display": null,
            "flex": null,
            "flex_flow": null,
            "grid_area": null,
            "grid_auto_columns": null,
            "grid_auto_flow": null,
            "grid_auto_rows": null,
            "grid_column": null,
            "grid_gap": null,
            "grid_row": null,
            "grid_template_areas": null,
            "grid_template_columns": null,
            "grid_template_rows": null,
            "height": null,
            "justify_content": null,
            "justify_items": null,
            "left": null,
            "margin": null,
            "max_height": null,
            "max_width": null,
            "min_height": null,
            "min_width": null,
            "object_fit": null,
            "object_position": null,
            "order": null,
            "overflow": null,
            "overflow_x": null,
            "overflow_y": null,
            "padding": null,
            "right": null,
            "top": null,
            "visibility": null,
            "width": null
          }
        },
        "2ab81ae5f5f14d5aad3b4796ce47216c": {
          "model_module": "@jupyter-widgets/controls",
          "model_name": "DescriptionStyleModel",
          "model_module_version": "1.5.0",
          "state": {
            "_model_module": "@jupyter-widgets/controls",
            "_model_module_version": "1.5.0",
            "_model_name": "DescriptionStyleModel",
            "_view_count": null,
            "_view_module": "@jupyter-widgets/base",
            "_view_module_version": "1.2.0",
            "_view_name": "StyleView",
            "description_width": ""
          }
        },
        "b8375a3087044756b1d6a5a8d5bd2cb6": {
          "model_module": "@jupyter-widgets/controls",
          "model_name": "HBoxModel",
          "model_module_version": "1.5.0",
          "state": {
            "_dom_classes": [],
            "_model_module": "@jupyter-widgets/controls",
            "_model_module_version": "1.5.0",
            "_model_name": "HBoxModel",
            "_view_count": null,
            "_view_module": "@jupyter-widgets/controls",
            "_view_module_version": "1.5.0",
            "_view_name": "HBoxView",
            "box_style": "",
            "children": [
              "IPY_MODEL_844f931bd87e402eac680503da6fa82b",
              "IPY_MODEL_62db0fbe7c9a4c7b9b575ed23da47c8e",
              "IPY_MODEL_b03be500e5b448d885f8ec547fecdbe6"
            ],
            "layout": "IPY_MODEL_3490d299bdfa40d49998b441d890018c"
          }
        },
        "844f931bd87e402eac680503da6fa82b": {
          "model_module": "@jupyter-widgets/controls",
          "model_name": "HTMLModel",
          "model_module_version": "1.5.0",
          "state": {
            "_dom_classes": [],
            "_model_module": "@jupyter-widgets/controls",
            "_model_module_version": "1.5.0",
            "_model_name": "HTMLModel",
            "_view_count": null,
            "_view_module": "@jupyter-widgets/controls",
            "_view_module_version": "1.5.0",
            "_view_name": "HTMLView",
            "description": "",
            "description_tooltip": null,
            "layout": "IPY_MODEL_b8ddc7f265934054b7eb83f6b1c75c86",
            "placeholder": "​",
            "style": "IPY_MODEL_de782a3a4ac845a38c2f0ac642800cf1",
            "value": "Downloading: 100%"
          }
        },
        "62db0fbe7c9a4c7b9b575ed23da47c8e": {
          "model_module": "@jupyter-widgets/controls",
          "model_name": "FloatProgressModel",
          "model_module_version": "1.5.0",
          "state": {
            "_dom_classes": [],
            "_model_module": "@jupyter-widgets/controls",
            "_model_module_version": "1.5.0",
            "_model_name": "FloatProgressModel",
            "_view_count": null,
            "_view_module": "@jupyter-widgets/controls",
            "_view_module_version": "1.5.0",
            "_view_name": "ProgressView",
            "bar_style": "success",
            "description": "",
            "description_tooltip": null,
            "layout": "IPY_MODEL_208aaaee3c5549d0996e8d04e5a71cb3",
            "max": 239,
            "min": 0,
            "orientation": "horizontal",
            "style": "IPY_MODEL_f5c657b151b24faf8bde4614c40932c1",
            "value": 239
          }
        },
        "b03be500e5b448d885f8ec547fecdbe6": {
          "model_module": "@jupyter-widgets/controls",
          "model_name": "HTMLModel",
          "model_module_version": "1.5.0",
          "state": {
            "_dom_classes": [],
            "_model_module": "@jupyter-widgets/controls",
            "_model_module_version": "1.5.0",
            "_model_name": "HTMLModel",
            "_view_count": null,
            "_view_module": "@jupyter-widgets/controls",
            "_view_module_version": "1.5.0",
            "_view_name": "HTMLView",
            "description": "",
            "description_tooltip": null,
            "layout": "IPY_MODEL_31e0113910a9444680ea0c9e5b07f348",
            "placeholder": "​",
            "style": "IPY_MODEL_048341c00be14e88b1ae1e4063f21087",
            "value": " 239/239 [00:00&lt;00:00, 6.30kB/s]"
          }
        },
        "3490d299bdfa40d49998b441d890018c": {
          "model_module": "@jupyter-widgets/base",
          "model_name": "LayoutModel",
          "model_module_version": "1.2.0",
          "state": {
            "_model_module": "@jupyter-widgets/base",
            "_model_module_version": "1.2.0",
            "_model_name": "LayoutModel",
            "_view_count": null,
            "_view_module": "@jupyter-widgets/base",
            "_view_module_version": "1.2.0",
            "_view_name": "LayoutView",
            "align_content": null,
            "align_items": null,
            "align_self": null,
            "border": null,
            "bottom": null,
            "display": null,
            "flex": null,
            "flex_flow": null,
            "grid_area": null,
            "grid_auto_columns": null,
            "grid_auto_flow": null,
            "grid_auto_rows": null,
            "grid_column": null,
            "grid_gap": null,
            "grid_row": null,
            "grid_template_areas": null,
            "grid_template_columns": null,
            "grid_template_rows": null,
            "height": null,
            "justify_content": null,
            "justify_items": null,
            "left": null,
            "margin": null,
            "max_height": null,
            "max_width": null,
            "min_height": null,
            "min_width": null,
            "object_fit": null,
            "object_position": null,
            "order": null,
            "overflow": null,
            "overflow_x": null,
            "overflow_y": null,
            "padding": null,
            "right": null,
            "top": null,
            "visibility": null,
            "width": null
          }
        },
        "b8ddc7f265934054b7eb83f6b1c75c86": {
          "model_module": "@jupyter-widgets/base",
          "model_name": "LayoutModel",
          "model_module_version": "1.2.0",
          "state": {
            "_model_module": "@jupyter-widgets/base",
            "_model_module_version": "1.2.0",
            "_model_name": "LayoutModel",
            "_view_count": null,
            "_view_module": "@jupyter-widgets/base",
            "_view_module_version": "1.2.0",
            "_view_name": "LayoutView",
            "align_content": null,
            "align_items": null,
            "align_self": null,
            "border": null,
            "bottom": null,
            "display": null,
            "flex": null,
            "flex_flow": null,
            "grid_area": null,
            "grid_auto_columns": null,
            "grid_auto_flow": null,
            "grid_auto_rows": null,
            "grid_column": null,
            "grid_gap": null,
            "grid_row": null,
            "grid_template_areas": null,
            "grid_template_columns": null,
            "grid_template_rows": null,
            "height": null,
            "justify_content": null,
            "justify_items": null,
            "left": null,
            "margin": null,
            "max_height": null,
            "max_width": null,
            "min_height": null,
            "min_width": null,
            "object_fit": null,
            "object_position": null,
            "order": null,
            "overflow": null,
            "overflow_x": null,
            "overflow_y": null,
            "padding": null,
            "right": null,
            "top": null,
            "visibility": null,
            "width": null
          }
        },
        "de782a3a4ac845a38c2f0ac642800cf1": {
          "model_module": "@jupyter-widgets/controls",
          "model_name": "DescriptionStyleModel",
          "model_module_version": "1.5.0",
          "state": {
            "_model_module": "@jupyter-widgets/controls",
            "_model_module_version": "1.5.0",
            "_model_name": "DescriptionStyleModel",
            "_view_count": null,
            "_view_module": "@jupyter-widgets/base",
            "_view_module_version": "1.2.0",
            "_view_name": "StyleView",
            "description_width": ""
          }
        },
        "208aaaee3c5549d0996e8d04e5a71cb3": {
          "model_module": "@jupyter-widgets/base",
          "model_name": "LayoutModel",
          "model_module_version": "1.2.0",
          "state": {
            "_model_module": "@jupyter-widgets/base",
            "_model_module_version": "1.2.0",
            "_model_name": "LayoutModel",
            "_view_count": null,
            "_view_module": "@jupyter-widgets/base",
            "_view_module_version": "1.2.0",
            "_view_name": "LayoutView",
            "align_content": null,
            "align_items": null,
            "align_self": null,
            "border": null,
            "bottom": null,
            "display": null,
            "flex": null,
            "flex_flow": null,
            "grid_area": null,
            "grid_auto_columns": null,
            "grid_auto_flow": null,
            "grid_auto_rows": null,
            "grid_column": null,
            "grid_gap": null,
            "grid_row": null,
            "grid_template_areas": null,
            "grid_template_columns": null,
            "grid_template_rows": null,
            "height": null,
            "justify_content": null,
            "justify_items": null,
            "left": null,
            "margin": null,
            "max_height": null,
            "max_width": null,
            "min_height": null,
            "min_width": null,
            "object_fit": null,
            "object_position": null,
            "order": null,
            "overflow": null,
            "overflow_x": null,
            "overflow_y": null,
            "padding": null,
            "right": null,
            "top": null,
            "visibility": null,
            "width": null
          }
        },
        "f5c657b151b24faf8bde4614c40932c1": {
          "model_module": "@jupyter-widgets/controls",
          "model_name": "ProgressStyleModel",
          "model_module_version": "1.5.0",
          "state": {
            "_model_module": "@jupyter-widgets/controls",
            "_model_module_version": "1.5.0",
            "_model_name": "ProgressStyleModel",
            "_view_count": null,
            "_view_module": "@jupyter-widgets/base",
            "_view_module_version": "1.2.0",
            "_view_name": "StyleView",
            "bar_color": null,
            "description_width": ""
          }
        },
        "31e0113910a9444680ea0c9e5b07f348": {
          "model_module": "@jupyter-widgets/base",
          "model_name": "LayoutModel",
          "model_module_version": "1.2.0",
          "state": {
            "_model_module": "@jupyter-widgets/base",
            "_model_module_version": "1.2.0",
            "_model_name": "LayoutModel",
            "_view_count": null,
            "_view_module": "@jupyter-widgets/base",
            "_view_module_version": "1.2.0",
            "_view_name": "LayoutView",
            "align_content": null,
            "align_items": null,
            "align_self": null,
            "border": null,
            "bottom": null,
            "display": null,
            "flex": null,
            "flex_flow": null,
            "grid_area": null,
            "grid_auto_columns": null,
            "grid_auto_flow": null,
            "grid_auto_rows": null,
            "grid_column": null,
            "grid_gap": null,
            "grid_row": null,
            "grid_template_areas": null,
            "grid_template_columns": null,
            "grid_template_rows": null,
            "height": null,
            "justify_content": null,
            "justify_items": null,
            "left": null,
            "margin": null,
            "max_height": null,
            "max_width": null,
            "min_height": null,
            "min_width": null,
            "object_fit": null,
            "object_position": null,
            "order": null,
            "overflow": null,
            "overflow_x": null,
            "overflow_y": null,
            "padding": null,
            "right": null,
            "top": null,
            "visibility": null,
            "width": null
          }
        },
        "048341c00be14e88b1ae1e4063f21087": {
          "model_module": "@jupyter-widgets/controls",
          "model_name": "DescriptionStyleModel",
          "model_module_version": "1.5.0",
          "state": {
            "_model_module": "@jupyter-widgets/controls",
            "_model_module_version": "1.5.0",
            "_model_name": "DescriptionStyleModel",
            "_view_count": null,
            "_view_module": "@jupyter-widgets/base",
            "_view_module_version": "1.2.0",
            "_view_name": "StyleView",
            "description_width": ""
          }
        },
        "aa19cedb7df040b7b2a6369ffea1f4ff": {
          "model_module": "@jupyter-widgets/controls",
          "model_name": "HBoxModel",
          "model_module_version": "1.5.0",
          "state": {
            "_dom_classes": [],
            "_model_module": "@jupyter-widgets/controls",
            "_model_module_version": "1.5.0",
            "_model_name": "HBoxModel",
            "_view_count": null,
            "_view_module": "@jupyter-widgets/controls",
            "_view_module_version": "1.5.0",
            "_view_name": "HBoxView",
            "box_style": "",
            "children": [
              "IPY_MODEL_aaabbb2881b649009ac5ab8214f5aeaa",
              "IPY_MODEL_6959b27d43b2450ab7c8ba42045e4e3e",
              "IPY_MODEL_af53d8b75aff4f37b299af45396cfbcf"
            ],
            "layout": "IPY_MODEL_60c6661efc174cf389bc2c27fe906c3f"
          }
        },
        "aaabbb2881b649009ac5ab8214f5aeaa": {
          "model_module": "@jupyter-widgets/controls",
          "model_name": "HTMLModel",
          "model_module_version": "1.5.0",
          "state": {
            "_dom_classes": [],
            "_model_module": "@jupyter-widgets/controls",
            "_model_module_version": "1.5.0",
            "_model_name": "HTMLModel",
            "_view_count": null,
            "_view_module": "@jupyter-widgets/controls",
            "_view_module_version": "1.5.0",
            "_view_name": "HTMLView",
            "description": "",
            "description_tooltip": null,
            "layout": "IPY_MODEL_fded6d2f9b934f45ad211d36ddfd393b",
            "placeholder": "​",
            "style": "IPY_MODEL_ad85a58427fb4d3dbad9a357ae21db9d",
            "value": "Downloading: 100%"
          }
        },
        "6959b27d43b2450ab7c8ba42045e4e3e": {
          "model_module": "@jupyter-widgets/controls",
          "model_name": "FloatProgressModel",
          "model_module_version": "1.5.0",
          "state": {
            "_dom_classes": [],
            "_model_module": "@jupyter-widgets/controls",
            "_model_module_version": "1.5.0",
            "_model_name": "FloatProgressModel",
            "_view_count": null,
            "_view_module": "@jupyter-widgets/controls",
            "_view_module_version": "1.5.0",
            "_view_name": "ProgressView",
            "bar_style": "success",
            "description": "",
            "description_tooltip": null,
            "layout": "IPY_MODEL_e3c4e5895222482c9d7423f18a03ba54",
            "max": 768,
            "min": 0,
            "orientation": "horizontal",
            "style": "IPY_MODEL_d0537559787d47c097731969834583ea",
            "value": 768
          }
        },
        "af53d8b75aff4f37b299af45396cfbcf": {
          "model_module": "@jupyter-widgets/controls",
          "model_name": "HTMLModel",
          "model_module_version": "1.5.0",
          "state": {
            "_dom_classes": [],
            "_model_module": "@jupyter-widgets/controls",
            "_model_module_version": "1.5.0",
            "_model_name": "HTMLModel",
            "_view_count": null,
            "_view_module": "@jupyter-widgets/controls",
            "_view_module_version": "1.5.0",
            "_view_name": "HTMLView",
            "description": "",
            "description_tooltip": null,
            "layout": "IPY_MODEL_bbf28e945eb64ca89b9ed27c55f028d9",
            "placeholder": "​",
            "style": "IPY_MODEL_d091d46fe97947dbb6fad3dfb6af23c9",
            "value": " 768/768 [00:00&lt;00:00, 5.35kB/s]"
          }
        },
        "60c6661efc174cf389bc2c27fe906c3f": {
          "model_module": "@jupyter-widgets/base",
          "model_name": "LayoutModel",
          "model_module_version": "1.2.0",
          "state": {
            "_model_module": "@jupyter-widgets/base",
            "_model_module_version": "1.2.0",
            "_model_name": "LayoutModel",
            "_view_count": null,
            "_view_module": "@jupyter-widgets/base",
            "_view_module_version": "1.2.0",
            "_view_name": "LayoutView",
            "align_content": null,
            "align_items": null,
            "align_self": null,
            "border": null,
            "bottom": null,
            "display": null,
            "flex": null,
            "flex_flow": null,
            "grid_area": null,
            "grid_auto_columns": null,
            "grid_auto_flow": null,
            "grid_auto_rows": null,
            "grid_column": null,
            "grid_gap": null,
            "grid_row": null,
            "grid_template_areas": null,
            "grid_template_columns": null,
            "grid_template_rows": null,
            "height": null,
            "justify_content": null,
            "justify_items": null,
            "left": null,
            "margin": null,
            "max_height": null,
            "max_width": null,
            "min_height": null,
            "min_width": null,
            "object_fit": null,
            "object_position": null,
            "order": null,
            "overflow": null,
            "overflow_x": null,
            "overflow_y": null,
            "padding": null,
            "right": null,
            "top": null,
            "visibility": null,
            "width": null
          }
        },
        "fded6d2f9b934f45ad211d36ddfd393b": {
          "model_module": "@jupyter-widgets/base",
          "model_name": "LayoutModel",
          "model_module_version": "1.2.0",
          "state": {
            "_model_module": "@jupyter-widgets/base",
            "_model_module_version": "1.2.0",
            "_model_name": "LayoutModel",
            "_view_count": null,
            "_view_module": "@jupyter-widgets/base",
            "_view_module_version": "1.2.0",
            "_view_name": "LayoutView",
            "align_content": null,
            "align_items": null,
            "align_self": null,
            "border": null,
            "bottom": null,
            "display": null,
            "flex": null,
            "flex_flow": null,
            "grid_area": null,
            "grid_auto_columns": null,
            "grid_auto_flow": null,
            "grid_auto_rows": null,
            "grid_column": null,
            "grid_gap": null,
            "grid_row": null,
            "grid_template_areas": null,
            "grid_template_columns": null,
            "grid_template_rows": null,
            "height": null,
            "justify_content": null,
            "justify_items": null,
            "left": null,
            "margin": null,
            "max_height": null,
            "max_width": null,
            "min_height": null,
            "min_width": null,
            "object_fit": null,
            "object_position": null,
            "order": null,
            "overflow": null,
            "overflow_x": null,
            "overflow_y": null,
            "padding": null,
            "right": null,
            "top": null,
            "visibility": null,
            "width": null
          }
        },
        "ad85a58427fb4d3dbad9a357ae21db9d": {
          "model_module": "@jupyter-widgets/controls",
          "model_name": "DescriptionStyleModel",
          "model_module_version": "1.5.0",
          "state": {
            "_model_module": "@jupyter-widgets/controls",
            "_model_module_version": "1.5.0",
            "_model_name": "DescriptionStyleModel",
            "_view_count": null,
            "_view_module": "@jupyter-widgets/base",
            "_view_module_version": "1.2.0",
            "_view_name": "StyleView",
            "description_width": ""
          }
        },
        "e3c4e5895222482c9d7423f18a03ba54": {
          "model_module": "@jupyter-widgets/base",
          "model_name": "LayoutModel",
          "model_module_version": "1.2.0",
          "state": {
            "_model_module": "@jupyter-widgets/base",
            "_model_module_version": "1.2.0",
            "_model_name": "LayoutModel",
            "_view_count": null,
            "_view_module": "@jupyter-widgets/base",
            "_view_module_version": "1.2.0",
            "_view_name": "LayoutView",
            "align_content": null,
            "align_items": null,
            "align_self": null,
            "border": null,
            "bottom": null,
            "display": null,
            "flex": null,
            "flex_flow": null,
            "grid_area": null,
            "grid_auto_columns": null,
            "grid_auto_flow": null,
            "grid_auto_rows": null,
            "grid_column": null,
            "grid_gap": null,
            "grid_row": null,
            "grid_template_areas": null,
            "grid_template_columns": null,
            "grid_template_rows": null,
            "height": null,
            "justify_content": null,
            "justify_items": null,
            "left": null,
            "margin": null,
            "max_height": null,
            "max_width": null,
            "min_height": null,
            "min_width": null,
            "object_fit": null,
            "object_position": null,
            "order": null,
            "overflow": null,
            "overflow_x": null,
            "overflow_y": null,
            "padding": null,
            "right": null,
            "top": null,
            "visibility": null,
            "width": null
          }
        },
        "d0537559787d47c097731969834583ea": {
          "model_module": "@jupyter-widgets/controls",
          "model_name": "ProgressStyleModel",
          "model_module_version": "1.5.0",
          "state": {
            "_model_module": "@jupyter-widgets/controls",
            "_model_module_version": "1.5.0",
            "_model_name": "ProgressStyleModel",
            "_view_count": null,
            "_view_module": "@jupyter-widgets/base",
            "_view_module_version": "1.2.0",
            "_view_name": "StyleView",
            "bar_color": null,
            "description_width": ""
          }
        },
        "bbf28e945eb64ca89b9ed27c55f028d9": {
          "model_module": "@jupyter-widgets/base",
          "model_name": "LayoutModel",
          "model_module_version": "1.2.0",
          "state": {
            "_model_module": "@jupyter-widgets/base",
            "_model_module_version": "1.2.0",
            "_model_name": "LayoutModel",
            "_view_count": null,
            "_view_module": "@jupyter-widgets/base",
            "_view_module_version": "1.2.0",
            "_view_name": "LayoutView",
            "align_content": null,
            "align_items": null,
            "align_self": null,
            "border": null,
            "bottom": null,
            "display": null,
            "flex": null,
            "flex_flow": null,
            "grid_area": null,
            "grid_auto_columns": null,
            "grid_auto_flow": null,
            "grid_auto_rows": null,
            "grid_column": null,
            "grid_gap": null,
            "grid_row": null,
            "grid_template_areas": null,
            "grid_template_columns": null,
            "grid_template_rows": null,
            "height": null,
            "justify_content": null,
            "justify_items": null,
            "left": null,
            "margin": null,
            "max_height": null,
            "max_width": null,
            "min_height": null,
            "min_width": null,
            "object_fit": null,
            "object_position": null,
            "order": null,
            "overflow": null,
            "overflow_x": null,
            "overflow_y": null,
            "padding": null,
            "right": null,
            "top": null,
            "visibility": null,
            "width": null
          }
        },
        "d091d46fe97947dbb6fad3dfb6af23c9": {
          "model_module": "@jupyter-widgets/controls",
          "model_name": "DescriptionStyleModel",
          "model_module_version": "1.5.0",
          "state": {
            "_model_module": "@jupyter-widgets/controls",
            "_model_module_version": "1.5.0",
            "_model_name": "DescriptionStyleModel",
            "_view_count": null,
            "_view_module": "@jupyter-widgets/base",
            "_view_module_version": "1.2.0",
            "_view_name": "StyleView",
            "description_width": ""
          }
        },
        "9b2e44bb8531492bb06b150f9303f45a": {
          "model_module": "@jupyter-widgets/controls",
          "model_name": "HBoxModel",
          "model_module_version": "1.5.0",
          "state": {
            "_dom_classes": [],
            "_model_module": "@jupyter-widgets/controls",
            "_model_module_version": "1.5.0",
            "_model_name": "HBoxModel",
            "_view_count": null,
            "_view_module": "@jupyter-widgets/controls",
            "_view_module_version": "1.5.0",
            "_view_name": "HBoxView",
            "box_style": "",
            "children": [
              "IPY_MODEL_4a307c0cb1d74f96845f88c11f6cbc9f",
              "IPY_MODEL_4a02f26b830c4604bd4051078652b010",
              "IPY_MODEL_8812595d372a41599dc44fdc0cf32e3e"
            ],
            "layout": "IPY_MODEL_241719303b7c4c3e8d939fa27ee84fd5"
          }
        },
        "4a307c0cb1d74f96845f88c11f6cbc9f": {
          "model_module": "@jupyter-widgets/controls",
          "model_name": "HTMLModel",
          "model_module_version": "1.5.0",
          "state": {
            "_dom_classes": [],
            "_model_module": "@jupyter-widgets/controls",
            "_model_module_version": "1.5.0",
            "_model_name": "HTMLModel",
            "_view_count": null,
            "_view_module": "@jupyter-widgets/controls",
            "_view_module_version": "1.5.0",
            "_view_name": "HTMLView",
            "description": "",
            "description_tooltip": null,
            "layout": "IPY_MODEL_e34a0b2661874f809782001e846c60e0",
            "placeholder": "​",
            "style": "IPY_MODEL_44c1fc73bc2f478dbd4e51a19aded1d1",
            "value": "Downloading: 100%"
          }
        },
        "4a02f26b830c4604bd4051078652b010": {
          "model_module": "@jupyter-widgets/controls",
          "model_name": "FloatProgressModel",
          "model_module_version": "1.5.0",
          "state": {
            "_dom_classes": [],
            "_model_module": "@jupyter-widgets/controls",
            "_model_module_version": "1.5.0",
            "_model_name": "FloatProgressModel",
            "_view_count": null,
            "_view_module": "@jupyter-widgets/controls",
            "_view_module_version": "1.5.0",
            "_view_name": "ProgressView",
            "bar_style": "success",
            "description": "",
            "description_tooltip": null,
            "layout": "IPY_MODEL_b1a2a870d0244f4c98fda29c703eeb59",
            "max": 267875479,
            "min": 0,
            "orientation": "horizontal",
            "style": "IPY_MODEL_eca23d6bb37e46759e4a35eda8640d24",
            "value": 267875479
          }
        },
        "8812595d372a41599dc44fdc0cf32e3e": {
          "model_module": "@jupyter-widgets/controls",
          "model_name": "HTMLModel",
          "model_module_version": "1.5.0",
          "state": {
            "_dom_classes": [],
            "_model_module": "@jupyter-widgets/controls",
            "_model_module_version": "1.5.0",
            "_model_name": "HTMLModel",
            "_view_count": null,
            "_view_module": "@jupyter-widgets/controls",
            "_view_module_version": "1.5.0",
            "_view_name": "HTMLView",
            "description": "",
            "description_tooltip": null,
            "layout": "IPY_MODEL_21affadc3d5246a1b0a597644947392c",
            "placeholder": "​",
            "style": "IPY_MODEL_2f6baf24a02c4ca1968ab639f3681d38",
            "value": " 255M/255M [00:15&lt;00:00, 14.6MB/s]"
          }
        },
        "241719303b7c4c3e8d939fa27ee84fd5": {
          "model_module": "@jupyter-widgets/base",
          "model_name": "LayoutModel",
          "model_module_version": "1.2.0",
          "state": {
            "_model_module": "@jupyter-widgets/base",
            "_model_module_version": "1.2.0",
            "_model_name": "LayoutModel",
            "_view_count": null,
            "_view_module": "@jupyter-widgets/base",
            "_view_module_version": "1.2.0",
            "_view_name": "LayoutView",
            "align_content": null,
            "align_items": null,
            "align_self": null,
            "border": null,
            "bottom": null,
            "display": null,
            "flex": null,
            "flex_flow": null,
            "grid_area": null,
            "grid_auto_columns": null,
            "grid_auto_flow": null,
            "grid_auto_rows": null,
            "grid_column": null,
            "grid_gap": null,
            "grid_row": null,
            "grid_template_areas": null,
            "grid_template_columns": null,
            "grid_template_rows": null,
            "height": null,
            "justify_content": null,
            "justify_items": null,
            "left": null,
            "margin": null,
            "max_height": null,
            "max_width": null,
            "min_height": null,
            "min_width": null,
            "object_fit": null,
            "object_position": null,
            "order": null,
            "overflow": null,
            "overflow_x": null,
            "overflow_y": null,
            "padding": null,
            "right": null,
            "top": null,
            "visibility": null,
            "width": null
          }
        },
        "e34a0b2661874f809782001e846c60e0": {
          "model_module": "@jupyter-widgets/base",
          "model_name": "LayoutModel",
          "model_module_version": "1.2.0",
          "state": {
            "_model_module": "@jupyter-widgets/base",
            "_model_module_version": "1.2.0",
            "_model_name": "LayoutModel",
            "_view_count": null,
            "_view_module": "@jupyter-widgets/base",
            "_view_module_version": "1.2.0",
            "_view_name": "LayoutView",
            "align_content": null,
            "align_items": null,
            "align_self": null,
            "border": null,
            "bottom": null,
            "display": null,
            "flex": null,
            "flex_flow": null,
            "grid_area": null,
            "grid_auto_columns": null,
            "grid_auto_flow": null,
            "grid_auto_rows": null,
            "grid_column": null,
            "grid_gap": null,
            "grid_row": null,
            "grid_template_areas": null,
            "grid_template_columns": null,
            "grid_template_rows": null,
            "height": null,
            "justify_content": null,
            "justify_items": null,
            "left": null,
            "margin": null,
            "max_height": null,
            "max_width": null,
            "min_height": null,
            "min_width": null,
            "object_fit": null,
            "object_position": null,
            "order": null,
            "overflow": null,
            "overflow_x": null,
            "overflow_y": null,
            "padding": null,
            "right": null,
            "top": null,
            "visibility": null,
            "width": null
          }
        },
        "44c1fc73bc2f478dbd4e51a19aded1d1": {
          "model_module": "@jupyter-widgets/controls",
          "model_name": "DescriptionStyleModel",
          "model_module_version": "1.5.0",
          "state": {
            "_model_module": "@jupyter-widgets/controls",
            "_model_module_version": "1.5.0",
            "_model_name": "DescriptionStyleModel",
            "_view_count": null,
            "_view_module": "@jupyter-widgets/base",
            "_view_module_version": "1.2.0",
            "_view_name": "StyleView",
            "description_width": ""
          }
        },
        "b1a2a870d0244f4c98fda29c703eeb59": {
          "model_module": "@jupyter-widgets/base",
          "model_name": "LayoutModel",
          "model_module_version": "1.2.0",
          "state": {
            "_model_module": "@jupyter-widgets/base",
            "_model_module_version": "1.2.0",
            "_model_name": "LayoutModel",
            "_view_count": null,
            "_view_module": "@jupyter-widgets/base",
            "_view_module_version": "1.2.0",
            "_view_name": "LayoutView",
            "align_content": null,
            "align_items": null,
            "align_self": null,
            "border": null,
            "bottom": null,
            "display": null,
            "flex": null,
            "flex_flow": null,
            "grid_area": null,
            "grid_auto_columns": null,
            "grid_auto_flow": null,
            "grid_auto_rows": null,
            "grid_column": null,
            "grid_gap": null,
            "grid_row": null,
            "grid_template_areas": null,
            "grid_template_columns": null,
            "grid_template_rows": null,
            "height": null,
            "justify_content": null,
            "justify_items": null,
            "left": null,
            "margin": null,
            "max_height": null,
            "max_width": null,
            "min_height": null,
            "min_width": null,
            "object_fit": null,
            "object_position": null,
            "order": null,
            "overflow": null,
            "overflow_x": null,
            "overflow_y": null,
            "padding": null,
            "right": null,
            "top": null,
            "visibility": null,
            "width": null
          }
        },
        "eca23d6bb37e46759e4a35eda8640d24": {
          "model_module": "@jupyter-widgets/controls",
          "model_name": "ProgressStyleModel",
          "model_module_version": "1.5.0",
          "state": {
            "_model_module": "@jupyter-widgets/controls",
            "_model_module_version": "1.5.0",
            "_model_name": "ProgressStyleModel",
            "_view_count": null,
            "_view_module": "@jupyter-widgets/base",
            "_view_module_version": "1.2.0",
            "_view_name": "StyleView",
            "bar_color": null,
            "description_width": ""
          }
        },
        "21affadc3d5246a1b0a597644947392c": {
          "model_module": "@jupyter-widgets/base",
          "model_name": "LayoutModel",
          "model_module_version": "1.2.0",
          "state": {
            "_model_module": "@jupyter-widgets/base",
            "_model_module_version": "1.2.0",
            "_model_name": "LayoutModel",
            "_view_count": null,
            "_view_module": "@jupyter-widgets/base",
            "_view_module_version": "1.2.0",
            "_view_name": "LayoutView",
            "align_content": null,
            "align_items": null,
            "align_self": null,
            "border": null,
            "bottom": null,
            "display": null,
            "flex": null,
            "flex_flow": null,
            "grid_area": null,
            "grid_auto_columns": null,
            "grid_auto_flow": null,
            "grid_auto_rows": null,
            "grid_column": null,
            "grid_gap": null,
            "grid_row": null,
            "grid_template_areas": null,
            "grid_template_columns": null,
            "grid_template_rows": null,
            "height": null,
            "justify_content": null,
            "justify_items": null,
            "left": null,
            "margin": null,
            "max_height": null,
            "max_width": null,
            "min_height": null,
            "min_width": null,
            "object_fit": null,
            "object_position": null,
            "order": null,
            "overflow": null,
            "overflow_x": null,
            "overflow_y": null,
            "padding": null,
            "right": null,
            "top": null,
            "visibility": null,
            "width": null
          }
        },
        "2f6baf24a02c4ca1968ab639f3681d38": {
          "model_module": "@jupyter-widgets/controls",
          "model_name": "DescriptionStyleModel",
          "model_module_version": "1.5.0",
          "state": {
            "_model_module": "@jupyter-widgets/controls",
            "_model_module_version": "1.5.0",
            "_model_name": "DescriptionStyleModel",
            "_view_count": null,
            "_view_module": "@jupyter-widgets/base",
            "_view_module_version": "1.2.0",
            "_view_name": "StyleView",
            "description_width": ""
          }
        },
        "04735f291fe84f6bae4f0d0849bb75e4": {
          "model_module": "@jupyter-widgets/controls",
          "model_name": "HBoxModel",
          "model_module_version": "1.5.0",
          "state": {
            "_dom_classes": [],
            "_model_module": "@jupyter-widgets/controls",
            "_model_module_version": "1.5.0",
            "_model_name": "HBoxModel",
            "_view_count": null,
            "_view_module": "@jupyter-widgets/controls",
            "_view_module_version": "1.5.0",
            "_view_name": "HBoxView",
            "box_style": "",
            "children": [
              "IPY_MODEL_1a0a1d3c9a674c419bcc6129cd084853",
              "IPY_MODEL_426174fb48674f9cbaaa8e35c4696250",
              "IPY_MODEL_f343fab9d63e4a209b50eea5b35e009c"
            ],
            "layout": "IPY_MODEL_e4190d2eb0fc4efa976c43d7bce00198"
          }
        },
        "1a0a1d3c9a674c419bcc6129cd084853": {
          "model_module": "@jupyter-widgets/controls",
          "model_name": "HTMLModel",
          "model_module_version": "1.5.0",
          "state": {
            "_dom_classes": [],
            "_model_module": "@jupyter-widgets/controls",
            "_model_module_version": "1.5.0",
            "_model_name": "HTMLModel",
            "_view_count": null,
            "_view_module": "@jupyter-widgets/controls",
            "_view_module_version": "1.5.0",
            "_view_name": "HTMLView",
            "description": "",
            "description_tooltip": null,
            "layout": "IPY_MODEL_2b9034f1c2d340008b8b55f0c5e50f02",
            "placeholder": "​",
            "style": "IPY_MODEL_6fe0b52b4c3b4f52850f9753960b9360",
            "value": "Downloading: 100%"
          }
        },
        "426174fb48674f9cbaaa8e35c4696250": {
          "model_module": "@jupyter-widgets/controls",
          "model_name": "FloatProgressModel",
          "model_module_version": "1.5.0",
          "state": {
            "_dom_classes": [],
            "_model_module": "@jupyter-widgets/controls",
            "_model_module_version": "1.5.0",
            "_model_name": "FloatProgressModel",
            "_view_count": null,
            "_view_module": "@jupyter-widgets/controls",
            "_view_module_version": "1.5.0",
            "_view_name": "ProgressView",
            "bar_style": "success",
            "description": "",
            "description_tooltip": null,
            "layout": "IPY_MODEL_43f19e55e0554d98802c2f6f6a210bcb",
            "max": 291,
            "min": 0,
            "orientation": "horizontal",
            "style": "IPY_MODEL_ac3174f950e7455f894d757219c61e94",
            "value": 291
          }
        },
        "f343fab9d63e4a209b50eea5b35e009c": {
          "model_module": "@jupyter-widgets/controls",
          "model_name": "HTMLModel",
          "model_module_version": "1.5.0",
          "state": {
            "_dom_classes": [],
            "_model_module": "@jupyter-widgets/controls",
            "_model_module_version": "1.5.0",
            "_model_name": "HTMLModel",
            "_view_count": null,
            "_view_module": "@jupyter-widgets/controls",
            "_view_module_version": "1.5.0",
            "_view_name": "HTMLView",
            "description": "",
            "description_tooltip": null,
            "layout": "IPY_MODEL_c0ac6ed385874200897e5df2d2e96899",
            "placeholder": "​",
            "style": "IPY_MODEL_254f1104826a4196af0b5f3c36553405",
            "value": " 291/291 [00:00&lt;00:00, 6.37kB/s]"
          }
        },
        "e4190d2eb0fc4efa976c43d7bce00198": {
          "model_module": "@jupyter-widgets/base",
          "model_name": "LayoutModel",
          "model_module_version": "1.2.0",
          "state": {
            "_model_module": "@jupyter-widgets/base",
            "_model_module_version": "1.2.0",
            "_model_name": "LayoutModel",
            "_view_count": null,
            "_view_module": "@jupyter-widgets/base",
            "_view_module_version": "1.2.0",
            "_view_name": "LayoutView",
            "align_content": null,
            "align_items": null,
            "align_self": null,
            "border": null,
            "bottom": null,
            "display": null,
            "flex": null,
            "flex_flow": null,
            "grid_area": null,
            "grid_auto_columns": null,
            "grid_auto_flow": null,
            "grid_auto_rows": null,
            "grid_column": null,
            "grid_gap": null,
            "grid_row": null,
            "grid_template_areas": null,
            "grid_template_columns": null,
            "grid_template_rows": null,
            "height": null,
            "justify_content": null,
            "justify_items": null,
            "left": null,
            "margin": null,
            "max_height": null,
            "max_width": null,
            "min_height": null,
            "min_width": null,
            "object_fit": null,
            "object_position": null,
            "order": null,
            "overflow": null,
            "overflow_x": null,
            "overflow_y": null,
            "padding": null,
            "right": null,
            "top": null,
            "visibility": null,
            "width": null
          }
        },
        "2b9034f1c2d340008b8b55f0c5e50f02": {
          "model_module": "@jupyter-widgets/base",
          "model_name": "LayoutModel",
          "model_module_version": "1.2.0",
          "state": {
            "_model_module": "@jupyter-widgets/base",
            "_model_module_version": "1.2.0",
            "_model_name": "LayoutModel",
            "_view_count": null,
            "_view_module": "@jupyter-widgets/base",
            "_view_module_version": "1.2.0",
            "_view_name": "LayoutView",
            "align_content": null,
            "align_items": null,
            "align_self": null,
            "border": null,
            "bottom": null,
            "display": null,
            "flex": null,
            "flex_flow": null,
            "grid_area": null,
            "grid_auto_columns": null,
            "grid_auto_flow": null,
            "grid_auto_rows": null,
            "grid_column": null,
            "grid_gap": null,
            "grid_row": null,
            "grid_template_areas": null,
            "grid_template_columns": null,
            "grid_template_rows": null,
            "height": null,
            "justify_content": null,
            "justify_items": null,
            "left": null,
            "margin": null,
            "max_height": null,
            "max_width": null,
            "min_height": null,
            "min_width": null,
            "object_fit": null,
            "object_position": null,
            "order": null,
            "overflow": null,
            "overflow_x": null,
            "overflow_y": null,
            "padding": null,
            "right": null,
            "top": null,
            "visibility": null,
            "width": null
          }
        },
        "6fe0b52b4c3b4f52850f9753960b9360": {
          "model_module": "@jupyter-widgets/controls",
          "model_name": "DescriptionStyleModel",
          "model_module_version": "1.5.0",
          "state": {
            "_model_module": "@jupyter-widgets/controls",
            "_model_module_version": "1.5.0",
            "_model_name": "DescriptionStyleModel",
            "_view_count": null,
            "_view_module": "@jupyter-widgets/base",
            "_view_module_version": "1.2.0",
            "_view_name": "StyleView",
            "description_width": ""
          }
        },
        "43f19e55e0554d98802c2f6f6a210bcb": {
          "model_module": "@jupyter-widgets/base",
          "model_name": "LayoutModel",
          "model_module_version": "1.2.0",
          "state": {
            "_model_module": "@jupyter-widgets/base",
            "_model_module_version": "1.2.0",
            "_model_name": "LayoutModel",
            "_view_count": null,
            "_view_module": "@jupyter-widgets/base",
            "_view_module_version": "1.2.0",
            "_view_name": "LayoutView",
            "align_content": null,
            "align_items": null,
            "align_self": null,
            "border": null,
            "bottom": null,
            "display": null,
            "flex": null,
            "flex_flow": null,
            "grid_area": null,
            "grid_auto_columns": null,
            "grid_auto_flow": null,
            "grid_auto_rows": null,
            "grid_column": null,
            "grid_gap": null,
            "grid_row": null,
            "grid_template_areas": null,
            "grid_template_columns": null,
            "grid_template_rows": null,
            "height": null,
            "justify_content": null,
            "justify_items": null,
            "left": null,
            "margin": null,
            "max_height": null,
            "max_width": null,
            "min_height": null,
            "min_width": null,
            "object_fit": null,
            "object_position": null,
            "order": null,
            "overflow": null,
            "overflow_x": null,
            "overflow_y": null,
            "padding": null,
            "right": null,
            "top": null,
            "visibility": null,
            "width": null
          }
        },
        "ac3174f950e7455f894d757219c61e94": {
          "model_module": "@jupyter-widgets/controls",
          "model_name": "ProgressStyleModel",
          "model_module_version": "1.5.0",
          "state": {
            "_model_module": "@jupyter-widgets/controls",
            "_model_module_version": "1.5.0",
            "_model_name": "ProgressStyleModel",
            "_view_count": null,
            "_view_module": "@jupyter-widgets/base",
            "_view_module_version": "1.2.0",
            "_view_name": "StyleView",
            "bar_color": null,
            "description_width": ""
          }
        },
        "c0ac6ed385874200897e5df2d2e96899": {
          "model_module": "@jupyter-widgets/base",
          "model_name": "LayoutModel",
          "model_module_version": "1.2.0",
          "state": {
            "_model_module": "@jupyter-widgets/base",
            "_model_module_version": "1.2.0",
            "_model_name": "LayoutModel",
            "_view_count": null,
            "_view_module": "@jupyter-widgets/base",
            "_view_module_version": "1.2.0",
            "_view_name": "LayoutView",
            "align_content": null,
            "align_items": null,
            "align_self": null,
            "border": null,
            "bottom": null,
            "display": null,
            "flex": null,
            "flex_flow": null,
            "grid_area": null,
            "grid_auto_columns": null,
            "grid_auto_flow": null,
            "grid_auto_rows": null,
            "grid_column": null,
            "grid_gap": null,
            "grid_row": null,
            "grid_template_areas": null,
            "grid_template_columns": null,
            "grid_template_rows": null,
            "height": null,
            "justify_content": null,
            "justify_items": null,
            "left": null,
            "margin": null,
            "max_height": null,
            "max_width": null,
            "min_height": null,
            "min_width": null,
            "object_fit": null,
            "object_position": null,
            "order": null,
            "overflow": null,
            "overflow_x": null,
            "overflow_y": null,
            "padding": null,
            "right": null,
            "top": null,
            "visibility": null,
            "width": null
          }
        },
        "254f1104826a4196af0b5f3c36553405": {
          "model_module": "@jupyter-widgets/controls",
          "model_name": "DescriptionStyleModel",
          "model_module_version": "1.5.0",
          "state": {
            "_model_module": "@jupyter-widgets/controls",
            "_model_module_version": "1.5.0",
            "_model_name": "DescriptionStyleModel",
            "_view_count": null,
            "_view_module": "@jupyter-widgets/base",
            "_view_module_version": "1.2.0",
            "_view_name": "StyleView",
            "description_width": ""
          }
        },
        "2cb510d498ec4dc1911305620dca7b53": {
          "model_module": "@jupyter-widgets/controls",
          "model_name": "HBoxModel",
          "model_module_version": "1.5.0",
          "state": {
            "_dom_classes": [],
            "_model_module": "@jupyter-widgets/controls",
            "_model_module_version": "1.5.0",
            "_model_name": "HBoxModel",
            "_view_count": null,
            "_view_module": "@jupyter-widgets/controls",
            "_view_module_version": "1.5.0",
            "_view_name": "HBoxView",
            "box_style": "",
            "children": [
              "IPY_MODEL_f794262d4a714075b624832095883116",
              "IPY_MODEL_be480bc5ed904820a359cda69ebfdf7c",
              "IPY_MODEL_1e7b1f66f5f541c3bdbfb322bff15a6a"
            ],
            "layout": "IPY_MODEL_6c901be6e5f745e296075dd758e6f4da"
          }
        },
        "f794262d4a714075b624832095883116": {
          "model_module": "@jupyter-widgets/controls",
          "model_name": "HTMLModel",
          "model_module_version": "1.5.0",
          "state": {
            "_dom_classes": [],
            "_model_module": "@jupyter-widgets/controls",
            "_model_module_version": "1.5.0",
            "_model_name": "HTMLModel",
            "_view_count": null,
            "_view_module": "@jupyter-widgets/controls",
            "_view_module_version": "1.5.0",
            "_view_name": "HTMLView",
            "description": "",
            "description_tooltip": null,
            "layout": "IPY_MODEL_17bb3640d735475a8b70c1b9b62b140c",
            "placeholder": "​",
            "style": "IPY_MODEL_d93c47014958480ca4820578b92ff0af",
            "value": "Downloading: 100%"
          }
        },
        "be480bc5ed904820a359cda69ebfdf7c": {
          "model_module": "@jupyter-widgets/controls",
          "model_name": "FloatProgressModel",
          "model_module_version": "1.5.0",
          "state": {
            "_dom_classes": [],
            "_model_module": "@jupyter-widgets/controls",
            "_model_module_version": "1.5.0",
            "_model_name": "FloatProgressModel",
            "_view_count": null,
            "_view_module": "@jupyter-widgets/controls",
            "_view_module_version": "1.5.0",
            "_view_name": "ProgressView",
            "bar_style": "success",
            "description": "",
            "description_tooltip": null,
            "layout": "IPY_MODEL_50c20201064b4024ba6bf95d709bb547",
            "max": 231508,
            "min": 0,
            "orientation": "horizontal",
            "style": "IPY_MODEL_463dc4cceda4425ab67b4829aa717a01",
            "value": 231508
          }
        },
        "1e7b1f66f5f541c3bdbfb322bff15a6a": {
          "model_module": "@jupyter-widgets/controls",
          "model_name": "HTMLModel",
          "model_module_version": "1.5.0",
          "state": {
            "_dom_classes": [],
            "_model_module": "@jupyter-widgets/controls",
            "_model_module_version": "1.5.0",
            "_model_name": "HTMLModel",
            "_view_count": null,
            "_view_module": "@jupyter-widgets/controls",
            "_view_module_version": "1.5.0",
            "_view_name": "HTMLView",
            "description": "",
            "description_tooltip": null,
            "layout": "IPY_MODEL_bb75662037b44bd0912f58b50c0301cc",
            "placeholder": "​",
            "style": "IPY_MODEL_da4ddbc132cf40098b8da8efec0bff97",
            "value": " 226k/226k [00:00&lt;00:00, 873kB/s]"
          }
        },
        "6c901be6e5f745e296075dd758e6f4da": {
          "model_module": "@jupyter-widgets/base",
          "model_name": "LayoutModel",
          "model_module_version": "1.2.0",
          "state": {
            "_model_module": "@jupyter-widgets/base",
            "_model_module_version": "1.2.0",
            "_model_name": "LayoutModel",
            "_view_count": null,
            "_view_module": "@jupyter-widgets/base",
            "_view_module_version": "1.2.0",
            "_view_name": "LayoutView",
            "align_content": null,
            "align_items": null,
            "align_self": null,
            "border": null,
            "bottom": null,
            "display": null,
            "flex": null,
            "flex_flow": null,
            "grid_area": null,
            "grid_auto_columns": null,
            "grid_auto_flow": null,
            "grid_auto_rows": null,
            "grid_column": null,
            "grid_gap": null,
            "grid_row": null,
            "grid_template_areas": null,
            "grid_template_columns": null,
            "grid_template_rows": null,
            "height": null,
            "justify_content": null,
            "justify_items": null,
            "left": null,
            "margin": null,
            "max_height": null,
            "max_width": null,
            "min_height": null,
            "min_width": null,
            "object_fit": null,
            "object_position": null,
            "order": null,
            "overflow": null,
            "overflow_x": null,
            "overflow_y": null,
            "padding": null,
            "right": null,
            "top": null,
            "visibility": null,
            "width": null
          }
        },
        "17bb3640d735475a8b70c1b9b62b140c": {
          "model_module": "@jupyter-widgets/base",
          "model_name": "LayoutModel",
          "model_module_version": "1.2.0",
          "state": {
            "_model_module": "@jupyter-widgets/base",
            "_model_module_version": "1.2.0",
            "_model_name": "LayoutModel",
            "_view_count": null,
            "_view_module": "@jupyter-widgets/base",
            "_view_module_version": "1.2.0",
            "_view_name": "LayoutView",
            "align_content": null,
            "align_items": null,
            "align_self": null,
            "border": null,
            "bottom": null,
            "display": null,
            "flex": null,
            "flex_flow": null,
            "grid_area": null,
            "grid_auto_columns": null,
            "grid_auto_flow": null,
            "grid_auto_rows": null,
            "grid_column": null,
            "grid_gap": null,
            "grid_row": null,
            "grid_template_areas": null,
            "grid_template_columns": null,
            "grid_template_rows": null,
            "height": null,
            "justify_content": null,
            "justify_items": null,
            "left": null,
            "margin": null,
            "max_height": null,
            "max_width": null,
            "min_height": null,
            "min_width": null,
            "object_fit": null,
            "object_position": null,
            "order": null,
            "overflow": null,
            "overflow_x": null,
            "overflow_y": null,
            "padding": null,
            "right": null,
            "top": null,
            "visibility": null,
            "width": null
          }
        },
        "d93c47014958480ca4820578b92ff0af": {
          "model_module": "@jupyter-widgets/controls",
          "model_name": "DescriptionStyleModel",
          "model_module_version": "1.5.0",
          "state": {
            "_model_module": "@jupyter-widgets/controls",
            "_model_module_version": "1.5.0",
            "_model_name": "DescriptionStyleModel",
            "_view_count": null,
            "_view_module": "@jupyter-widgets/base",
            "_view_module_version": "1.2.0",
            "_view_name": "StyleView",
            "description_width": ""
          }
        },
        "50c20201064b4024ba6bf95d709bb547": {
          "model_module": "@jupyter-widgets/base",
          "model_name": "LayoutModel",
          "model_module_version": "1.2.0",
          "state": {
            "_model_module": "@jupyter-widgets/base",
            "_model_module_version": "1.2.0",
            "_model_name": "LayoutModel",
            "_view_count": null,
            "_view_module": "@jupyter-widgets/base",
            "_view_module_version": "1.2.0",
            "_view_name": "LayoutView",
            "align_content": null,
            "align_items": null,
            "align_self": null,
            "border": null,
            "bottom": null,
            "display": null,
            "flex": null,
            "flex_flow": null,
            "grid_area": null,
            "grid_auto_columns": null,
            "grid_auto_flow": null,
            "grid_auto_rows": null,
            "grid_column": null,
            "grid_gap": null,
            "grid_row": null,
            "grid_template_areas": null,
            "grid_template_columns": null,
            "grid_template_rows": null,
            "height": null,
            "justify_content": null,
            "justify_items": null,
            "left": null,
            "margin": null,
            "max_height": null,
            "max_width": null,
            "min_height": null,
            "min_width": null,
            "object_fit": null,
            "object_position": null,
            "order": null,
            "overflow": null,
            "overflow_x": null,
            "overflow_y": null,
            "padding": null,
            "right": null,
            "top": null,
            "visibility": null,
            "width": null
          }
        },
        "463dc4cceda4425ab67b4829aa717a01": {
          "model_module": "@jupyter-widgets/controls",
          "model_name": "ProgressStyleModel",
          "model_module_version": "1.5.0",
          "state": {
            "_model_module": "@jupyter-widgets/controls",
            "_model_module_version": "1.5.0",
            "_model_name": "ProgressStyleModel",
            "_view_count": null,
            "_view_module": "@jupyter-widgets/base",
            "_view_module_version": "1.2.0",
            "_view_name": "StyleView",
            "bar_color": null,
            "description_width": ""
          }
        },
        "bb75662037b44bd0912f58b50c0301cc": {
          "model_module": "@jupyter-widgets/base",
          "model_name": "LayoutModel",
          "model_module_version": "1.2.0",
          "state": {
            "_model_module": "@jupyter-widgets/base",
            "_model_module_version": "1.2.0",
            "_model_name": "LayoutModel",
            "_view_count": null,
            "_view_module": "@jupyter-widgets/base",
            "_view_module_version": "1.2.0",
            "_view_name": "LayoutView",
            "align_content": null,
            "align_items": null,
            "align_self": null,
            "border": null,
            "bottom": null,
            "display": null,
            "flex": null,
            "flex_flow": null,
            "grid_area": null,
            "grid_auto_columns": null,
            "grid_auto_flow": null,
            "grid_auto_rows": null,
            "grid_column": null,
            "grid_gap": null,
            "grid_row": null,
            "grid_template_areas": null,
            "grid_template_columns": null,
            "grid_template_rows": null,
            "height": null,
            "justify_content": null,
            "justify_items": null,
            "left": null,
            "margin": null,
            "max_height": null,
            "max_width": null,
            "min_height": null,
            "min_width": null,
            "object_fit": null,
            "object_position": null,
            "order": null,
            "overflow": null,
            "overflow_x": null,
            "overflow_y": null,
            "padding": null,
            "right": null,
            "top": null,
            "visibility": null,
            "width": null
          }
        },
        "da4ddbc132cf40098b8da8efec0bff97": {
          "model_module": "@jupyter-widgets/controls",
          "model_name": "DescriptionStyleModel",
          "model_module_version": "1.5.0",
          "state": {
            "_model_module": "@jupyter-widgets/controls",
            "_model_module_version": "1.5.0",
            "_model_name": "DescriptionStyleModel",
            "_view_count": null,
            "_view_module": "@jupyter-widgets/base",
            "_view_module_version": "1.2.0",
            "_view_name": "StyleView",
            "description_width": ""
          }
        },
        "b414c3633b6747fbbbe7bd267b3a6348": {
          "model_module": "@jupyter-widgets/controls",
          "model_name": "HBoxModel",
          "model_module_version": "1.5.0",
          "state": {
            "_dom_classes": [],
            "_model_module": "@jupyter-widgets/controls",
            "_model_module_version": "1.5.0",
            "_model_name": "HBoxModel",
            "_view_count": null,
            "_view_module": "@jupyter-widgets/controls",
            "_view_module_version": "1.5.0",
            "_view_name": "HBoxView",
            "box_style": "",
            "children": [
              "IPY_MODEL_1212d74b78a44961b3638312469127ac",
              "IPY_MODEL_56b39b8f94e64d1daf0e9c1c84a485ab",
              "IPY_MODEL_3f6356fd733c49ec877973ebaa5694a1"
            ],
            "layout": "IPY_MODEL_c19c4125653d4bd389bf9dffcb9e7136"
          }
        },
        "1212d74b78a44961b3638312469127ac": {
          "model_module": "@jupyter-widgets/controls",
          "model_name": "HTMLModel",
          "model_module_version": "1.5.0",
          "state": {
            "_dom_classes": [],
            "_model_module": "@jupyter-widgets/controls",
            "_model_module_version": "1.5.0",
            "_model_name": "HTMLModel",
            "_view_count": null,
            "_view_module": "@jupyter-widgets/controls",
            "_view_module_version": "1.5.0",
            "_view_name": "HTMLView",
            "description": "",
            "description_tooltip": null,
            "layout": "IPY_MODEL_7333e5d4fee847318bda04defca22c5c",
            "placeholder": "​",
            "style": "IPY_MODEL_a4c8b91d6c114f5fa036808c51dbbbda",
            "value": "Downloading: 100%"
          }
        },
        "56b39b8f94e64d1daf0e9c1c84a485ab": {
          "model_module": "@jupyter-widgets/controls",
          "model_name": "FloatProgressModel",
          "model_module_version": "1.5.0",
          "state": {
            "_dom_classes": [],
            "_model_module": "@jupyter-widgets/controls",
            "_model_module_version": "1.5.0",
            "_model_name": "FloatProgressModel",
            "_view_count": null,
            "_view_module": "@jupyter-widgets/controls",
            "_view_module_version": "1.5.0",
            "_view_name": "ProgressView",
            "bar_style": "success",
            "description": "",
            "description_tooltip": null,
            "layout": "IPY_MODEL_77ab0c580b1648a5a66fcbf9790797b5",
            "max": 112,
            "min": 0,
            "orientation": "horizontal",
            "style": "IPY_MODEL_9f8a07ed03914006a5badaf4189973b4",
            "value": 112
          }
        },
        "3f6356fd733c49ec877973ebaa5694a1": {
          "model_module": "@jupyter-widgets/controls",
          "model_name": "HTMLModel",
          "model_module_version": "1.5.0",
          "state": {
            "_dom_classes": [],
            "_model_module": "@jupyter-widgets/controls",
            "_model_module_version": "1.5.0",
            "_model_name": "HTMLModel",
            "_view_count": null,
            "_view_module": "@jupyter-widgets/controls",
            "_view_module_version": "1.5.0",
            "_view_name": "HTMLView",
            "description": "",
            "description_tooltip": null,
            "layout": "IPY_MODEL_a0aff7919c834455a4775a9f40a45bf9",
            "placeholder": "​",
            "style": "IPY_MODEL_fd1074d6811e4186b12120b703dd7c85",
            "value": " 112/112 [00:00&lt;00:00, 2.61kB/s]"
          }
        },
        "c19c4125653d4bd389bf9dffcb9e7136": {
          "model_module": "@jupyter-widgets/base",
          "model_name": "LayoutModel",
          "model_module_version": "1.2.0",
          "state": {
            "_model_module": "@jupyter-widgets/base",
            "_model_module_version": "1.2.0",
            "_model_name": "LayoutModel",
            "_view_count": null,
            "_view_module": "@jupyter-widgets/base",
            "_view_module_version": "1.2.0",
            "_view_name": "LayoutView",
            "align_content": null,
            "align_items": null,
            "align_self": null,
            "border": null,
            "bottom": null,
            "display": null,
            "flex": null,
            "flex_flow": null,
            "grid_area": null,
            "grid_auto_columns": null,
            "grid_auto_flow": null,
            "grid_auto_rows": null,
            "grid_column": null,
            "grid_gap": null,
            "grid_row": null,
            "grid_template_areas": null,
            "grid_template_columns": null,
            "grid_template_rows": null,
            "height": null,
            "justify_content": null,
            "justify_items": null,
            "left": null,
            "margin": null,
            "max_height": null,
            "max_width": null,
            "min_height": null,
            "min_width": null,
            "object_fit": null,
            "object_position": null,
            "order": null,
            "overflow": null,
            "overflow_x": null,
            "overflow_y": null,
            "padding": null,
            "right": null,
            "top": null,
            "visibility": null,
            "width": null
          }
        },
        "7333e5d4fee847318bda04defca22c5c": {
          "model_module": "@jupyter-widgets/base",
          "model_name": "LayoutModel",
          "model_module_version": "1.2.0",
          "state": {
            "_model_module": "@jupyter-widgets/base",
            "_model_module_version": "1.2.0",
            "_model_name": "LayoutModel",
            "_view_count": null,
            "_view_module": "@jupyter-widgets/base",
            "_view_module_version": "1.2.0",
            "_view_name": "LayoutView",
            "align_content": null,
            "align_items": null,
            "align_self": null,
            "border": null,
            "bottom": null,
            "display": null,
            "flex": null,
            "flex_flow": null,
            "grid_area": null,
            "grid_auto_columns": null,
            "grid_auto_flow": null,
            "grid_auto_rows": null,
            "grid_column": null,
            "grid_gap": null,
            "grid_row": null,
            "grid_template_areas": null,
            "grid_template_columns": null,
            "grid_template_rows": null,
            "height": null,
            "justify_content": null,
            "justify_items": null,
            "left": null,
            "margin": null,
            "max_height": null,
            "max_width": null,
            "min_height": null,
            "min_width": null,
            "object_fit": null,
            "object_position": null,
            "order": null,
            "overflow": null,
            "overflow_x": null,
            "overflow_y": null,
            "padding": null,
            "right": null,
            "top": null,
            "visibility": null,
            "width": null
          }
        },
        "a4c8b91d6c114f5fa036808c51dbbbda": {
          "model_module": "@jupyter-widgets/controls",
          "model_name": "DescriptionStyleModel",
          "model_module_version": "1.5.0",
          "state": {
            "_model_module": "@jupyter-widgets/controls",
            "_model_module_version": "1.5.0",
            "_model_name": "DescriptionStyleModel",
            "_view_count": null,
            "_view_module": "@jupyter-widgets/base",
            "_view_module_version": "1.2.0",
            "_view_name": "StyleView",
            "description_width": ""
          }
        },
        "77ab0c580b1648a5a66fcbf9790797b5": {
          "model_module": "@jupyter-widgets/base",
          "model_name": "LayoutModel",
          "model_module_version": "1.2.0",
          "state": {
            "_model_module": "@jupyter-widgets/base",
            "_model_module_version": "1.2.0",
            "_model_name": "LayoutModel",
            "_view_count": null,
            "_view_module": "@jupyter-widgets/base",
            "_view_module_version": "1.2.0",
            "_view_name": "LayoutView",
            "align_content": null,
            "align_items": null,
            "align_self": null,
            "border": null,
            "bottom": null,
            "display": null,
            "flex": null,
            "flex_flow": null,
            "grid_area": null,
            "grid_auto_columns": null,
            "grid_auto_flow": null,
            "grid_auto_rows": null,
            "grid_column": null,
            "grid_gap": null,
            "grid_row": null,
            "grid_template_areas": null,
            "grid_template_columns": null,
            "grid_template_rows": null,
            "height": null,
            "justify_content": null,
            "justify_items": null,
            "left": null,
            "margin": null,
            "max_height": null,
            "max_width": null,
            "min_height": null,
            "min_width": null,
            "object_fit": null,
            "object_position": null,
            "order": null,
            "overflow": null,
            "overflow_x": null,
            "overflow_y": null,
            "padding": null,
            "right": null,
            "top": null,
            "visibility": null,
            "width": null
          }
        },
        "9f8a07ed03914006a5badaf4189973b4": {
          "model_module": "@jupyter-widgets/controls",
          "model_name": "ProgressStyleModel",
          "model_module_version": "1.5.0",
          "state": {
            "_model_module": "@jupyter-widgets/controls",
            "_model_module_version": "1.5.0",
            "_model_name": "ProgressStyleModel",
            "_view_count": null,
            "_view_module": "@jupyter-widgets/base",
            "_view_module_version": "1.2.0",
            "_view_name": "StyleView",
            "bar_color": null,
            "description_width": ""
          }
        },
        "a0aff7919c834455a4775a9f40a45bf9": {
          "model_module": "@jupyter-widgets/base",
          "model_name": "LayoutModel",
          "model_module_version": "1.2.0",
          "state": {
            "_model_module": "@jupyter-widgets/base",
            "_model_module_version": "1.2.0",
            "_model_name": "LayoutModel",
            "_view_count": null,
            "_view_module": "@jupyter-widgets/base",
            "_view_module_version": "1.2.0",
            "_view_name": "LayoutView",
            "align_content": null,
            "align_items": null,
            "align_self": null,
            "border": null,
            "bottom": null,
            "display": null,
            "flex": null,
            "flex_flow": null,
            "grid_area": null,
            "grid_auto_columns": null,
            "grid_auto_flow": null,
            "grid_auto_rows": null,
            "grid_column": null,
            "grid_gap": null,
            "grid_row": null,
            "grid_template_areas": null,
            "grid_template_columns": null,
            "grid_template_rows": null,
            "height": null,
            "justify_content": null,
            "justify_items": null,
            "left": null,
            "margin": null,
            "max_height": null,
            "max_width": null,
            "min_height": null,
            "min_width": null,
            "object_fit": null,
            "object_position": null,
            "order": null,
            "overflow": null,
            "overflow_x": null,
            "overflow_y": null,
            "padding": null,
            "right": null,
            "top": null,
            "visibility": null,
            "width": null
          }
        },
        "fd1074d6811e4186b12120b703dd7c85": {
          "model_module": "@jupyter-widgets/controls",
          "model_name": "DescriptionStyleModel",
          "model_module_version": "1.5.0",
          "state": {
            "_model_module": "@jupyter-widgets/controls",
            "_model_module_version": "1.5.0",
            "_model_name": "DescriptionStyleModel",
            "_view_count": null,
            "_view_module": "@jupyter-widgets/base",
            "_view_module_version": "1.2.0",
            "_view_name": "StyleView",
            "description_width": ""
          }
        }
      }
    }
  },
  "nbformat": 4,
  "nbformat_minor": 0
}